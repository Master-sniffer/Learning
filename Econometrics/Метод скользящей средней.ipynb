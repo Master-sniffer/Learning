{
 "cells": [
  {
   "cell_type": "code",
   "execution_count": 2,
   "metadata": {},
   "outputs": [],
   "source": [
    "import numpy as np\n",
    "import matplotlib.pyplot as plt"
   ]
  },
  {
   "cell_type": "code",
   "execution_count": 3,
   "metadata": {},
   "outputs": [],
   "source": [
    "arr = np.array([600,440,500,900,720,480,600,1000,800,560,640,1100,900,660,700,1080])\n",
    "quartal_number = np.array([1,2,3,4,5,6,7,8,9,10,11,12,13,14,15,16])"
   ]
  },
  {
   "cell_type": "code",
   "execution_count": 4,
   "metadata": {},
   "outputs": [
    {
     "name": "stdout",
     "output_type": "stream",
     "text": [
      "[600 440 500 900]\n",
      "[440 500 900 720]\n",
      "[500 900 720 480]\n",
      "[900 720 480 600]\n",
      "[ 720  480  600 1000]\n",
      "[ 480  600 1000  800]\n",
      "[ 600 1000  800  560]\n",
      "[1000  800  560  640]\n",
      "[ 800  560  640 1100]\n",
      "[ 560  640 1100  900]\n",
      "[ 640 1100  900  660]\n",
      "[1100  900  660  700]\n",
      "[ 900  660  700 1080]\n"
     ]
    }
   ],
   "source": [
    "i = 0\n",
    "j = 4\n",
    "qurt=np.array([])\n",
    "for i in range(13):\n",
    "    print(arr[i:j])\n",
    "    qurt = np.append(qurt,np.sum(arr[i:j]))\n",
    "    i+=1\n",
    "    j+=1"
   ]
  },
  {
   "cell_type": "code",
   "execution_count": 5,
   "metadata": {},
   "outputs": [],
   "source": [
    "moving_mean = qurt / 4"
   ]
  },
  {
   "cell_type": "code",
   "execution_count": 6,
   "metadata": {},
   "outputs": [
    {
     "name": "stdout",
     "output_type": "stream",
     "text": [
      "[610. 640.]\n",
      "[640. 650.]\n",
      "[650. 675.]\n",
      "[675. 700.]\n",
      "[700. 720.]\n",
      "[720. 740.]\n",
      "[740. 750.]\n",
      "[750. 775.]\n",
      "[775. 800.]\n",
      "[800. 825.]\n",
      "[825. 840.]\n",
      "[840. 835.]\n"
     ]
    },
    {
     "data": {
      "text/plain": [
       "array([625. , 645. , 662.5, 687.5, 710. , 730. , 745. , 762.5, 787.5,\n",
       "       812.5, 832.5, 837.5])"
      ]
     },
     "execution_count": 6,
     "metadata": {},
     "output_type": "execute_result"
    }
   ],
   "source": [
    "i = 0\n",
    "j = 2\n",
    "center_moving_mean = np.array([])\n",
    "for i in range(12):\n",
    "    print(moving_mean[i:j])\n",
    "    center_moving_mean = np.append(center_moving_mean,np.mean(moving_mean[i:j]))\n",
    "    i+=1\n",
    "    j+=1\n",
    "center_moving_mean"
   ]
  },
  {
   "cell_type": "code",
   "execution_count": 7,
   "metadata": {},
   "outputs": [
    {
     "data": {
      "text/plain": [
       "array([-125. ,  255. ,   57.5, -207.5, -110. ,  270. ,   55. , -202.5,\n",
       "       -147.5,  287.5,   67.5, -177.5])"
      ]
     },
     "execution_count": 7,
     "metadata": {},
     "output_type": "execute_result"
    }
   ],
   "source": [
    "season_comp_mark = np.subtract(arr[2:14], center_moving_mean)\n",
    "season_comp_mark"
   ]
  },
  {
   "cell_type": "code",
   "execution_count": 8,
   "metadata": {},
   "outputs": [],
   "source": [
    "year_1 = np.array([season_comp_mark[:2]])\n",
    "year_2 = np.array([season_comp_mark[2:6]])\n",
    "year_3 = np.array([season_comp_mark[6:10]])\n",
    "year_4 = np.array([season_comp_mark[10:]])"
   ]
  },
  {
   "cell_type": "code",
   "execution_count": 9,
   "metadata": {},
   "outputs": [],
   "source": [
    "qurt_1 = np.array([season_comp_mark[2],season_comp_mark[6],season_comp_mark[10]])\n",
    "qurt_2 = np.array([season_comp_mark[3],season_comp_mark[7],season_comp_mark[11]])\n",
    "qurt_3 = np.array([season_comp_mark[0],season_comp_mark[4],season_comp_mark[8]])\n",
    "qurt_4 = np.array([season_comp_mark[1],season_comp_mark[5],season_comp_mark[9]])"
   ]
  },
  {
   "cell_type": "code",
   "execution_count": 10,
   "metadata": {},
   "outputs": [],
   "source": [
    "qurt_1_sum = np.sum(qurt_1)\n",
    "qurt_2_sum = np.sum(qurt_2)\n",
    "qurt_3_sum = np.sum(qurt_3)\n",
    "qurt_4_sum = np.sum(qurt_4)"
   ]
  },
  {
   "cell_type": "code",
   "execution_count": 11,
   "metadata": {},
   "outputs": [],
   "source": [
    "qurt_1_mean = np.mean(qurt_1)\n",
    "qurt_2_mean = np.mean(qurt_2)\n",
    "qurt_3_mean = np.mean(qurt_3)\n",
    "qurt_4_mean = np.mean(qurt_4)"
   ]
  },
  {
   "cell_type": "code",
   "execution_count": 12,
   "metadata": {},
   "outputs": [],
   "source": [
    "k = (qurt_1_mean+qurt_2_mean+qurt_3_mean+qurt_4_mean)/4"
   ]
  },
  {
   "cell_type": "code",
   "execution_count": 13,
   "metadata": {},
   "outputs": [],
   "source": [
    "st_1 = qurt_1_mean - k\n",
    "st_2 = qurt_2_mean - k\n",
    "st_3 = qurt_3_mean - k\n",
    "st_4 = qurt_4_mean - k"
   ]
  },
  {
   "cell_type": "code",
   "execution_count": 14,
   "metadata": {},
   "outputs": [],
   "source": [
    "St = np.array([])\n",
    "for i in range(4):\n",
    "    St = np.append(St,st_1)\n",
    "    St = np.append(St,st_2)\n",
    "    St = np.append(St,st_3)\n",
    "    St = np.append(St,st_4)"
   ]
  },
  {
   "cell_type": "code",
   "execution_count": 15,
   "metadata": {},
   "outputs": [],
   "source": [
    "t_E_Yt_St=np.subtract(arr, St)\n",
    "T = np.polyfit(quartal_number,t_E_Yt_St,1)\n",
    "T_moving = T[1]+T[0]*quartal_number\n",
    "T_S = St + T_moving\n",
    "E = np.subtract(arr,T_S)\n"
   ]
  },
  {
   "cell_type": "code",
   "execution_count": 16,
   "metadata": {},
   "outputs": [],
   "source": [
    "def line_draw(x,y,y2):\n",
    "    plt.plot(x,y,color = '#FFE240')\n",
    "    plt.plot(x,y2,color = 'blue')\n",
    "    plt.ylabel('FOOD')\n",
    "    plt.xlabel('QUARTAL')\n",
    "    plt.show()"
   ]
  },
  {
   "cell_type": "code",
   "execution_count": 17,
   "metadata": {},
   "outputs": [
    {
     "data": {
      "image/png": "[encoded data removed]",
      "text/plain": [
       "<Figure size 432x288 with 1 Axes>"
      ]
     },
     "metadata": {
      "needs_background": "light"
     },
     "output_type": "display_data"
    }
   ],
   "source": [
    "line_draw(quartal_number,T_moving,t_E_Yt_St)"
   ]
  },
  {
   "cell_type": "code",
   "execution_count": null,
   "metadata": {},
   "outputs": [],
   "source": []
  }
 ],
 "metadata": {
  "kernelspec": {
   "display_name": "Python 3",
   "language": "python",
   "name": "python3"
  },
  "language_info": {
   "codemirror_mode": {
    "name": "ipython",
    "version": 3
   },
   "file_extension": ".py",
   "mimetype": "text/x-python",
   "name": "python",
   "nbconvert_exporter": "python",
   "pygments_lexer": "ipython3",
   "version": "3.8.8"
  }
 },
 "nbformat": 4,
 "nbformat_minor": 4
}
