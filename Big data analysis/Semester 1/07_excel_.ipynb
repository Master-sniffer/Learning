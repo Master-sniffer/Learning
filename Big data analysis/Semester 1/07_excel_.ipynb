{
  "nbformat": 4,
  "nbformat_minor": 0,
  "metadata": {
    "kernelspec": {
      "display_name": "Python 3",
      "language": "python",
      "name": "python3"
    },
    "language_info": {
      "codemirror_mode": {
        "name": "ipython",
        "version": 3
      },
      "file_extension": ".py",
      "mimetype": "text/x-python",
      "name": "python",
      "nbconvert_exporter": "python",
      "pygments_lexer": "ipython3",
      "version": "3.8.5"
    },
    "colab": {
      "name": "07_excel_.ipynb",
      "provenance": []
    }
  },
  "cells": [
    {
      "cell_type": "markdown",
      "metadata": {
        "id": "g53vax7rA91i"
      },
      "source": [
        "# Работа с Excel"
      ]
    },
    {
      "cell_type": "markdown",
      "metadata": {
        "id": "g1i3ZAYqA91k"
      },
      "source": [
        "Материалы:\n",
        "* Макрушин С.В. Лекция 7: Работа с Excel\n",
        "* https://docs.xlwings.org/en/stable/quickstart.html\n",
        "* https://nbviewer.jupyter.org/github/pybokeh/jupyter_notebooks/blob/master/xlwings/Excel_Formatting.ipynb#search_text\n"
      ]
    },
    {
      "cell_type": "markdown",
      "metadata": {
        "id": "tZiCjq28A91l"
      },
      "source": [
        "## Задачи для совместного разбора"
      ]
    },
    {
      "cell_type": "code",
      "metadata": {
        "id": "SW3LFnopA91m"
      },
      "source": [
        "import xlwings as xw\n",
        "import numpy as np"
      ],
      "execution_count": null,
      "outputs": []
    },
    {
      "cell_type": "code",
      "metadata": {
        "id": "gIVkTr1CA91n"
      },
      "source": [
        ""
      ],
      "execution_count": null,
      "outputs": []
    },
    {
      "cell_type": "code",
      "metadata": {
        "id": "dp1sc2dBA91n"
      },
      "source": [
        "xw.__version__"
      ],
      "execution_count": null,
      "outputs": []
    },
    {
      "cell_type": "code",
      "metadata": {
        "id": "KVvanvhsA91o"
      },
      "source": [
        "!pip install xlwings"
      ],
      "execution_count": null,
      "outputs": []
    },
    {
      "cell_type": "code",
      "metadata": {
        "id": "ilVTZDIYA91p"
      },
      "source": [
        "xw.__version__"
      ],
      "execution_count": null,
      "outputs": []
    },
    {
      "cell_type": "markdown",
      "metadata": {
        "id": "szNHQyqrA91q"
      },
      "source": [
        "1. На листе \"Рецептура\" файла `себестоимостьА_в1.xlsx` для области \"Пшеничный хлеб\" рассчитать себестоимость всех видов продукции."
      ]
    },
    {
      "cell_type": "code",
      "metadata": {
        "id": "qs5OjDEuA91q",
        "outputId": "da1c07c9-3d14-4a5e-f34d-dcd4f9e845d2"
      },
      "source": [
        ""
      ],
      "execution_count": null,
      "outputs": [
        {
          "data": {
            "text/plain": [
              "<Sheet [себестоимостьА_в1.xlsx]Рецептура>"
            ]
          },
          "execution_count": 6,
          "metadata": {},
          "output_type": "execute_result"
        }
      ]
    },
    {
      "cell_type": "code",
      "metadata": {
        "id": "yQnWVkb-A91r",
        "outputId": "a88cb457-dbfa-41c6-c4cf-b0ca1a9714aa"
      },
      "source": [
        ""
      ],
      "execution_count": null,
      "outputs": [
        {
          "data": {
            "text/plain": [
              "array([21.48 , 16.525, 17.423, 18.085])"
            ]
          },
          "execution_count": 8,
          "metadata": {},
          "output_type": "execute_result"
        }
      ]
    },
    {
      "cell_type": "markdown",
      "metadata": {
        "id": "kGPvJesfA91r"
      },
      "source": [
        "2. Результаты расчетов 1.1 сохранить в отдельном столбце области \"Пшеничный хлеб\""
      ]
    },
    {
      "cell_type": "code",
      "metadata": {
        "id": "XpYTdCgiA91s"
      },
      "source": [
        ""
      ],
      "execution_count": null,
      "outputs": []
    },
    {
      "cell_type": "markdown",
      "metadata": {
        "id": "iGY7I1AiA91s"
      },
      "source": [
        "3. Приблизить форматирование столбца, добавленного в задаче 2 к оформлению всей области."
      ]
    },
    {
      "cell_type": "code",
      "metadata": {
        "id": "GwRWxF4wA91t"
      },
      "source": [
        ""
      ],
      "execution_count": null,
      "outputs": []
    },
    {
      "cell_type": "markdown",
      "metadata": {
        "id": "SxC9SwFrA91t"
      },
      "source": [
        "4. Выполнить 3 с помощью \"протягиваемых\" формул."
      ]
    },
    {
      "cell_type": "code",
      "metadata": {
        "id": "mJpjhJWoA91t",
        "outputId": "6ba27f93-fe40-4189-d2fb-08a73fea8369"
      },
      "source": [
        ""
      ],
      "execution_count": null,
      "outputs": [
        {
          "data": {
            "text/plain": [
              "True"
            ]
          },
          "execution_count": 11,
          "metadata": {},
          "output_type": "execute_result"
        }
      ]
    },
    {
      "cell_type": "markdown",
      "metadata": {
        "id": "5zYpuLpVA91u"
      },
      "source": [
        "## Лабораторная работа 7"
      ]
    },
    {
      "cell_type": "markdown",
      "metadata": {
        "id": "9ln7lcdMA91u"
      },
      "source": [
        "1. Загрузите данные из файлов `reviews_sample.csv` (__ЛР2__) и `recipes_sample_with_tags_ingredients.csv` (__ЛР5__) в виде `pd.DataFrame`. Обратите внимание на корректное считывание столбца(ов) с индексами. Оставьте в таблице с рецептами следующие столбцы: `id`, `name`, `minutes`, `submitted`, `description`, `n_ingredients`"
      ]
    },
    {
      "cell_type": "code",
      "metadata": {
        "id": "PpGwlYUeA91u"
      },
      "source": [
        "import os \n",
        "import pandas as pd\n",
        "path = \"recipes.xlsx\"\n",
        "recipes_excel = xw.Book(path)\n",
        "\n",
        "reviews_sample = pd.read_csv(\"reviews_sample.csv\", sep=\",\", parse_dates=['date'])\n",
        "reviews_sample = reviews_sample.rename(columns={\"Unnamed: 0\": \"index\"})\n",
        "reviews_sample = reviews_sample.set_index(\"index\")\n",
        "print (reviews_sample)\n",
        "\n",
        "recipes_sample_with_tags_ingredients = pd.read_csv(\"recipes_sample_with_tags_ingredients.csv\", sep=\",\", parse_dates=['submitted'])\n",
        "recipes_sample_with_tags_ingredients = recipes_sample_with_tags_ingredients.rename(columns={\"Unnamed: 0\": \"index\"})\n",
        "recipes_sample_with_tags_ingredients = recipes_sample_with_tags_ingredients.set_index(\"index\")\n",
        "recipes_sample_with_tags_ingredients.drop([\"contributor_id\", \"n_steps\",\"n_tags\",\"tags\",\"ingredients\"], axis=1, inplace=True)\n",
        "print (recipes_sample_with_tags_ingredients)"
      ],
      "execution_count": null,
      "outputs": []
    },
    {
      "cell_type": "markdown",
      "metadata": {
        "id": "e3e9c2XZA91v"
      },
      "source": [
        "2. Случайным образом выберите 5% строк из каждой таблицы и сохраните две таблицы на разные листы в один файл `recipes.xlsx`. Дайте листам названия \"Рецепты\" и \"Отзывы\", соответствующие содержанию таблиц. "
      ]
    },
    {
      "cell_type": "code",
      "metadata": {
        "id": "E14kjpt4A91w"
      },
      "source": [
        "new_recipes = recipes_sample_with_tags_ingredients.sample(frac = 0.05)\n",
        "new_reviews = reviews_sample.sample(frac = 0.05) \n",
        "print (new_recipes)\n",
        "print (new_reviews)\n",
        "recipes_sheet = recipes_excel.sheets.add(\"Recipes\")\n",
        "reviews_sheet = recipes_excel.sheets.add(\"Reviews\")\n",
        "recipes_sheet.range(\"A1\").value = new_recipes\n",
        "reviews_sheet.range(\"A1\").value = new_reviews\n",
        "recipes_excel.sheets[\"Sheet1\"].delete()"
      ],
      "execution_count": null,
      "outputs": []
    },
    {
      "cell_type": "markdown",
      "metadata": {
        "id": "izRS2XNVA91x"
      },
      "source": [
        "3. Используя `xlwings`, добавьте на лист `Рецепты` столбец `seconds_assign`, показывающий время выполнения рецепта в секундах. Выполните задание при помощи присваивания массива значений диапазону ячеек."
      ]
    },
    {
      "cell_type": "code",
      "metadata": {
        "id": "Zdr7Q5fTA91x"
      },
      "source": [
        "recipes_sheet.range(\"J1\").value=\"seconds_assign\"\n",
        "minutes = recipes_sheet.range(\"D2:D1501\").options(np.array).value\n",
        "seconds = minutes * 60\n",
        "recipes_sheet.range(\"J2\").options(transpose=True).value = seconds"
      ],
      "execution_count": null,
      "outputs": []
    },
    {
      "cell_type": "markdown",
      "metadata": {
        "id": "XUBF02X4A91x"
      },
      "source": [
        "4. Используя `xlwings`, добавьте на лист `Рецепты` столбец `seconds_formula`, показывающий время выполнения рецепта в секундах. Выполните задание при помощи формул Excel."
      ]
    },
    {
      "cell_type": "code",
      "metadata": {
        "id": "_C8wScSLA91y"
      },
      "source": [
        "from xlwings.constants import AutoFillType\n",
        "recipes_sheet.range(\"L1\").value=\"seconds_formula\"\n",
        "recipes_sheet.range(\"L2\").formula=\"=D2*60\"\n",
        "recipes_sheet.range(\"L2\").api.AutoFill(recipes_sheet.range(\"L2:L1501\").api, AutoFillType.xlFillDefault)"
      ],
      "execution_count": null,
      "outputs": []
    },
    {
      "cell_type": "markdown",
      "metadata": {
        "id": "nEH4pQyuA91y"
      },
      "source": [
        "5. Добавьте на лист `Рецепты`  столбец `n_reviews`, содержащий кол-во отзывов для этого рецепта. Выполните задание при помощи формул Excel."
      ]
    },
    {
      "cell_type": "code",
      "metadata": {
        "id": "Uxoz6gMbA91y"
      },
      "source": [
        "recipes_sheet.range(\"N1\").value=\"n_reviews\"\n",
        "recipes_sheet.range('N2').formula = '=COUNTIF(Reviews!$C$2:Reviews!$C$6336, \"=\"&Recipes!C2)'\n",
        "recipes_sheet.range('N2').api.AutoFill(recipes_sheet.range('N2:N1501').api, AutoFillType.xlFillDefault)"
      ],
      "execution_count": null,
      "outputs": []
    },
    {
      "cell_type": "markdown",
      "metadata": {
        "id": "pjM1moUCA91y"
      },
      "source": [
        "6. Сделайте названия всех добавленных столбцов полужирными и выровняйте по центру ячейки."
      ]
    },
    {
      "cell_type": "code",
      "metadata": {
        "id": "Nr5ZKNQYA91y"
      },
      "source": [
        "from xlwings import constants \n",
        "recipes_sheet['L1'].font.bold = True\n",
        "recipes_sheet['J1'].api.HorizontalAlignment = constants.HAlign.xlHAlignCenter\n",
        "recipes_sheet['J1'].font.bold = True\n",
        "recipes_sheet['L1'].api.HorizontalAlignment = constants.HAlign.xlHAlignCenter\n",
        "recipes_sheet['N1'].font.bold = True\n",
        "recipes_sheet['N1'].api.HorizontalAlignment = constants.HAlign.xlHAlignCenter\n",
        "recipes_sheet.range('L1').font.bold = True"
      ],
      "execution_count": null,
      "outputs": []
    },
    {
      "cell_type": "markdown",
      "metadata": {
        "id": "8Z445E1aA91z"
      },
      "source": [
        "7. Раскрасьте ячейки столбца `minutes` в соответствии со следующим правилом: если рецепт выполняется быстрее 5 минут, то цвет - зеленый; от 5 до 10 минут - жёлтый; и больше 10 - красный."
      ]
    },
    {
      "cell_type": "code",
      "metadata": {
        "id": "mzjB4XEdA91z"
      },
      "source": [
        "\n",
        "def color_of_minutes(minutes):\n",
        "    if (minutes < 5):\n",
        "        R = 0\n",
        "        G = 255\n",
        "        B = 0\n",
        "\n",
        "\n",
        "    elif (5 <= minutes <= 10):\n",
        "        R = 255\n",
        "        G = 255\n",
        "        B = 0\n",
        "\n",
        "\n",
        "    elif (minutes > 10):\n",
        "        R = 255\n",
        "        G = 0\n",
        "        B = 0\n",
        "    return (R,G,B)\n",
        "\n",
        "\n",
        "for v in recipes_sheet.range(\"D2:D1501\"): \n",
        "    recipes_sheet[v.get_address()].color = color_of_minutes(v.value)\n",
        "    "
      ],
      "execution_count": null,
      "outputs": []
    },
    {
      "cell_type": "markdown",
      "metadata": {
        "id": "EgOKd-unA91z"
      },
      "source": [
        "8. Напишите функцию `validate()`, которая проверяет соответствие всех строк из листа `Отзывы` следующим правилам:\n",
        "    * Рейтинг - это число от 0 до 5 включительно\n",
        "    * Соответствующий рецепт имеется на листе `Рецепты`\n",
        "    \n",
        "В случае несоответствия этим правилам, выделите строку красным цветом"
      ]
    },
    {
      "cell_type": "code",
      "metadata": {
        "id": "wg2v62k-A910"
      },
      "source": [
        "def validate(sheet):\n",
        "    sheet.range(\"G1\").value = \"Task 8\"\n",
        "    sheet.range('G2').formula = '=COUNTIF(Recipes!$C$2:Recipes!$C$1501,\"=\"&C2)>0'\n",
        "    sheet.range('G2').api.AutoFill(sheet.range(f'G2:G6337').api, AutoFillType.xlFillDefault)\n",
        "    for i in range(2, len(new_reviews) + 2):\n",
        "        rating = sheet.range(f'E{i}').value\n",
        "        if (rating < 0 or rating > 5) or sheet.range(f'G{i}').value == False:\n",
        "            sheet.range(f'A{i}:F{i}').color = (255, 0, 0)\n",
        "    sheet.range(\"G:G\").api.Delete()\n",
        "\n",
        "validate(reviews_sheet)\n",
        "\n",
        "recipes_excel.save(\"recipes.xlsx\")\n",
        "recipes_excel.close()"
      ],
      "execution_count": null,
      "outputs": []
    }
  ]
}