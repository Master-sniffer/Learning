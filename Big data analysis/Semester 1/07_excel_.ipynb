{
  "nbformat": 4,
  "nbformat_minor": 0,
  "metadata": {
    "kernelspec": {
      "display_name": "Python 3",
      "language": "python",
      "name": "python3"
    },
    "language_info": {
      "codemirror_mode": {
        "name": "ipython",
        "version": 3
      },
      "file_extension": ".py",
      "mimetype": "text/x-python",
      "name": "python",
      "nbconvert_exporter": "python",
      "pygments_lexer": "ipython3",
      "version": "3.8.5"
    },
    "colab": {
      "name": "07_excel_.ipynb",
      "provenance": []
    }
  },
  "cells": [
    {
      "cell_type": "markdown",
      "metadata": {
        "id": "g53vax7rA91i"
      },
      "source": [
        "# Работа с Excel"
      ]
    },
    {
      "cell_type": "markdown",
      "metadata": {
        "id": "g1i3ZAYqA91k"
      },
      "source": [
        "Материалы:\n",
        "* Макрушин С.В. Лекция 7: Работа с Excel\n",
        "* https://docs.xlwings.org/en/stable/quickstart.html\n",
        "* https://nbviewer.jupyter.org/github/pybokeh/jupyter_notebooks/blob/master/xlwings/Excel_Formatting.ipynb#search_text\n"
      ]
    },
    {
      "cell_type": "markdown",
      "metadata": {
        "id": "tZiCjq28A91l"
      },
      "source": [
        "## Задачи для совместного разбора"
      ]
    },
    {
      "cell_type": "code",
      "metadata": {
        "colab": {
          "base_uri": "https://localhost:8080/",
          "height": 466
        },
        "id": "SW3LFnopA91m",
        "outputId": "59b0112f-0040-4db9-8031-e8b818cc1312"
      },
      "source": [
        "import xlwings as xw\n",
        "import numpy as np"
      ],
      "execution_count": 6,
      "outputs": [
        {
          "output_type": "error",
          "ename": "ModuleNotFoundError",
          "evalue": "ignored",
          "traceback": [
            "\u001b[0;31m---------------------------------------------------------------------------\u001b[0m",
            "\u001b[0;31mModuleNotFoundError\u001b[0m                       Traceback (most recent call last)",
            "\u001b[0;32m<ipython-input-6-ed0cfaccdf4d>\u001b[0m in \u001b[0;36m<module>\u001b[0;34m()\u001b[0m\n\u001b[0;32m----> 1\u001b[0;31m \u001b[0;32mimport\u001b[0m \u001b[0mxlwings\u001b[0m \u001b[0;32mas\u001b[0m \u001b[0mxw\u001b[0m\u001b[0;34m\u001b[0m\u001b[0;34m\u001b[0m\u001b[0m\n\u001b[0m\u001b[1;32m      2\u001b[0m \u001b[0;32mimport\u001b[0m \u001b[0mnumpy\u001b[0m \u001b[0;32mas\u001b[0m \u001b[0mnp\u001b[0m\u001b[0;34m\u001b[0m\u001b[0;34m\u001b[0m\u001b[0m\n",
            "\u001b[0;32m/usr/local/lib/python3.7/dist-packages/xlwings/__init__.py\u001b[0m in \u001b[0;36m<module>\u001b[0;34m()\u001b[0m\n\u001b[1;32m     16\u001b[0m     \u001b[0;32mfrom\u001b[0m \u001b[0;34m.\u001b[0m \u001b[0;32mimport\u001b[0m \u001b[0m_xlwindows\u001b[0m \u001b[0;32mas\u001b[0m \u001b[0mxlplatform\u001b[0m\u001b[0;34m\u001b[0m\u001b[0;34m\u001b[0m\u001b[0m\n\u001b[1;32m     17\u001b[0m \u001b[0;32melse\u001b[0m\u001b[0;34m:\u001b[0m\u001b[0;34m\u001b[0m\u001b[0;34m\u001b[0m\u001b[0m\n\u001b[0;32m---> 18\u001b[0;31m     \u001b[0;32mfrom\u001b[0m \u001b[0;34m.\u001b[0m \u001b[0;32mimport\u001b[0m \u001b[0m_xlmac\u001b[0m \u001b[0;32mas\u001b[0m \u001b[0mxlplatform\u001b[0m\u001b[0;34m\u001b[0m\u001b[0;34m\u001b[0m\u001b[0m\n\u001b[0m\u001b[1;32m     19\u001b[0m \u001b[0;34m\u001b[0m\u001b[0m\n\u001b[1;32m     20\u001b[0m \u001b[0mtime_types\u001b[0m \u001b[0;34m=\u001b[0m \u001b[0mxlplatform\u001b[0m\u001b[0;34m.\u001b[0m\u001b[0mtime_types\u001b[0m\u001b[0;34m\u001b[0m\u001b[0;34m\u001b[0m\u001b[0m\n",
            "\u001b[0;32m/usr/local/lib/python3.7/dist-packages/xlwings/_xlmac.py\u001b[0m in \u001b[0;36m<module>\u001b[0;34m()\u001b[0m\n\u001b[1;32m      4\u001b[0m \u001b[0;32mimport\u001b[0m \u001b[0mos\u001b[0m\u001b[0;34m\u001b[0m\u001b[0;34m\u001b[0m\u001b[0m\n\u001b[1;32m      5\u001b[0m \u001b[0;32mimport\u001b[0m \u001b[0mdatetime\u001b[0m \u001b[0;32mas\u001b[0m \u001b[0mdt\u001b[0m\u001b[0;34m\u001b[0m\u001b[0;34m\u001b[0m\u001b[0m\n\u001b[0;32m----> 6\u001b[0;31m \u001b[0;32mfrom\u001b[0m \u001b[0mappscript\u001b[0m \u001b[0;32mimport\u001b[0m \u001b[0mapp\u001b[0m\u001b[0;34m\u001b[0m\u001b[0;34m\u001b[0m\u001b[0m\n\u001b[0m\u001b[1;32m      7\u001b[0m \u001b[0;32mfrom\u001b[0m \u001b[0mappscript\u001b[0m \u001b[0;32mimport\u001b[0m \u001b[0mk\u001b[0m \u001b[0;32mas\u001b[0m \u001b[0mkw\u001b[0m\u001b[0;34m\u001b[0m\u001b[0;34m\u001b[0m\u001b[0m\n\u001b[1;32m      8\u001b[0m \u001b[0;32mimport\u001b[0m \u001b[0mpsutil\u001b[0m\u001b[0;34m\u001b[0m\u001b[0;34m\u001b[0m\u001b[0m\n",
            "\u001b[0;31mModuleNotFoundError\u001b[0m: No module named 'appscript'",
            "",
            "\u001b[0;31m---------------------------------------------------------------------------\u001b[0;32m\nNOTE: If your import is failing due to a missing package, you can\nmanually install dependencies using either !pip or !apt.\n\nTo view examples of installing some common dependencies, click the\n\"Open Examples\" button below.\n\u001b[0;31m---------------------------------------------------------------------------\u001b[0m\n"
          ],
          "errorDetails": {
            "actions": [
              {
                "action": "open_url",
                "actionText": "Open Examples",
                "url": "/notebooks/snippets/importing_libraries.ipynb"
              }
            ]
          }
        }
      ]
    },
    {
      "cell_type": "code",
      "metadata": {
        "id": "gIVkTr1CA91n"
      },
      "source": [
        ""
      ],
      "execution_count": null,
      "outputs": []
    },
    {
      "cell_type": "code",
      "metadata": {
        "colab": {
          "base_uri": "https://localhost:8080/",
          "height": 165
        },
        "id": "dp1sc2dBA91n",
        "outputId": "f84f8ff5-0293-430d-cad6-c46c085943e3"
      },
      "source": [
        "xw.__version__"
      ],
      "execution_count": 4,
      "outputs": [
        {
          "output_type": "error",
          "ename": "NameError",
          "evalue": "ignored",
          "traceback": [
            "\u001b[0;31m---------------------------------------------------------------------------\u001b[0m",
            "\u001b[0;31mNameError\u001b[0m                                 Traceback (most recent call last)",
            "\u001b[0;32m<ipython-input-4-b170c66561de>\u001b[0m in \u001b[0;36m<module>\u001b[0;34m()\u001b[0m\n\u001b[0;32m----> 1\u001b[0;31m \u001b[0mxw\u001b[0m\u001b[0;34m.\u001b[0m\u001b[0m__version__\u001b[0m\u001b[0;34m\u001b[0m\u001b[0;34m\u001b[0m\u001b[0m\n\u001b[0m",
            "\u001b[0;31mNameError\u001b[0m: name 'xw' is not defined"
          ]
        }
      ]
    },
    {
      "cell_type": "code",
      "metadata": {
        "colab": {
          "base_uri": "https://localhost:8080/"
        },
        "id": "KVvanvhsA91o",
        "outputId": "b4293d22-5b24-45bf-82db-d0df7551d484"
      },
      "source": [
        "!pip install xlwings"
      ],
      "execution_count": 2,
      "outputs": [
        {
          "output_type": "stream",
          "name": "stdout",
          "text": [
            "Collecting xlwings\n",
            "  Downloading xlwings-0.25.0.tar.gz (806 kB)\n",
            "\u001b[K     |████████████████████████████████| 806 kB 5.1 MB/s \n",
            "\u001b[33mWARNING: Discarding https://files.pythonhosted.org/packages/8b/8f/095646099891aa1daaf8c439c3ed9c7b30c73ca6ddc71df55f41e6429e5a/xlwings-0.25.0.tar.gz#sha256=8034d42635741d210bd61283c08f08bc79734c382d265c80f69ffe80f6db39bd (from https://pypi.org/simple/xlwings/) (requires-python:>=3.6). Command errored out with exit status 1: python setup.py egg_info Check the logs for full command output.\u001b[0m\n",
            "\u001b[?25h  Downloading xlwings-0.24.9.tar.gz (789 kB)\n",
            "\u001b[K     |████████████████████████████████| 789 kB 40.0 MB/s \n",
            "\u001b[33mWARNING: Discarding https://files.pythonhosted.org/packages/8e/13/7cbfcf33397edd7db0a4a0e14880ba81a07c2d012f0cafd52960cd84534c/xlwings-0.24.9.tar.gz#sha256=19ed8c24b6a66c44c0a80eae33b06cbbfdb00187ac12c14460865432b102caa8 (from https://pypi.org/simple/xlwings/) (requires-python:>=3.6). Command errored out with exit status 1: python setup.py egg_info Check the logs for full command output.\u001b[0m\n",
            "\u001b[?25h  Downloading xlwings-0.24.8.tar.gz (789 kB)\n",
            "\u001b[K     |████████████████████████████████| 789 kB 42.5 MB/s \n",
            "\u001b[33mWARNING: Discarding https://files.pythonhosted.org/packages/61/24/a6ba4f34169d9302ca9d5daac36029c48a4f9d3873708f2383a90b309ca6/xlwings-0.24.8.tar.gz#sha256=f4c1807d9938ea2b8b1d115e137aad3aae27779594da73d89bd0a3f746c35a72 (from https://pypi.org/simple/xlwings/) (requires-python:>=3.6). Command errored out with exit status 1: python setup.py egg_info Check the logs for full command output.\u001b[0m\n",
            "\u001b[?25h  Downloading xlwings-0.24.7.tar.gz (786 kB)\n",
            "\u001b[K     |████████████████████████████████| 786 kB 17.6 MB/s \n",
            "\u001b[33mWARNING: Discarding https://files.pythonhosted.org/packages/0e/f9/88d97e76487c4c8b821730df070dfb0419f81a76a5d4c28c95303e199178/xlwings-0.24.7.tar.gz#sha256=54ab101fe4a2a75acaeaf3c064f88668808b8f537d89163da11c402bd03070a1 (from https://pypi.org/simple/xlwings/) (requires-python:>=3.6). Command errored out with exit status 1: python setup.py egg_info Check the logs for full command output.\u001b[0m\n",
            "\u001b[?25h  Downloading xlwings-0.24.6.tar.gz (786 kB)\n",
            "\u001b[K     |████████████████████████████████| 786 kB 52.1 MB/s \n",
            "\u001b[33mWARNING: Discarding https://files.pythonhosted.org/packages/de/65/f5e44644dfb6f4175e65b9a347eb61256c6a0378408bf21759f2da392814/xlwings-0.24.6.tar.gz#sha256=16c3b603028f50e412833412ec5fdaf21af25c1b8bcbf159f854d50c7642c2bb (from https://pypi.org/simple/xlwings/) (requires-python:>=3.6). Command errored out with exit status 1: python setup.py egg_info Check the logs for full command output.\u001b[0m\n",
            "\u001b[?25h  Downloading xlwings-0.24.5.tar.gz (786 kB)\n",
            "\u001b[K     |████████████████████████████████| 786 kB 35.9 MB/s \n",
            "\u001b[33mWARNING: Discarding https://files.pythonhosted.org/packages/b3/9e/6d23caacde483077fc392ea477f738f21a8396685d93465164502cc61b24/xlwings-0.24.5.tar.gz#sha256=bfe0a9a91796f2c01462dc6794a1daadc451bc2acd109f61e322b78747d64102 (from https://pypi.org/simple/xlwings/) (requires-python:>=3.6). Command errored out with exit status 1: python setup.py egg_info Check the logs for full command output.\u001b[0m\n",
            "\u001b[?25h  Downloading xlwings-0.24.4.tar.gz (786 kB)\n",
            "\u001b[K     |████████████████████████████████| 786 kB 51.5 MB/s \n",
            "\u001b[33mWARNING: Discarding https://files.pythonhosted.org/packages/8c/77/c253601b680546a3805fabc371f4cc39dfec1be52b97c38432c5a360d93e/xlwings-0.24.4.tar.gz#sha256=e9f9901c617df963d74ebb518f1cc88cfc343e54226989698474726f41b3a821 (from https://pypi.org/simple/xlwings/) (requires-python:>=3.6). Command errored out with exit status 1: python setup.py egg_info Check the logs for full command output.\u001b[0m\n",
            "\u001b[?25h  Downloading xlwings-0.24.3.tar.gz (784 kB)\n",
            "\u001b[K     |████████████████████████████████| 784 kB 26.2 MB/s \n",
            "\u001b[33mWARNING: Discarding https://files.pythonhosted.org/packages/cc/6e/e24507c9cb36854e9143bf6929eb0e43165b052ca2d22febdf7f0550e991/xlwings-0.24.3.tar.gz#sha256=c9d539c9ebda81f3c01a9e5cd5eec35cade05ba2cbaad5fb9abd46fe8e78772c (from https://pypi.org/simple/xlwings/) (requires-python:>=3.6). Command errored out with exit status 1: python setup.py egg_info Check the logs for full command output.\u001b[0m\n",
            "\u001b[?25h  Downloading xlwings-0.24.2.tar.gz (783 kB)\n",
            "\u001b[K     |████████████████████████████████| 783 kB 33.5 MB/s \n",
            "\u001b[33mWARNING: Discarding https://files.pythonhosted.org/packages/3c/4b/0b3d516277ef752ce365b039c2b5503f40208f98ba74585db3386a0ac132/xlwings-0.24.2.tar.gz#sha256=1c5e6c25759f2cfba85c6ec9f8dad81744d804a1751a86968040d1064849d247 (from https://pypi.org/simple/xlwings/) (requires-python:>=3.6). Command errored out with exit status 1: python setup.py egg_info Check the logs for full command output.\u001b[0m\n",
            "\u001b[?25h  Downloading xlwings-0.24.1.tar.gz (782 kB)\n",
            "\u001b[K     |████████████████████████████████| 782 kB 40.5 MB/s \n",
            "\u001b[33mWARNING: Discarding https://files.pythonhosted.org/packages/ac/36/73fced7366d802b22ec74feb80c5fc42a7addd745d0167ef0a43c861f87c/xlwings-0.24.1.tar.gz#sha256=1a755db40f6d7a7de4dc44fbcb3fa373671a0a91356fd370c91961dadd07536f (from https://pypi.org/simple/xlwings/) (requires-python:>=3.6). Command errored out with exit status 1: python setup.py egg_info Check the logs for full command output.\u001b[0m\n",
            "\u001b[?25h  Downloading xlwings-0.24.0.tar.gz (782 kB)\n",
            "\u001b[K     |████████████████████████████████| 782 kB 61.4 MB/s \n",
            "\u001b[33mWARNING: Discarding https://files.pythonhosted.org/packages/ae/24/4ebf15fcb6d5c7215b6cbc6b04aeb0e87bfe1ad8b757fba26d5a572828d4/xlwings-0.24.0.tar.gz#sha256=1bb4d100a02e9dcde3624470ccb1a6fedd64a7adab198687863d1ed0f92eba81 (from https://pypi.org/simple/xlwings/) (requires-python:>=3.6). Command errored out with exit status 1: python setup.py egg_info Check the logs for full command output.\u001b[0m\n",
            "\u001b[?25h  Downloading xlwings-0.23.4.tar.gz (779 kB)\n",
            "\u001b[K     |████████████████████████████████| 779 kB 64.3 MB/s \n",
            "\u001b[33mWARNING: Discarding https://files.pythonhosted.org/packages/77/f7/c6bc841fab2465b5322d6eeccd8e515da4654f548b5929be589fd591a562/xlwings-0.23.4.tar.gz#sha256=ab877cfb8818b7618b823b06f23b8fa1fbec07d70d841ce1dbfc2d1f558a816a (from https://pypi.org/simple/xlwings/) (requires-python:>=3.6). Command errored out with exit status 1: python setup.py egg_info Check the logs for full command output.\u001b[0m\n",
            "\u001b[?25h  Downloading xlwings-0.23.3.tar.gz (770 kB)\n",
            "\u001b[K     |████████████████████████████████| 770 kB 60.2 MB/s \n",
            "\u001b[33mWARNING: Discarding https://files.pythonhosted.org/packages/a3/01/c1ccae64b8a09acc4b286d7919b5d1b5c9c968818713566920a0ad793e99/xlwings-0.23.3.tar.gz#sha256=3200afb4d0e9cbfe354e0d5840fd0ffd6e98f191f7c19a332db11b4f0ec9bde8 (from https://pypi.org/simple/xlwings/) (requires-python:>=3.6). Command errored out with exit status 1: python setup.py egg_info Check the logs for full command output.\u001b[0m\n",
            "\u001b[?25h  Downloading xlwings-0.23.2.tar.gz (760 kB)\n",
            "\u001b[K     |████████████████████████████████| 760 kB 62.2 MB/s \n",
            "\u001b[33mWARNING: Discarding https://files.pythonhosted.org/packages/85/70/422c384ef205511943409670e3ad386b1c0f320340ea2fc16c140ea9e6f9/xlwings-0.23.2.tar.gz#sha256=491c154a40d52ec4fbca7ce43104ed13a81a2aeb2cd6709b06880213e8399f20 (from https://pypi.org/simple/xlwings/) (requires-python:>=3.6). Command errored out with exit status 1: python setup.py egg_info Check the logs for full command output.\u001b[0m\n",
            "\u001b[?25h  Downloading xlwings-0.23.1.tar.gz (760 kB)\n",
            "\u001b[K     |████████████████████████████████| 760 kB 47.2 MB/s \n",
            "\u001b[33mWARNING: Discarding https://files.pythonhosted.org/packages/a2/77/223445f7181aa8c480a1da11935209bea5e8b93301873340ad42327c77d1/xlwings-0.23.1.tar.gz#sha256=ce44ac6813b016cde496e8e029829a9b027cb3d4dffa574d4e890a37391459ad (from https://pypi.org/simple/xlwings/) (requires-python:>=3.6). Command errored out with exit status 1: python setup.py egg_info Check the logs for full command output.\u001b[0m\n",
            "\u001b[?25h  Downloading xlwings-0.23.0.tar.gz (769 kB)\n",
            "\u001b[K     |████████████████████████████████| 769 kB 47.0 MB/s \n",
            "\u001b[33mWARNING: Discarding https://files.pythonhosted.org/packages/fa/3d/c2859cceac345a3731e640290b717761e58660a3ff48ba39dc502a629a2b/xlwings-0.23.0.tar.gz#sha256=fa7f4a8bdf8e926fc447606e834fdc410ea399170c73f15efd1190418fe43d25 (from https://pypi.org/simple/xlwings/) (requires-python:>=3.6). Command errored out with exit status 1: python setup.py egg_info Check the logs for full command output.\u001b[0m\n",
            "\u001b[?25h  Downloading xlwings-0.22.3.tar.gz (764 kB)\n",
            "\u001b[K     |████████████████████████████████| 764 kB 53.4 MB/s \n",
            "\u001b[33mWARNING: Discarding https://files.pythonhosted.org/packages/07/ae/ed301526af54d9d21b30dec3b243ca32c19fc34b2584e44000cbc9ce24b7/xlwings-0.22.3.tar.gz#sha256=b7d667a9d870e3a3d42af2093e74cd0b3d68eab2c44ab98b81ee777e8e75cd38 (from https://pypi.org/simple/xlwings/) (requires-python:>=3.6). Command errored out with exit status 1: python setup.py egg_info Check the logs for full command output.\u001b[0m\n",
            "\u001b[?25h  Downloading xlwings-0.22.2.tar.gz (749 kB)\n",
            "\u001b[K     |████████████████████████████████| 749 kB 54.0 MB/s \n",
            "\u001b[33mWARNING: Discarding https://files.pythonhosted.org/packages/af/a9/e9b37c606031fbe933fa6a8bdb7a81f09ad0c0be0ef204bf1ba259f12120/xlwings-0.22.2.tar.gz#sha256=ade210eacacd075310fb804f7abaf785ef53f85d44ae86bfb053cd28e3277129 (from https://pypi.org/simple/xlwings/) (requires-python:>=3.6). Command errored out with exit status 1: python setup.py egg_info Check the logs for full command output.\u001b[0m\n",
            "\u001b[?25h  Downloading xlwings-0.22.1.tar.gz (744 kB)\n",
            "\u001b[K     |████████████████████████████████| 744 kB 55.1 MB/s \n",
            "\u001b[33mWARNING: Discarding https://files.pythonhosted.org/packages/83/00/498e7d6a698f4e7cbbf0929ac97c3f22a0d292193b39cf4c650303047dbd/xlwings-0.22.1.tar.gz#sha256=a4973c5656b4e7ac9e087c889282fbf49946b834df36a0704ecaba64211663f0 (from https://pypi.org/simple/xlwings/) (requires-python:>=3.6). Command errored out with exit status 1: python setup.py egg_info Check the logs for full command output.\u001b[0m\n",
            "\u001b[?25h  Downloading xlwings-0.22.0.tar.gz (744 kB)\n",
            "\u001b[K     |████████████████████████████████| 744 kB 45.3 MB/s \n",
            "\u001b[33mWARNING: Discarding https://files.pythonhosted.org/packages/4d/ec/db0d5def30bdbf882daf9d91ac7243d9469c45c700c15d78fe5ef02cac03/xlwings-0.22.0.tar.gz#sha256=a19b6b51168c7a87b098085923d67361de0e5526632935f303985a1dd9f93a09 (from https://pypi.org/simple/xlwings/) (requires-python:>=3.6). Command errored out with exit status 1: python setup.py egg_info Check the logs for full command output.\u001b[0m\n",
            "\u001b[?25h  Downloading xlwings-0.21.4.tar.gz (668 kB)\n",
            "\u001b[K     |████████████████████████████████| 668 kB 49.6 MB/s \n",
            "\u001b[33mWARNING: Discarding https://files.pythonhosted.org/packages/94/c7/c21d0729ee5d62fc28fa27d3c3c007604c28c51197e458e73a1fbb800960/xlwings-0.21.4.tar.gz#sha256=17e8d57bf5be523f39e175923efc5652aecfa719ced09c1268147aff2a893757 (from https://pypi.org/simple/xlwings/) (requires-python:>=3.6). Command errored out with exit status 1: python setup.py egg_info Check the logs for full command output.\u001b[0m\n",
            "\u001b[?25h  Downloading xlwings-0.21.3.tar.gz (668 kB)\n",
            "\u001b[K     |████████████████████████████████| 668 kB 54.8 MB/s \n",
            "\u001b[33mWARNING: Discarding https://files.pythonhosted.org/packages/b9/9c/99d2f0e9cda0d7a0f058daef21596afc853c6a6acb015f57c47690b7bd2f/xlwings-0.21.3.tar.gz#sha256=8a77f93d08a334532013743727cc1a126724c0328351c397f1192f405d157b2d (from https://pypi.org/simple/xlwings/) (requires-python:>=3.6). Command errored out with exit status 1: python setup.py egg_info Check the logs for full command output.\u001b[0m\n",
            "\u001b[?25h  Downloading xlwings-0.21.2.tar.gz (668 kB)\n",
            "\u001b[K     |████████████████████████████████| 668 kB 54.5 MB/s \n",
            "\u001b[33mWARNING: Discarding https://files.pythonhosted.org/packages/df/1d/966e8637c1792118d36e2e095e4064ae2352e0789e31780f605226af5b2f/xlwings-0.21.2.tar.gz#sha256=613afe405d597d3980dd0db216638b3f5e613021a551bc68a16c080a0b298654 (from https://pypi.org/simple/xlwings/) (requires-python:>=3.6). Command errored out with exit status 1: python setup.py egg_info Check the logs for full command output.\u001b[0m\n",
            "\u001b[?25h  Downloading xlwings-0.21.1.tar.gz (653 kB)\n",
            "\u001b[K     |████████████████████████████████| 653 kB 43.8 MB/s \n",
            "\u001b[33mWARNING: Discarding https://files.pythonhosted.org/packages/c0/a3/31e73bbb3ef077448cf7a0ab53e505571f67e9fd759af19445634de3e887/xlwings-0.21.1.tar.gz#sha256=9a0140f9e2023e705b4d018f5b773eef080335372cee7052731d48879bd474ac (from https://pypi.org/simple/xlwings/) (requires-python:>=3.6). Command errored out with exit status 1: python setup.py egg_info Check the logs for full command output.\u001b[0m\n",
            "\u001b[?25h  Downloading xlwings-0.21.0.tar.gz (653 kB)\n",
            "\u001b[K     |████████████████████████████████| 653 kB 45.1 MB/s \n",
            "\u001b[33mWARNING: Discarding https://files.pythonhosted.org/packages/05/ac/5a78ada0af90263cff04f92aca21fe5b563ac203b2aae93fec2c5facefc9/xlwings-0.21.0.tar.gz#sha256=f1adb4590d63f0b81c2fcb09942ee89d94128fec4c0af1b626958412e02f818f (from https://pypi.org/simple/xlwings/) (requires-python:>=3.6). Command errored out with exit status 1: python setup.py egg_info Check the logs for full command output.\u001b[0m\n",
            "\u001b[?25h  Downloading xlwings-0.20.8.tar.gz (650 kB)\n",
            "\u001b[K     |████████████████████████████████| 650 kB 53.6 MB/s \n",
            "\u001b[33mWARNING: Discarding https://files.pythonhosted.org/packages/6a/c2/568fd0ff228eb94b9d7223f3f61b8bdf4f3b443eb7aadd5ffa556e522195/xlwings-0.20.8.tar.gz#sha256=35d3bd03c4b81f6b28b58f77d895eccc04c14559fda4ec52a4d6a9dacac892a8 (from https://pypi.org/simple/xlwings/) (requires-python:>=3.6). Command errored out with exit status 1: python setup.py egg_info Check the logs for full command output.\u001b[0m\n",
            "\u001b[?25h  Downloading xlwings-0.20.7.tar.gz (653 kB)\n",
            "\u001b[K     |████████████████████████████████| 653 kB 45.2 MB/s \n",
            "\u001b[33mWARNING: Discarding https://files.pythonhosted.org/packages/63/20/b131eb5c3f35c721ba473e824b569f995994c32f1b2829a14d0b24aeb78e/xlwings-0.20.7.tar.gz#sha256=02b169fca95b38ad231081294597a4344721f43eb5df0f905edb19331d69d57f (from https://pypi.org/simple/xlwings/) (requires-python:>=3.6). Command errored out with exit status 1: python setup.py egg_info Check the logs for full command output.\u001b[0m\n",
            "\u001b[?25h  Downloading xlwings-0.20.6.tar.gz (653 kB)\n",
            "\u001b[K     |████████████████████████████████| 653 kB 52.9 MB/s \n",
            "\u001b[33mWARNING: Discarding https://files.pythonhosted.org/packages/f4/92/f8a15d6f0741be54eab8b3a9d2a32c6e2e4037b62ca84c4e3799789e7837/xlwings-0.20.6.tar.gz#sha256=15ccfb63ed1923370c70a3ec8f8885d977958b5bd96725e309cadadd18925702 (from https://pypi.org/simple/xlwings/) (requires-python:>=3.6). Command errored out with exit status 1: python setup.py egg_info Check the logs for full command output.\u001b[0m\n",
            "\u001b[?25h  Downloading xlwings-0.20.5.tar.gz (653 kB)\n",
            "\u001b[K     |████████████████████████████████| 653 kB 52.7 MB/s \n",
            "\u001b[33mWARNING: Discarding https://files.pythonhosted.org/packages/5e/ef/9d206f55f87dc29765acf2b168789a8195a652f07fe21ff128db8f0535a0/xlwings-0.20.5.tar.gz#sha256=1dab7f37e186129fabdcf035273d0659619bda8829ad9373638334cb6d9593b0 (from https://pypi.org/simple/xlwings/) (requires-python:>=3.6). Command errored out with exit status 1: python setup.py egg_info Check the logs for full command output.\u001b[0m\n",
            "\u001b[?25h  Downloading xlwings-0.20.4.tar.gz (647 kB)\n",
            "\u001b[K     |████████████████████████████████| 647 kB 53.2 MB/s \n",
            "\u001b[33mWARNING: Discarding https://files.pythonhosted.org/packages/e9/55/f5ed5f6720881d440331099fbc415d94b3ad2fcdfa48b5d73098482c11e4/xlwings-0.20.4.tar.gz#sha256=53b525ff55e46f540679bcbf3c91a95d2c4be5b6ed5e98273bb57ade1f284244 (from https://pypi.org/simple/xlwings/) (requires-python:>=3.5). Command errored out with exit status 1: python setup.py egg_info Check the logs for full command output.\u001b[0m\n",
            "\u001b[?25h  Downloading xlwings-0.20.3.tar.gz (597 kB)\n",
            "\u001b[K     |████████████████████████████████| 597 kB 53.8 MB/s \n",
            "\u001b[33mWARNING: Discarding https://files.pythonhosted.org/packages/8b/4d/edab79c27272d0ad042f33db62a7af04142c29e10588a9198a7284fa5454/xlwings-0.20.3.tar.gz#sha256=e6f002e44cb76316d0bb169245934b93f2418f9e655d465328fb5b248f6a53fb (from https://pypi.org/simple/xlwings/) (requires-python:>=3.5). Command errored out with exit status 1: python setup.py egg_info Check the logs for full command output.\u001b[0m\n",
            "\u001b[?25h  Downloading xlwings-0.20.2.tar.gz (597 kB)\n",
            "\u001b[K     |████████████████████████████████| 597 kB 54.2 MB/s \n",
            "\u001b[33mWARNING: Discarding https://files.pythonhosted.org/packages/58/f0/e09f527d8a05f3e1a519e6b909b4a8a6e6cda53cbe7aa69e8e8e04e95e2e/xlwings-0.20.2.tar.gz#sha256=93cd1a115adb8766f298c11e296a486f26e5dfb721c8291a455a9ebec944e16a (from https://pypi.org/simple/xlwings/) (requires-python:>=3.5). Command errored out with exit status 1: python setup.py egg_info Check the logs for full command output.\u001b[0m\n",
            "\u001b[?25h  Downloading xlwings-0.20.1.tar.gz (614 kB)\n",
            "\u001b[K     |████████████████████████████████| 614 kB 53.1 MB/s \n",
            "\u001b[33mWARNING: Discarding https://files.pythonhosted.org/packages/88/76/500d3b10a99939285a0376cfa98668b5dadd68f27aa79a50461386c3a6a3/xlwings-0.20.1.tar.gz#sha256=dd7978efd8bd303bc8f4e91f29d050a2df68bd3e792be60aaaae90d24468a475 (from https://pypi.org/simple/xlwings/) (requires-python:>=3.5). Command errored out with exit status 1: python setup.py egg_info Check the logs for full command output.\u001b[0m\n",
            "\u001b[?25h  Downloading xlwings-0.20.0.tar.gz (614 kB)\n",
            "\u001b[K     |████████████████████████████████| 614 kB 52.5 MB/s \n",
            "\u001b[33mWARNING: Discarding https://files.pythonhosted.org/packages/48/26/b05feb3f8b81abe0172ee71ee323dc1fe6f3e539f05af2007713ac9ffef7/xlwings-0.20.0.tar.gz#sha256=5625bea0eaa08e283a0905fec00b14d3b05d327b12747d5c8317a41afa4c72db (from https://pypi.org/simple/xlwings/) (requires-python:>=3.5). Command errored out with exit status 1: python setup.py egg_info Check the logs for full command output.\u001b[0m\n",
            "\u001b[?25h  Downloading xlwings-0.19.5.tar.gz (612 kB)\n",
            "\u001b[K     |████████████████████████████████| 612 kB 43.9 MB/s \n",
            "\u001b[33mWARNING: Discarding https://files.pythonhosted.org/packages/66/d0/da74de5b289502225d08fde0c2e40463d73fe845860e7c4391b896fea704/xlwings-0.19.5.tar.gz#sha256=34cdec0a8a84d105906959e91f6df1f400b2953f3570213b94fc676c1d70ead8 (from https://pypi.org/simple/xlwings/) (requires-python:>=3.5). Command errored out with exit status 1: python setup.py egg_info Check the logs for full command output.\u001b[0m\n",
            "\u001b[?25h  Downloading xlwings-0.19.4.tar.gz (612 kB)\n",
            "\u001b[K     |████████████████████████████████| 612 kB 45.8 MB/s \n",
            "\u001b[33mWARNING: Discarding https://files.pythonhosted.org/packages/27/3d/637c6a04aa213bbb1dbbde74dfcb5c6c273d7dd4d78f5c9dd82bc396cb35/xlwings-0.19.4.tar.gz#sha256=ba7db54c7093b38a085ddf485860407b70cf502d2d16589f0abb58125f6e19a9 (from https://pypi.org/simple/xlwings/) (requires-python:>=3.5). Command errored out with exit status 1: python setup.py egg_info Check the logs for full command output.\u001b[0m\n",
            "\u001b[?25h  Downloading xlwings-0.19.3.tar.gz (611 kB)\n",
            "\u001b[K     |████████████████████████████████| 611 kB 53.4 MB/s \n",
            "\u001b[33mWARNING: Discarding https://files.pythonhosted.org/packages/f9/cc/09998494650c2e5cb0f509dc0dac6dc559fc68f02113f4687eefc4cfb349/xlwings-0.19.3.tar.gz#sha256=da15ded5f2e056e27e22cbbbc9952658d6e82dc8a3baf7505216be403b471cdd (from https://pypi.org/simple/xlwings/) (requires-python:>=3.5). Command errored out with exit status 1: python setup.py egg_info Check the logs for full command output.\u001b[0m\n",
            "\u001b[?25h  Downloading xlwings-0.19.2.tar.gz (608 kB)\n",
            "\u001b[K     |████████████████████████████████| 608 kB 53.2 MB/s \n",
            "\u001b[33mWARNING: Discarding https://files.pythonhosted.org/packages/10/af/59d55d6934117974c1144af2cee692c855bf25b39df71e6f077dc33b7b76/xlwings-0.19.2.tar.gz#sha256=91326c76fb25465b90e4f2fa25a2a140016aeec4de171c6e803503e9c0303a04 (from https://pypi.org/simple/xlwings/) (requires-python:>=3.5). Command errored out with exit status 1: python setup.py egg_info Check the logs for full command output.\u001b[0m\n",
            "\u001b[?25h  Downloading xlwings-0.19.1.tar.gz (607 kB)\n",
            "\u001b[K     |████████████████████████████████| 607 kB 27.3 MB/s \n",
            "\u001b[33mWARNING: Discarding https://files.pythonhosted.org/packages/ba/60/608ef9c81ca564e0a63b41c14011f8ab228522ca06c62e1d2972e812b2d9/xlwings-0.19.1.tar.gz#sha256=3237e0a35c780a9ac9203eeb0640517f643d5df48ded671f2c66d76c118e00c1 (from https://pypi.org/simple/xlwings/) (requires-python:>=3.5). Command errored out with exit status 1: python setup.py egg_info Check the logs for full command output.\u001b[0m\n",
            "\u001b[?25h  Downloading xlwings-0.19.0.tar.gz (607 kB)\n",
            "\u001b[K     |████████████████████████████████| 607 kB 65.3 MB/s \n",
            "\u001b[33mWARNING: Discarding https://files.pythonhosted.org/packages/43/c9/81c4542d176e124239031237d9bccca720a3edecbc7c6d66761054dda220/xlwings-0.19.0.tar.gz#sha256=02952d7e629f81869b772e9f2eae362cb004590acf500f4579a614e17e0d6e07 (from https://pypi.org/simple/xlwings/) (requires-python:>=3.5). Command errored out with exit status 1: python setup.py egg_info Check the logs for full command output.\u001b[0m\n",
            "\u001b[?25h  Downloading xlwings-0.18.0.tar.gz (595 kB)\n",
            "\u001b[K     |████████████████████████████████| 595 kB 53.8 MB/s \n",
            "\u001b[33mWARNING: Discarding https://files.pythonhosted.org/packages/6e/5c/1cb4a9b6e784dbb05639380795c6d652bdf2f852d2e1589440c99d800573/xlwings-0.18.0.tar.gz#sha256=c441187bf11b9e53ecce282d9db95a95720026820fb4d468c5d548e430a33b8c (from https://pypi.org/simple/xlwings/) (requires-python:>=3.5). Command errored out with exit status 1: python setup.py egg_info Check the logs for full command output.\u001b[0m\n",
            "\u001b[?25h  Downloading xlwings-0.17.1.tar.gz (638 kB)\n",
            "\u001b[K     |████████████████████████████████| 638 kB 53.9 MB/s \n",
            "\u001b[33mWARNING: Discarding https://files.pythonhosted.org/packages/e1/37/21760f0e359de37a875ee85c8110cc6e9bdbf81afccca22b2bc0e7576f71/xlwings-0.17.1.tar.gz#sha256=0aabb5a5e372e76bb06f49b4f16935082c9e0a72b7d1938dc523488c12861650 (from https://pypi.org/simple/xlwings/) (requires-python:>=3.5). Command errored out with exit status 1: python setup.py egg_info Check the logs for full command output.\u001b[0m\n",
            "\u001b[?25h  Downloading xlwings-0.17.0.tar.gz (627 kB)\n",
            "\u001b[K     |████████████████████████████████| 627 kB 51.8 MB/s \n",
            "\u001b[33mWARNING: Discarding https://files.pythonhosted.org/packages/3a/4d/ab67cfc09037188aaec253de0fbdd0fa65ee3cb026171bf745d180d2d95b/xlwings-0.17.0.tar.gz#sha256=da9fb675b1950908d81d5dbffe86119b12a079106292cae1756306fca502c023 (from https://pypi.org/simple/xlwings/) (requires-python:>=3.5). Command errored out with exit status 1: python setup.py egg_info Check the logs for full command output.\u001b[0m\n",
            "\u001b[?25h  Downloading xlwings-0.16.6.tar.gz (634 kB)\n",
            "\u001b[K     |████████████████████████████████| 634 kB 58.0 MB/s \n",
            "\u001b[33mWARNING: Discarding https://files.pythonhosted.org/packages/6f/6d/b903bbd476a9cadd3e6afb232042dd6fdd88431268976f50169c4eec6007/xlwings-0.16.6.tar.gz#sha256=650f707278483994c2dc33fdbfcd9172e1368b0dc44e73ce9f9468260c7558a6 (from https://pypi.org/simple/xlwings/). Command errored out with exit status 1: python setup.py egg_info Check the logs for full command output.\u001b[0m\n",
            "\u001b[?25h  Downloading xlwings-0.16.5.tar.gz (634 kB)\n",
            "\u001b[K     |████████████████████████████████| 634 kB 37.3 MB/s \n",
            "\u001b[33mWARNING: Discarding https://files.pythonhosted.org/packages/75/e4/bdc79aa1b5b37b3b6f317c285289bff47f54122d6bf9a0ee4a9c2631fe76/xlwings-0.16.5.tar.gz#sha256=4ee66c1e981f933176b731d0c6c1f82307d97f02f335dc9818d760305549522b (from https://pypi.org/simple/xlwings/). Command errored out with exit status 1: python setup.py egg_info Check the logs for full command output.\u001b[0m\n",
            "\u001b[?25h  Downloading xlwings-0.16.4.tar.gz (635 kB)\n",
            "\u001b[K     |████████████████████████████████| 635 kB 59.6 MB/s \n",
            "\u001b[33mWARNING: Discarding https://files.pythonhosted.org/packages/26/25/bd743ad2486ec16e3ccc2ce41a67fbd673b3e25f2b1e9f6cb7ef35736f06/xlwings-0.16.4.tar.gz#sha256=f04f6b31fb980c4e1ce10f23f3a29cbee5fa1f6d99438b4b4b4e79cb2628f783 (from https://pypi.org/simple/xlwings/). Command errored out with exit status 1: python setup.py egg_info Check the logs for full command output.\u001b[0m\n",
            "\u001b[?25h  Downloading xlwings-0.16.3.tar.gz (633 kB)\n",
            "\u001b[K     |████████████████████████████████| 633 kB 63.0 MB/s \n",
            "\u001b[33mWARNING: Discarding https://files.pythonhosted.org/packages/91/be/827aea345f7465584ed741544074c07a872dc6a36f8664d9cb739093e0ba/xlwings-0.16.3.tar.gz#sha256=8783f898b44716b1df8e1542920411a657394085f77d6bc20b263d92d9fb365e (from https://pypi.org/simple/xlwings/). Command errored out with exit status 1: python setup.py egg_info Check the logs for full command output.\u001b[0m\n",
            "\u001b[?25h  Downloading xlwings-0.16.2.tar.gz (630 kB)\n",
            "\u001b[K     |████████████████████████████████| 630 kB 62.0 MB/s \n",
            "\u001b[33mWARNING: Discarding https://files.pythonhosted.org/packages/fe/d5/0924850a70140de38aa9c4cb12e3bca7ab2fd6495ed3e04563a85617d8b2/xlwings-0.16.2.tar.gz#sha256=f2cd4af5d575c7d3c123a6298d6b481e4d9b4e6a266f6ff8538dd5bb1185e1a1 (from https://pypi.org/simple/xlwings/). Command errored out with exit status 1: python setup.py egg_info Check the logs for full command output.\u001b[0m\n",
            "\u001b[?25h  Downloading xlwings-0.16.1.tar.gz (627 kB)\n",
            "\u001b[K     |████████████████████████████████| 627 kB 52.6 MB/s \n",
            "\u001b[33mWARNING: Discarding https://files.pythonhosted.org/packages/ac/5c/d53ea4cd8f691afd14f7a02f3b3b45ee34f9c14168108cd0d291f7cfa925/xlwings-0.16.1.tar.gz#sha256=dbca02458ce7aa55579d8fbee6504d2a539caf9b25fb7239e37b3b4ecbd4834a (from https://pypi.org/simple/xlwings/). Command errored out with exit status 1: python setup.py egg_info Check the logs for full command output.\u001b[0m\n",
            "\u001b[?25h  Downloading xlwings-0.16.0.tar.gz (627 kB)\n",
            "\u001b[K     |████████████████████████████████| 627 kB 53.6 MB/s \n",
            "\u001b[33mWARNING: Discarding https://files.pythonhosted.org/packages/bb/08/9719e055e57d4475e00e6a5a8c96a808433fe12f534ae818e90ed856b607/xlwings-0.16.0.tar.gz#sha256=d45f602829b8aa66c44b1763a7b9e98a0f76989fddb68d6f757e32f513bba253 (from https://pypi.org/simple/xlwings/). Command errored out with exit status 1: python setup.py egg_info Check the logs for full command output.\u001b[0m\n",
            "\u001b[?25h  Downloading xlwings-0.15.10.tar.gz (626 kB)\n",
            "\u001b[K     |████████████████████████████████| 626 kB 20.8 MB/s \n",
            "\u001b[33mWARNING: Discarding https://files.pythonhosted.org/packages/3d/a5/65954221b066919fbe7aef733da9a2571678cc09726ca0f5097460e6b2bf/xlwings-0.15.10.tar.gz#sha256=5ab5e3c4148647b30d299f39bf75a2a720be9050f945d26135053adac6ccb219 (from https://pypi.org/simple/xlwings/). Command errored out with exit status 1: python setup.py egg_info Check the logs for full command output.\u001b[0m\n",
            "\u001b[?25h  Downloading xlwings-0.15.9.tar.gz (626 kB)\n",
            "\u001b[K     |████████████████████████████████| 626 kB 63.7 MB/s \n",
            "\u001b[33mWARNING: Discarding https://files.pythonhosted.org/packages/67/4e/77971130d4199ed07c21f35e818894b0b49a418b92343bd47ceab5e405af/xlwings-0.15.9.tar.gz#sha256=80a7b51c9b66d792ccf878ab27c5fb1d4cf7028e2dd3f4719020f1d25c9508ab (from https://pypi.org/simple/xlwings/). Command errored out with exit status 1: python setup.py egg_info Check the logs for full command output.\u001b[0m\n",
            "\u001b[?25h  Downloading xlwings-0.15.8.tar.gz (627 kB)\n",
            "\u001b[K     |████████████████████████████████| 627 kB 50.7 MB/s \n",
            "\u001b[33mWARNING: Discarding https://files.pythonhosted.org/packages/ea/bd/d537359a3d7f5cfab23d16111e0325cb0af7d8dfdf445198c6653130b2fb/xlwings-0.15.8.tar.gz#sha256=e889c584767ae9322d0b62d342b732dbb8c4b34b1ded33086204668d9dedfcd3 (from https://pypi.org/simple/xlwings/). Command errored out with exit status 1: python setup.py egg_info Check the logs for full command output.\u001b[0m\n",
            "\u001b[?25h  Downloading xlwings-0.15.7.tar.gz (627 kB)\n",
            "\u001b[K     |████████████████████████████████| 627 kB 52.6 MB/s \n",
            "\u001b[33mWARNING: Discarding https://files.pythonhosted.org/packages/f7/76/c5a168592f01038e1ac273f95ff93cc145685675d3085cd30924d7b30fa3/xlwings-0.15.7.tar.gz#sha256=1c09047b1a6a538cf076e3fad1ff0432c0c3eb0941e94195645e5f93a94409e6 (from https://pypi.org/simple/xlwings/). Command errored out with exit status 1: python setup.py egg_info Check the logs for full command output.\u001b[0m\n",
            "\u001b[?25h  Downloading xlwings-0.15.6.tar.gz (626 kB)\n",
            "\u001b[K     |████████████████████████████████| 626 kB 52.9 MB/s \n",
            "\u001b[33mWARNING: Discarding https://files.pythonhosted.org/packages/d9/c4/54fa6904085d40e0d4e372b17000bf70a247dffb45cf8f29f98ca23d91aa/xlwings-0.15.6.tar.gz#sha256=9f98c82f5a93ff439c00ac7315f60453a3e13a6bfb0b89549af57a3526460102 (from https://pypi.org/simple/xlwings/). Command errored out with exit status 1: python setup.py egg_info Check the logs for full command output.\u001b[0m\n",
            "\u001b[?25h  Downloading xlwings-0.15.5.tar.gz (619 kB)\n",
            "\u001b[K     |████████████████████████████████| 619 kB 42.6 MB/s \n",
            "\u001b[33mWARNING: Discarding https://files.pythonhosted.org/packages/4c/09/e463c207ed007847143cea66f9fb276cea25eda46d6f14f734a7179abaab/xlwings-0.15.5.tar.gz#sha256=a121eeb2de2e0d7cb963a1860da837e5773dd05cda09a0df4d1d8d29786344f4 (from https://pypi.org/simple/xlwings/). Command errored out with exit status 1: python setup.py egg_info Check the logs for full command output.\u001b[0m\n",
            "\u001b[?25h  Downloading xlwings-0.15.4.tar.gz (612 kB)\n",
            "\u001b[K     |████████████████████████████████| 612 kB 61.2 MB/s \n",
            "\u001b[33mWARNING: Discarding https://files.pythonhosted.org/packages/83/33/0c4029c7a48c46efca5d61cdc065e65322b513eaa42802828415fb3dca51/xlwings-0.15.4.tar.gz#sha256=ad760e15e74ff2b44cca87d453a940f7da1a6dc121be21660ea42a5f3ae9f13e (from https://pypi.org/simple/xlwings/). Command errored out with exit status 1: python setup.py egg_info Check the logs for full command output.\u001b[0m\n",
            "\u001b[?25h  Downloading xlwings-0.15.3.tar.gz (614 kB)\n",
            "\u001b[K     |████████████████████████████████| 614 kB 53.1 MB/s \n",
            "\u001b[33mWARNING: Discarding https://files.pythonhosted.org/packages/cc/c9/6bb1849dbee6e8a40beb9a0d21df9787bee45cda1d0bb575a0cd388dd260/xlwings-0.15.3.tar.gz#sha256=ad85123f1bfdeb8f9017c7255538cde9d8787a2f4cbd513c8174594d66b1a0bf (from https://pypi.org/simple/xlwings/). Command errored out with exit status 1: python setup.py egg_info Check the logs for full command output.\u001b[0m\n",
            "\u001b[?25h  Downloading xlwings-0.15.2.tar.gz (615 kB)\n",
            "\u001b[K     |████████████████████████████████| 615 kB 52.4 MB/s \n",
            "\u001b[33mWARNING: Discarding https://files.pythonhosted.org/packages/60/09/ee6a69193b2da2b765bb43c768abd607a22197b90265c3acfd763b379f3b/xlwings-0.15.2.tar.gz#sha256=e31ce32629e4bab8365f0faa5af5c8a74882974115c65e37ffd75832735bbc4b (from https://pypi.org/simple/xlwings/). Command errored out with exit status 1: python setup.py egg_info Check the logs for full command output.\u001b[0m\n",
            "\u001b[?25h  Downloading xlwings-0.15.1.tar.gz (614 kB)\n",
            "\u001b[K     |████████████████████████████████| 614 kB 39.2 MB/s \n",
            "\u001b[33mWARNING: Discarding https://files.pythonhosted.org/packages/f6/cf/c4e5ba995c6440fff3f6e846ba0aa92481d8d5c54c27860a324df525802b/xlwings-0.15.1.tar.gz#sha256=f31a7ecb3214f2bcf07d676dbc38648d949db394fd5ecde436a413478e06829b (from https://pypi.org/simple/xlwings/). Command errored out with exit status 1: python setup.py egg_info Check the logs for full command output.\u001b[0m\n",
            "\u001b[?25h  Downloading xlwings-0.15.0.tar.gz (614 kB)\n",
            "\u001b[K     |████████████████████████████████| 614 kB 65.0 MB/s \n",
            "\u001b[33mWARNING: Discarding https://files.pythonhosted.org/packages/df/98/f94bf6ab7c0b3d9ef36f379921ea619d563d33e59dbec7ee72d17201e8a7/xlwings-0.15.0.tar.gz#sha256=b6ead605dbf4ce23106104fedc3633e4531abf8a5f1e766869a0756ffadfc258 (from https://pypi.org/simple/xlwings/). Command errored out with exit status 1: python setup.py egg_info Check the logs for full command output.\u001b[0m\n",
            "\u001b[?25h  Downloading xlwings-0.14.1.tar.gz (615 kB)\n",
            "\u001b[K     |████████████████████████████████| 615 kB 61.8 MB/s \n",
            "\u001b[33mWARNING: Discarding https://files.pythonhosted.org/packages/a9/39/255865a5abfc763dc093829bf5207695d9177731d5a428a0c17895edc4d4/xlwings-0.14.1.tar.gz#sha256=8f122ac6ffe4e0f0669cf3139134600070f4522b4b6c4c671242a78147732f44 (from https://pypi.org/simple/xlwings/). Command errored out with exit status 1: python setup.py egg_info Check the logs for full command output.\u001b[0m\n",
            "\u001b[?25h  Downloading xlwings-0.14.0.tar.gz (613 kB)\n",
            "\u001b[K     |████████████████████████████████| 613 kB 58.0 MB/s \n",
            "\u001b[33mWARNING: Discarding https://files.pythonhosted.org/packages/96/35/e313cbc201e6ba94ad07d3b45085286e37d90c28914bf22a51fce97eb642/xlwings-0.14.0.tar.gz#sha256=34a6ef85a70c0195508bae79c3efd221926d61bd3e200ccf306483664b3680ce (from https://pypi.org/simple/xlwings/). Command errored out with exit status 1: python setup.py egg_info Check the logs for full command output.\u001b[0m\n",
            "\u001b[?25h  Downloading xlwings-0.13.0.tar.gz (614 kB)\n",
            "\u001b[K     |████████████████████████████████| 614 kB 41.5 MB/s \n",
            "\u001b[33mWARNING: Discarding https://files.pythonhosted.org/packages/87/d4/c7ea49844ac465d59df4e310f4a0989663a13bb36f72e13ff399012ad549/xlwings-0.13.0.tar.gz#sha256=41e14cdfe9ba2f6ca4de38b7e9fff2b39521b248b427f7083cc89ef1cd86adbc (from https://pypi.org/simple/xlwings/). Command errored out with exit status 1: python setup.py egg_info Check the logs for full command output.\u001b[0m\n",
            "\u001b[?25h  Downloading xlwings-0.12.1.tar.gz (608 kB)\n",
            "\u001b[K     |████████████████████████████████| 608 kB 49.5 MB/s \n",
            "\u001b[33mWARNING: Discarding https://files.pythonhosted.org/packages/62/4d/913a492cf815f65fed863380f51471d930e9b6759e35928bd78cb7c05f7a/xlwings-0.12.1.tar.gz#sha256=11d57fe9ac3310f7aedb7607b4d7900991f278af7d04de5a802485ac4fca45fe (from https://pypi.org/simple/xlwings/). Command errored out with exit status 1: python setup.py egg_info Check the logs for full command output.\u001b[0m\n",
            "\u001b[?25h  Downloading xlwings-0.12.0.tar.gz (607 kB)\n",
            "\u001b[K     |████████████████████████████████| 607 kB 53.1 MB/s \n",
            "\u001b[33mWARNING: Discarding https://files.pythonhosted.org/packages/d4/4f/68c6277fb480711bcaa4ccebf1c02b7cfc8430f16017c2b3da3afb1dfacc/xlwings-0.12.0.tar.gz#sha256=b79aabb669b4d0b4b7133f44d326ce7a93ff2b54917fca47cdde91b50f73a157 (from https://pypi.org/simple/xlwings/). Command errored out with exit status 1: python setup.py egg_info Check the logs for full command output.\u001b[0m\n",
            "\u001b[?25h  Downloading xlwings-0.11.8.tar.gz (603 kB)\n",
            "\u001b[K     |████████████████████████████████| 603 kB 54.1 MB/s \n",
            "\u001b[33mWARNING: Discarding https://files.pythonhosted.org/packages/64/27/4068e0abbc2753a13fa0d7eccb502f61b80128c449e501018d2af20eeb70/xlwings-0.11.8.tar.gz#sha256=cabd361bf11066d2d99686cd2c9d8703b228dc53a5f61ec8b767ce5a3b2a69b7 (from https://pypi.org/simple/xlwings/). Command errored out with exit status 1: python setup.py egg_info Check the logs for full command output.\u001b[0m\n",
            "\u001b[?25h  Downloading xlwings-0.11.7.tar.gz (596 kB)\n",
            "\u001b[K     |████████████████████████████████| 596 kB 41.1 MB/s \n",
            "\u001b[33mWARNING: Discarding https://files.pythonhosted.org/packages/6f/7c/32411cd541a7b0fd6c83004953dbc71ec894f13d93dea38a7d9c60f2ac84/xlwings-0.11.7.tar.gz#sha256=09fd2ae23593e5e98c2c78fe59a03b52c139a0a30278da29c531f0b627d6f141 (from https://pypi.org/simple/xlwings/). Command errored out with exit status 1: python setup.py egg_info Check the logs for full command output.\u001b[0m\n",
            "\u001b[?25h  Downloading xlwings-0.11.6.tar.gz (596 kB)\n",
            "\u001b[K     |████████████████████████████████| 596 kB 51.3 MB/s \n",
            "\u001b[33mWARNING: Discarding https://files.pythonhosted.org/packages/82/cd/2320624de4c8face734a78fd022f860165acda4efc80ed020ef505ebdb66/xlwings-0.11.6.tar.gz#sha256=437e0fbda1a3bbc5cfa2fcac50ed86068a4ecf4f006716c7176fe546db2e37c6 (from https://pypi.org/simple/xlwings/). Command errored out with exit status 1: python setup.py egg_info Check the logs for full command output.\u001b[0m\n",
            "\u001b[?25h  Downloading xlwings-0.11.5.tar.gz (596 kB)\n",
            "\u001b[K     |████████████████████████████████| 596 kB 36.9 MB/s \n",
            "\u001b[33mWARNING: Discarding https://files.pythonhosted.org/packages/40/7e/6b5ed253a873d053fd7596dcc6f21ca0c6e7a610d2652578d17fc2a18fa4/xlwings-0.11.5.tar.gz#sha256=c018b162e332ecd76cc4baff20c4967894fb8e235f6b631aa7a698f87e0a3ba7 (from https://pypi.org/simple/xlwings/). Command errored out with exit status 1: python setup.py egg_info Check the logs for full command output.\u001b[0m\n",
            "\u001b[?25h  Downloading xlwings-0.11.4.tar.gz (1.9 MB)\n",
            "\u001b[K     |████████████████████████████████| 1.9 MB 21.8 MB/s \n",
            "\u001b[33mWARNING: Discarding https://files.pythonhosted.org/packages/ab/48/28bc7a2ce803edb5dc4b265a03f10e9fa4634ac3550623d0d6d3a3929cf1/xlwings-0.11.4.tar.gz#sha256=0d73e56f7e539e26dbf06a19c895182c6e282d3eca6fd60d98a1d36fb56a1a66 (from https://pypi.org/simple/xlwings/). Command errored out with exit status 1: python setup.py egg_info Check the logs for full command output.\u001b[0m\n",
            "\u001b[?25h  Downloading xlwings-0.11.3.zip (1.8 MB)\n",
            "\u001b[K     |████████████████████████████████| 1.8 MB 52.8 MB/s \n",
            "\u001b[33mWARNING: Discarding https://files.pythonhosted.org/packages/e8/7c/3b45e7ecefa4d6ec4cba6bfb3bf9edc7d24c82bbc977322ba99244e79e46/xlwings-0.11.3.zip#sha256=20310d23061ac54d93272e7ed1675d5c57886ee00d78f05c75d7b673dfca8dfd (from https://pypi.org/simple/xlwings/). Command errored out with exit status 1: python setup.py egg_info Check the logs for full command output.\u001b[0m\n",
            "\u001b[?25h  Downloading xlwings-0.11.2.tar.gz (1.7 MB)\n",
            "\u001b[K     |████████████████████████████████| 1.7 MB 60.2 MB/s \n",
            "\u001b[33mWARNING: Discarding https://files.pythonhosted.org/packages/e6/c2/52551da0bea263b9a337d1c120906bb42d6c78b73d6f4971013d7b44c212/xlwings-0.11.2.tar.gz#sha256=f11fb1bf2140a72f4ca8bc054a162c5740a6f93cb7994cac494d05d2cd9723cf (from https://pypi.org/simple/xlwings/). Command errored out with exit status 1: python setup.py egg_info Check the logs for full command output.\u001b[0m\n",
            "\u001b[?25h  Downloading xlwings-0.11.1.tar.gz (1.7 MB)\n",
            "\u001b[K     |████████████████████████████████| 1.7 MB 29.1 MB/s \n",
            "\u001b[33mWARNING: Discarding https://files.pythonhosted.org/packages/1e/4f/a5f518315f9c9dc110e4acfd95b13e88959e4539f9a71511444296688dab/xlwings-0.11.1.tar.gz#sha256=ed5c9f3f1729c4dd4d8135ff4493ccf1f1407c889cd97bf5371bbb4efc640e4e (from https://pypi.org/simple/xlwings/). Command errored out with exit status 1: python setup.py egg_info Check the logs for full command output.\u001b[0m\n",
            "\u001b[?25h  Downloading xlwings-0.11.0.tar.gz (1.7 MB)\n",
            "\u001b[K     |████████████████████████████████| 1.7 MB 31.3 MB/s \n",
            "\u001b[33mWARNING: Discarding https://files.pythonhosted.org/packages/01/04/07216d662aee177aa462095209f6c7d79594e34d0f6521d10cfeef2cf342/xlwings-0.11.0.tar.gz#sha256=ad682fc7e6ead100bf1b7358730d47f1a5e351863d3fae6c9970188430560766 (from https://pypi.org/simple/xlwings/). Command errored out with exit status 1: python setup.py egg_info Check the logs for full command output.\u001b[0m\n",
            "\u001b[?25h  Downloading xlwings-0.10.4.tar.gz (1.5 MB)\n",
            "\u001b[K     |████████████████████████████████| 1.5 MB 26.3 MB/s \n",
            "\u001b[33mWARNING: Discarding https://files.pythonhosted.org/packages/13/c8/c9a3b0108793cc6afe4505a6c50326e9b3989d50502079e44f48e7303ebf/xlwings-0.10.4.tar.gz#sha256=2af2f2a289f6e481f1367c1cb789339e5bda55739da5539549c1d7f0d6402741 (from https://pypi.org/simple/xlwings/). Command errored out with exit status 1: python setup.py egg_info Check the logs for full command output.\u001b[0m\n",
            "\u001b[?25h  Downloading xlwings-0.10.3.tar.gz (1.5 MB)\n",
            "\u001b[K     |████████████████████████████████| 1.5 MB 33.2 MB/s \n",
            "\u001b[33mWARNING: Discarding https://files.pythonhosted.org/packages/f5/9d/1a01e28f255e1ae6178162c2b7f92d5ab43167745bdda2eff9b8327a85ac/xlwings-0.10.3.tar.gz#sha256=6350a494183c5b02124237de6cd539c459358c2098202254454478ffcb580bed (from https://pypi.org/simple/xlwings/). Command errored out with exit status 1: python setup.py egg_info Check the logs for full command output.\u001b[0m\n",
            "\u001b[?25h  Downloading xlwings-0.10.2.tar.gz (1.5 MB)\n",
            "\u001b[K     |████████████████████████████████| 1.5 MB 37.0 MB/s \n",
            "\u001b[33mWARNING: Discarding https://files.pythonhosted.org/packages/6a/83/ef0b4464cb2bd9061ca5321bdadd58290d222859a4faf8740cbb2cf69d31/xlwings-0.10.2.tar.gz#sha256=65fd70fc2196020bba43abf9dfcdeb4b96977c87e575c6ae938ae55dfe6fc364 (from https://pypi.org/simple/xlwings/). Command errored out with exit status 1: python setup.py egg_info Check the logs for full command output.\u001b[0m\n",
            "\u001b[?25h  Downloading xlwings-0.10.1.tar.gz (1.5 MB)\n",
            "\u001b[K     |████████████████████████████████| 1.5 MB 25.2 MB/s \n",
            "\u001b[33mWARNING: Discarding https://files.pythonhosted.org/packages/56/8d/39e648c77871bf56dbe496aeabac5fc05d225d8da09c04c3446963b20f4d/xlwings-0.10.1.tar.gz#sha256=fe4d7b15972551e115106e9d51f96169f92e99867519ea0955009445563cfe06 (from https://pypi.org/simple/xlwings/). Command errored out with exit status 1: python setup.py egg_info Check the logs for full command output.\u001b[0m\n",
            "\u001b[?25h  Downloading xlwings-0.10.0.tar.gz (1.5 MB)\n",
            "\u001b[K     |████████████████████████████████| 1.5 MB 54.1 MB/s \n",
            "\u001b[33mWARNING: Discarding https://files.pythonhosted.org/packages/7d/99/466c1743cad4a0df3a1a00b0f09c4d20b9f07bfc2050232ccd6d9b13c547/xlwings-0.10.0.tar.gz#sha256=6ac5cde3874456701769e3e5ace567beae87df24c272b730fdf848f4f0d06fca (from https://pypi.org/simple/xlwings/). Command errored out with exit status 1: python setup.py egg_info Check the logs for full command output.\u001b[0m\n",
            "\u001b[?25h  Downloading xlwings-0.9.3.tar.gz (1.5 MB)\n",
            "\u001b[K     |████████████████████████████████| 1.5 MB 46.7 MB/s \n",
            "\u001b[33mWARNING: Discarding https://files.pythonhosted.org/packages/98/93/a49777fac149cadd5687de9b05d87a423507769a75cbb922559cebc3d068/xlwings-0.9.3.tar.gz#sha256=5094efb2209097b2f87cb123e564e1a6ce50e1eb3dfe44d91c6c26b2f756971e (from https://pypi.org/simple/xlwings/). Command errored out with exit status 1: python setup.py egg_info Check the logs for full command output.\u001b[0m\n",
            "\u001b[?25h  Downloading xlwings-0.9.2.tar.gz (1.5 MB)\n",
            "\u001b[K     |████████████████████████████████| 1.5 MB 47.1 MB/s \n",
            "\u001b[33mWARNING: Discarding https://files.pythonhosted.org/packages/0d/d1/d7544bcf36d0a64b7a4a213be44ca19bf0eb8b7de232cf743eddceba7c8b/xlwings-0.9.2.tar.gz#sha256=e615c31a2a802432cdffd4b592866128eb4f07fa20ec6d8036ebfa56c967a2b8 (from https://pypi.org/simple/xlwings/). Command errored out with exit status 1: python setup.py egg_info Check the logs for full command output.\u001b[0m\n",
            "\u001b[?25h  Downloading xlwings-0.9.1.tar.gz (1.5 MB)\n",
            "\u001b[K     |████████████████████████████████| 1.5 MB 61.4 MB/s \n",
            "\u001b[33mWARNING: Discarding https://files.pythonhosted.org/packages/b8/4f/600a74f7688ef9741b1ed1cbd28482435c7ce13c824b67aa4f7c7952abb6/xlwings-0.9.1.tar.gz#sha256=188f2703ddff99cf7f331455cd803a9ca8c262d7e18462e358a98b5d9d074899 (from https://pypi.org/simple/xlwings/). Command errored out with exit status 1: python setup.py egg_info Check the logs for full command output.\u001b[0m\n",
            "\u001b[?25h  Downloading xlwings-0.9.0.tar.gz (1.5 MB)\n",
            "\u001b[K     |████████████████████████████████| 1.5 MB 28.1 MB/s \n",
            "\u001b[33mWARNING: Discarding https://files.pythonhosted.org/packages/e4/e2/6c714b537cf02aa76184ebae61c148265d3d0e130093f7f5a8ddd5a633f8/xlwings-0.9.0.tar.gz#sha256=6168118ecd7701209e1bff0de7e31440ad6b3a629b83daf3319e798e2e2ca14e (from https://pypi.org/simple/xlwings/). Command errored out with exit status 1: python setup.py egg_info Check the logs for full command output.\u001b[0m\n",
            "\u001b[?25h  Downloading xlwings-0.7.2.tar.gz (1.5 MB)\n",
            "\u001b[K     |████████████████████████████████| 1.5 MB 53.9 MB/s \n",
            "\u001b[33mWARNING: Discarding https://files.pythonhosted.org/packages/21/77/825904bb2db7cd79beaa505e2bf4a77da6772a7fd6b7467c348819ffc8b0/xlwings-0.7.2.tar.gz#sha256=921364bdf40f3a31bae862d36df3b7d88e4569a9388f9126960f17dd2aa498f1 (from https://pypi.org/simple/xlwings/). Command errored out with exit status 1: python setup.py egg_info Check the logs for full command output.\u001b[0m\n",
            "\u001b[?25h  Downloading xlwings-0.7.1.tar.gz (1.5 MB)\n",
            "\u001b[K     |████████████████████████████████| 1.5 MB 56.2 MB/s \n",
            "\u001b[33mWARNING: Discarding https://files.pythonhosted.org/packages/12/12/5be03b88a3266667bd5c1dd2d2dbe0038f362b3b8ead7ced04246101bbe8/xlwings-0.7.1.tar.gz#sha256=69e84ea43367399ff046d3b09b6d874342cfd0a5ce587653274add521c428180 (from https://pypi.org/simple/xlwings/). Command errored out with exit status 1: python setup.py egg_info Check the logs for full command output.\u001b[0m\n",
            "\u001b[?25h  Downloading xlwings-0.7.0.tar.gz (1.3 MB)\n",
            "\u001b[K     |████████████████████████████████| 1.3 MB 41.3 MB/s \n",
            "\u001b[33mWARNING: Discarding https://files.pythonhosted.org/packages/0f/4a/a64c69b00c9fd183ce12a14a469d9c80515ff79929521002b1566154aa46/xlwings-0.7.0.tar.gz#sha256=e464796256b0f227386da9b6e933d904c0ebc8dacd097b28f5e80cea359a2cac (from https://pypi.org/simple/xlwings/). Command errored out with exit status 1: python setup.py egg_info Check the logs for full command output.\u001b[0m\n",
            "\u001b[?25h  Downloading xlwings-0.6.4.tar.gz (1.1 MB)\n",
            "\u001b[K     |████████████████████████████████| 1.1 MB 68.1 MB/s \n",
            "\u001b[33mWARNING: Discarding https://files.pythonhosted.org/packages/c0/12/8d795ce9a0e311e8f4941094d7fef366874d84b8adac444df501f0e708d9/xlwings-0.6.4.tar.gz#sha256=5707d8abc352e4c87a35e300cfaaca366f009580d5eaf67b97e90e2e6a471b8c (from https://pypi.org/simple/xlwings/). Command errored out with exit status 1: python setup.py egg_info Check the logs for full command output.\u001b[0m\n",
            "\u001b[?25h  Downloading xlwings-0.6.3.tar.gz (1.0 MB)\n",
            "\u001b[K     |████████████████████████████████| 1.0 MB 42.8 MB/s \n",
            "\u001b[33mWARNING: Discarding https://files.pythonhosted.org/packages/fd/c8/10d1162efa1c205140ed88be2988a665b2196233d756d97e53aafccc3ef0/xlwings-0.6.3.tar.gz#sha256=0512aed8d6b07d1e6226f1dcf335c31406ffb5557a39b65e52629a06a5763432 (from https://pypi.org/simple/xlwings/). Command errored out with exit status 1: python setup.py egg_info Check the logs for full command output.\u001b[0m\n",
            "\u001b[?25h  Downloading xlwings-0.6.2.tar.gz (1.0 MB)\n",
            "\u001b[K     |████████████████████████████████| 1.0 MB 38.9 MB/s \n",
            "\u001b[33mWARNING: Discarding https://files.pythonhosted.org/packages/23/1d/9bd11d604745dbe0d2a6e721401481f3df46b77cfd9f385994587e4e0feb/xlwings-0.6.2.tar.gz#sha256=b14ad257031595a9c65979a2b3cad495d0077a6714a63487458a834de1f25ce3 (from https://pypi.org/simple/xlwings/). Command errored out with exit status 1: python setup.py egg_info Check the logs for full command output.\u001b[0m\n",
            "\u001b[?25h  Downloading xlwings-0.6.1.tar.gz (1.9 MB)\n",
            "\u001b[K     |████████████████████████████████| 1.9 MB 32.1 MB/s \n",
            "\u001b[33mWARNING: Discarding https://files.pythonhosted.org/packages/10/d0/4fc462fb9c55d0b48210ced09987448fea08faf3e99c36c04d619d9b64d7/xlwings-0.6.1.tar.gz#sha256=1830d481025a7970f6f97bef80af16d1542c5056e4e0232268c2a051b55552fd (from https://pypi.org/simple/xlwings/). Command errored out with exit status 1: python setup.py egg_info Check the logs for full command output.\u001b[0m\n",
            "\u001b[?25h  Downloading xlwings-0.6.0.tar.gz (1.9 MB)\n",
            "\u001b[K     |████████████████████████████████| 1.9 MB 36.9 MB/s \n",
            "\u001b[33mWARNING: Discarding https://files.pythonhosted.org/packages/f4/47/a90ff371e003989fa595c0dc2ea1eced0bb07aea523886bf80e540f160aa/xlwings-0.6.0.tar.gz#sha256=127645204698ee32e2763346afc3c4acbd296e716d977fbf8d3497da3b14fc03 (from https://pypi.org/simple/xlwings/). Command errored out with exit status 1: python setup.py egg_info Check the logs for full command output.\u001b[0m\n",
            "\u001b[?25h  Downloading xlwings-0.5.0.tar.gz (1.8 MB)\n",
            "\u001b[K     |████████████████████████████████| 1.8 MB 62.9 MB/s \n",
            "\u001b[33mWARNING: Discarding https://files.pythonhosted.org/packages/37/11/354e26c02e5ee32550cdda8e42263ee9f3ba768deb208129a4ed5f229070/xlwings-0.5.0.tar.gz#sha256=e12cb6c8627ebe391a9944426442bb787299ed4e38cf9d36bf188376f4e70c16 (from https://pypi.org/simple/xlwings/). Command errored out with exit status 1: python setup.py egg_info Check the logs for full command output.\u001b[0m\n",
            "\u001b[?25h  Downloading xlwings-0.4.1.tar.gz (348 kB)\n",
            "\u001b[K     |████████████████████████████████| 348 kB 54.2 MB/s \n",
            "\u001b[33mWARNING: Discarding https://files.pythonhosted.org/packages/da/86/7df93d533dadeca587bf3f930bc0144894e76ba06385e6329253a79bf94a/xlwings-0.4.1.tar.gz#sha256=2dcfb5604deb5360ca48fee383399ebd5cfbd57dccc584c8778ec03e7b5d03ca (from https://pypi.org/simple/xlwings/). Command errored out with exit status 1: python setup.py egg_info Check the logs for full command output.\u001b[0m\n",
            "\u001b[?25h  Downloading xlwings-0.4.0.tar.gz (356 kB)\n",
            "\u001b[K     |████████████████████████████████| 356 kB 49.4 MB/s \n",
            "\u001b[33mWARNING: Discarding https://files.pythonhosted.org/packages/3d/21/98edebdfc3796603d768d6895b587f1414e08bd0b2266d400cff8312dbb6/xlwings-0.4.0.tar.gz#sha256=4db3514f478151596ede0bb7c4450b6ee734e79651a0064a952612b1294ed889 (from https://pypi.org/simple/xlwings/). Command errored out with exit status 1: python setup.py egg_info Check the logs for full command output.\u001b[0m\n",
            "\u001b[?25h  Downloading xlwings-0.3.6.tar.gz (353 kB)\n",
            "\u001b[K     |████████████████████████████████| 353 kB 44.5 MB/s \n",
            "\u001b[33mWARNING: Discarding https://files.pythonhosted.org/packages/11/76/4c16c3cec6c60d8f4f425fb49a226a51525e713b1bcd2d8295360a43af0a/xlwings-0.3.6.tar.gz#sha256=55d7faac5d66e882e75fee4d329cc04f7cf4f4602b4a855a6325f7cbf758474d (from https://pypi.org/simple/xlwings/). Command errored out with exit status 1: python setup.py egg_info Check the logs for full command output.\u001b[0m\n",
            "\u001b[?25h  Downloading xlwings-0.3.5.tar.gz (282 kB)\n",
            "\u001b[K     |████████████████████████████████| 282 kB 52.3 MB/s \n",
            "\u001b[33mWARNING: Discarding https://files.pythonhosted.org/packages/a0/98/bbe885c33f8d3a5cd6546f011afbdb81a43cd80d80622fc4b6e392d59656/xlwings-0.3.5.tar.gz#sha256=5ba6fe6b2441022bc196cbfad688d53050efafccd5a0b13831c047ad612db6de (from https://pypi.org/simple/xlwings/). Command errored out with exit status 1: python setup.py egg_info Check the logs for full command output.\u001b[0m\n",
            "\u001b[?25h  Downloading xlwings-0.3.4.tar.gz (281 kB)\n",
            "\u001b[K     |████████████████████████████████| 281 kB 55.2 MB/s \n",
            "\u001b[33mWARNING: Discarding https://files.pythonhosted.org/packages/b2/92/4a5a236274d06b448441e2dbe051f6c7ffeea39ee46d806b1debea0729e5/xlwings-0.3.4.tar.gz#sha256=38e6cfc8cc8a666e2a352aa6bd7109c82dbf7b38309e4fb157ef571d859cc48e (from https://pypi.org/simple/xlwings/). Command errored out with exit status 1: python setup.py egg_info Check the logs for full command output.\u001b[0m\n",
            "\u001b[?25h  Downloading xlwings-0.3.3.tar.gz (281 kB)\n",
            "\u001b[K     |████████████████████████████████| 281 kB 47.5 MB/s \n",
            "\u001b[33mWARNING: Discarding https://files.pythonhosted.org/packages/23/97/53f39cb4ed91d2d7532cfeb97d4e1927a782b731c055dbfeccec8fbd956d/xlwings-0.3.3.tar.gz#sha256=cade953148fd3ce11c4478f2c87fc4934b40f5df6b642a38bc2d569a998ebdaf (from https://pypi.org/simple/xlwings/). Command errored out with exit status 1: python setup.py egg_info Check the logs for full command output.\u001b[0m\n",
            "\u001b[?25h  Downloading xlwings-0.3.2.tar.gz (239 kB)\n",
            "\u001b[K     |████████████████████████████████| 239 kB 45.8 MB/s \n",
            "\u001b[33mWARNING: Discarding https://files.pythonhosted.org/packages/bc/b2/b027d2946c6b7d8ed674ca9ff2fbceb6721dd8ad79cde1636f10b8e8d4f1/xlwings-0.3.2.tar.gz#sha256=bdab89bb7607a772e4a95f7e35d9508c76548158297116da51f17a745a0aa590 (from https://pypi.org/simple/xlwings/). Command errored out with exit status 1: python setup.py egg_info Check the logs for full command output.\u001b[0m\n",
            "\u001b[?25h  Downloading xlwings-0.3.1.tar.gz (239 kB)\n",
            "\u001b[K     |████████████████████████████████| 239 kB 51.6 MB/s \n",
            "\u001b[33mWARNING: Discarding https://files.pythonhosted.org/packages/78/57/175f4f6b2591ad80bd9b263eeda85bfb3622b2cb7df79b6be5efb1946aa7/xlwings-0.3.1.tar.gz#sha256=2796a8ae7e7813048a3653ea9ec714044820dd99d79f25a77980506c99592505 (from https://pypi.org/simple/xlwings/). Command errored out with exit status 1: python setup.py egg_info Check the logs for full command output.\u001b[0m\n",
            "\u001b[?25h  Downloading xlwings-0.3.0.tar.gz (237 kB)\n",
            "\u001b[K     |████████████████████████████████| 237 kB 53.7 MB/s \n",
            "\u001b[33mWARNING: Discarding https://files.pythonhosted.org/packages/be/6d/57a99caf0f48358df6913e42a12c194a026ea9d83b21d13983205c37a2f5/xlwings-0.3.0.tar.gz#sha256=138ffbe14720a6d9f7e03d62832cf510ec7d153d01fbaa53e1221f92970acfa5 (from https://pypi.org/simple/xlwings/). Command errored out with exit status 1: python setup.py egg_info Check the logs for full command output.\u001b[0m\n",
            "\u001b[?25h  Downloading xlwings-0.2.3.tar.gz (140 kB)\n",
            "\u001b[K     |████████████████████████████████| 140 kB 54.4 MB/s \n",
            "\u001b[?25hBuilding wheels for collected packages: xlwings\n",
            "  Building wheel for xlwings (setup.py) ... \u001b[?25l\u001b[?25hdone\n",
            "  Created wheel for xlwings: filename=xlwings-0.2.3-py3-none-any.whl size=69755 sha256=26e43acbe30492c71d792469523c3e5e13b3313b3b28d6ec5a30d7c1c9faa817\n",
            "  Stored in directory: /root/.cache/pip/wheels/d1/5e/6f/84342fa13d732aefdc9b03da011058523a028ac0cf66e3ef3e\n",
            "Successfully built xlwings\n",
            "Installing collected packages: xlwings\n",
            "Successfully installed xlwings-0.2.3\n"
          ]
        }
      ]
    },
    {
      "cell_type": "code",
      "metadata": {
        "colab": {
          "base_uri": "https://localhost:8080/",
          "height": 165
        },
        "id": "ilVTZDIYA91p",
        "outputId": "5486cb6d-8b3e-48cf-c549-aad5401be2a3"
      },
      "source": [
        "xw.__version__"
      ],
      "execution_count": 5,
      "outputs": [
        {
          "output_type": "error",
          "ename": "NameError",
          "evalue": "ignored",
          "traceback": [
            "\u001b[0;31m---------------------------------------------------------------------------\u001b[0m",
            "\u001b[0;31mNameError\u001b[0m                                 Traceback (most recent call last)",
            "\u001b[0;32m<ipython-input-5-b170c66561de>\u001b[0m in \u001b[0;36m<module>\u001b[0;34m()\u001b[0m\n\u001b[0;32m----> 1\u001b[0;31m \u001b[0mxw\u001b[0m\u001b[0;34m.\u001b[0m\u001b[0m__version__\u001b[0m\u001b[0;34m\u001b[0m\u001b[0;34m\u001b[0m\u001b[0m\n\u001b[0m",
            "\u001b[0;31mNameError\u001b[0m: name 'xw' is not defined"
          ]
        }
      ]
    },
    {
      "cell_type": "markdown",
      "metadata": {
        "id": "szNHQyqrA91q"
      },
      "source": [
        "1. На листе \"Рецептура\" файла `себестоимостьА_в1.xlsx` для области \"Пшеничный хлеб\" рассчитать себестоимость всех видов продукции."
      ]
    },
    {
      "cell_type": "code",
      "metadata": {
        "id": "qs5OjDEuA91q",
        "outputId": "da1c07c9-3d14-4a5e-f34d-dcd4f9e845d2"
      },
      "source": [
        ""
      ],
      "execution_count": null,
      "outputs": [
        {
          "data": {
            "text/plain": [
              "<Sheet [себестоимостьА_в1.xlsx]Рецептура>"
            ]
          },
          "execution_count": 6,
          "metadata": {},
          "output_type": "execute_result"
        }
      ]
    },
    {
      "cell_type": "code",
      "metadata": {
        "id": "yQnWVkb-A91r",
        "outputId": "a88cb457-dbfa-41c6-c4cf-b0ca1a9714aa"
      },
      "source": [
        ""
      ],
      "execution_count": null,
      "outputs": [
        {
          "data": {
            "text/plain": [
              "array([21.48 , 16.525, 17.423, 18.085])"
            ]
          },
          "execution_count": 8,
          "metadata": {},
          "output_type": "execute_result"
        }
      ]
    },
    {
      "cell_type": "markdown",
      "metadata": {
        "id": "kGPvJesfA91r"
      },
      "source": [
        "2. Результаты расчетов 1.1 сохранить в отдельном столбце области \"Пшеничный хлеб\""
      ]
    },
    {
      "cell_type": "code",
      "metadata": {
        "id": "XpYTdCgiA91s"
      },
      "source": [
        ""
      ],
      "execution_count": null,
      "outputs": []
    },
    {
      "cell_type": "markdown",
      "metadata": {
        "id": "iGY7I1AiA91s"
      },
      "source": [
        "3. Приблизить форматирование столбца, добавленного в задаче 2 к оформлению всей области."
      ]
    },
    {
      "cell_type": "code",
      "metadata": {
        "id": "GwRWxF4wA91t"
      },
      "source": [
        ""
      ],
      "execution_count": null,
      "outputs": []
    },
    {
      "cell_type": "markdown",
      "metadata": {
        "id": "SxC9SwFrA91t"
      },
      "source": [
        "4. Выполнить 3 с помощью \"протягиваемых\" формул."
      ]
    },
    {
      "cell_type": "code",
      "metadata": {
        "id": "mJpjhJWoA91t",
        "outputId": "6ba27f93-fe40-4189-d2fb-08a73fea8369"
      },
      "source": [
        ""
      ],
      "execution_count": null,
      "outputs": [
        {
          "data": {
            "text/plain": [
              "True"
            ]
          },
          "execution_count": 11,
          "metadata": {},
          "output_type": "execute_result"
        }
      ]
    },
    {
      "cell_type": "markdown",
      "metadata": {
        "id": "5zYpuLpVA91u"
      },
      "source": [
        "## Лабораторная работа 7"
      ]
    },
    {
      "cell_type": "markdown",
      "metadata": {
        "id": "9ln7lcdMA91u"
      },
      "source": [
        "1. Загрузите данные из файлов `reviews_sample.csv` (__ЛР2__) и `recipes_sample_with_tags_ingredients.csv` (__ЛР5__) в виде `pd.DataFrame`. Обратите внимание на корректное считывание столбца(ов) с индексами. Оставьте в таблице с рецептами следующие столбцы: `id`, `name`, `minutes`, `submitted`, `description`, `n_ingredients`"
      ]
    },
    {
      "cell_type": "code",
      "metadata": {
        "id": "4BY3ZWf6A91u"
      },
      "source": [
        "import pandas as pd"
      ],
      "execution_count": 7,
      "outputs": []
    },
    {
      "cell_type": "code",
      "metadata": {
        "colab": {
          "base_uri": "https://localhost:8080/",
          "height": 217
        },
        "id": "PpGwlYUeA91u",
        "outputId": "5b7f6b8b-cd39-4ad5-b891-2116862eaeae"
      },
      "source": [
        "import os \n",
        "path = \"recipes.xlsx\"\n",
        "# if os.path.exists(path):\n",
        "#     os.remove(path)\n",
        "recipes_excel = xw.Book(path)\n",
        "# recipes_excel.save(path)"
      ],
      "execution_count": 9,
      "outputs": [
        {
          "output_type": "error",
          "ename": "NameError",
          "evalue": "ignored",
          "traceback": [
            "\u001b[0;31m---------------------------------------------------------------------------\u001b[0m",
            "\u001b[0;31mNameError\u001b[0m                                 Traceback (most recent call last)",
            "\u001b[0;32m<ipython-input-9-ef0e50302964>\u001b[0m in \u001b[0;36m<module>\u001b[0;34m()\u001b[0m\n\u001b[1;32m      3\u001b[0m \u001b[0;31m# if os.path.exists(path):\u001b[0m\u001b[0;34m\u001b[0m\u001b[0;34m\u001b[0m\u001b[0;34m\u001b[0m\u001b[0m\n\u001b[1;32m      4\u001b[0m \u001b[0;31m#     os.remove(path)\u001b[0m\u001b[0;34m\u001b[0m\u001b[0;34m\u001b[0m\u001b[0;34m\u001b[0m\u001b[0m\n\u001b[0;32m----> 5\u001b[0;31m \u001b[0mrecipes_excel\u001b[0m \u001b[0;34m=\u001b[0m \u001b[0mxw\u001b[0m\u001b[0;34m.\u001b[0m\u001b[0mBook\u001b[0m\u001b[0;34m(\u001b[0m\u001b[0mpath\u001b[0m\u001b[0;34m)\u001b[0m\u001b[0;34m\u001b[0m\u001b[0;34m\u001b[0m\u001b[0m\n\u001b[0m\u001b[1;32m      6\u001b[0m \u001b[0;31m# recipes_excel.save(path)\u001b[0m\u001b[0;34m\u001b[0m\u001b[0;34m\u001b[0m\u001b[0;34m\u001b[0m\u001b[0m\n",
            "\u001b[0;31mNameError\u001b[0m: name 'xw' is not defined"
          ]
        }
      ]
    },
    {
      "cell_type": "code",
      "metadata": {
        "id": "YLa2QMWMA91v",
        "outputId": "f11a60a4-8af4-4bcc-d895-40f7d1474ba9"
      },
      "source": [
        "reviews_sample = pd.read_csv(DATA_OLD + \"reviews_sample.csv\", sep=\",\", parse_dates=['date'])\n",
        "reviews_sample = reviews_sample.rename(columns={\"Unnamed: 0\": \"index\"})\n",
        "reviews_sample = reviews_sample.set_index(\"index\")\n",
        "reviews_sample"
      ],
      "execution_count": null,
      "outputs": [
        {
          "data": {
            "text/html": [
              "<div>\n",
              "<style scoped>\n",
              "    .dataframe tbody tr th:only-of-type {\n",
              "        vertical-align: middle;\n",
              "    }\n",
              "\n",
              "    .dataframe tbody tr th {\n",
              "        vertical-align: top;\n",
              "    }\n",
              "\n",
              "    .dataframe thead th {\n",
              "        text-align: right;\n",
              "    }\n",
              "</style>\n",
              "<table border=\"1\" class=\"dataframe\">\n",
              "  <thead>\n",
              "    <tr style=\"text-align: right;\">\n",
              "      <th></th>\n",
              "      <th>user_id</th>\n",
              "      <th>recipe_id</th>\n",
              "      <th>date</th>\n",
              "      <th>rating</th>\n",
              "      <th>review</th>\n",
              "    </tr>\n",
              "    <tr>\n",
              "      <th>index</th>\n",
              "      <th></th>\n",
              "      <th></th>\n",
              "      <th></th>\n",
              "      <th></th>\n",
              "      <th></th>\n",
              "    </tr>\n",
              "  </thead>\n",
              "  <tbody>\n",
              "    <tr>\n",
              "      <th>370476</th>\n",
              "      <td>21752</td>\n",
              "      <td>57993</td>\n",
              "      <td>2003-05-01</td>\n",
              "      <td>5</td>\n",
              "      <td>Last week whole sides of frozen salmon fillet ...</td>\n",
              "    </tr>\n",
              "    <tr>\n",
              "      <th>624300</th>\n",
              "      <td>431813</td>\n",
              "      <td>142201</td>\n",
              "      <td>2007-09-16</td>\n",
              "      <td>5</td>\n",
              "      <td>So simple and so tasty!  I used a yellow capsi...</td>\n",
              "    </tr>\n",
              "    <tr>\n",
              "      <th>187037</th>\n",
              "      <td>400708</td>\n",
              "      <td>252013</td>\n",
              "      <td>2008-01-10</td>\n",
              "      <td>4</td>\n",
              "      <td>Very nice breakfast HH, easy to make and yummy...</td>\n",
              "    </tr>\n",
              "    <tr>\n",
              "      <th>706134</th>\n",
              "      <td>2001852463</td>\n",
              "      <td>404716</td>\n",
              "      <td>2017-12-11</td>\n",
              "      <td>5</td>\n",
              "      <td>These are a favorite for the holidays and so e...</td>\n",
              "    </tr>\n",
              "    <tr>\n",
              "      <th>312179</th>\n",
              "      <td>95810</td>\n",
              "      <td>129396</td>\n",
              "      <td>2008-03-14</td>\n",
              "      <td>5</td>\n",
              "      <td>Excellent soup!  The tomato flavor is just gre...</td>\n",
              "    </tr>\n",
              "    <tr>\n",
              "      <th>...</th>\n",
              "      <td>...</td>\n",
              "      <td>...</td>\n",
              "      <td>...</td>\n",
              "      <td>...</td>\n",
              "      <td>...</td>\n",
              "    </tr>\n",
              "    <tr>\n",
              "      <th>1013457</th>\n",
              "      <td>1270706</td>\n",
              "      <td>335534</td>\n",
              "      <td>2009-05-17</td>\n",
              "      <td>4</td>\n",
              "      <td>This recipe was great! I made it last night. I...</td>\n",
              "    </tr>\n",
              "    <tr>\n",
              "      <th>158736</th>\n",
              "      <td>2282344</td>\n",
              "      <td>8701</td>\n",
              "      <td>2012-06-03</td>\n",
              "      <td>0</td>\n",
              "      <td>This recipe is outstanding. I followed the rec...</td>\n",
              "    </tr>\n",
              "    <tr>\n",
              "      <th>1059834</th>\n",
              "      <td>689540</td>\n",
              "      <td>222001</td>\n",
              "      <td>2008-04-08</td>\n",
              "      <td>5</td>\n",
              "      <td>Well, we were not a crowd but it was a fabulou...</td>\n",
              "    </tr>\n",
              "    <tr>\n",
              "      <th>453285</th>\n",
              "      <td>2000242659</td>\n",
              "      <td>354979</td>\n",
              "      <td>2015-06-02</td>\n",
              "      <td>5</td>\n",
              "      <td>I have been a steak eater and dedicated BBQ gr...</td>\n",
              "    </tr>\n",
              "    <tr>\n",
              "      <th>691207</th>\n",
              "      <td>463435</td>\n",
              "      <td>415599</td>\n",
              "      <td>2010-09-30</td>\n",
              "      <td>5</td>\n",
              "      <td>Wonderful and simple to prepare seasoning blen...</td>\n",
              "    </tr>\n",
              "  </tbody>\n",
              "</table>\n",
              "<p>126696 rows × 5 columns</p>\n",
              "</div>"
            ],
            "text/plain": [
              "            user_id  recipe_id       date  rating  \\\n",
              "index                                               \n",
              "370476        21752      57993 2003-05-01       5   \n",
              "624300       431813     142201 2007-09-16       5   \n",
              "187037       400708     252013 2008-01-10       4   \n",
              "706134   2001852463     404716 2017-12-11       5   \n",
              "312179        95810     129396 2008-03-14       5   \n",
              "...             ...        ...        ...     ...   \n",
              "1013457     1270706     335534 2009-05-17       4   \n",
              "158736      2282344       8701 2012-06-03       0   \n",
              "1059834      689540     222001 2008-04-08       5   \n",
              "453285   2000242659     354979 2015-06-02       5   \n",
              "691207       463435     415599 2010-09-30       5   \n",
              "\n",
              "                                                    review  \n",
              "index                                                       \n",
              "370476   Last week whole sides of frozen salmon fillet ...  \n",
              "624300   So simple and so tasty!  I used a yellow capsi...  \n",
              "187037   Very nice breakfast HH, easy to make and yummy...  \n",
              "706134   These are a favorite for the holidays and so e...  \n",
              "312179   Excellent soup!  The tomato flavor is just gre...  \n",
              "...                                                    ...  \n",
              "1013457  This recipe was great! I made it last night. I...  \n",
              "158736   This recipe is outstanding. I followed the rec...  \n",
              "1059834  Well, we were not a crowd but it was a fabulou...  \n",
              "453285   I have been a steak eater and dedicated BBQ gr...  \n",
              "691207   Wonderful and simple to prepare seasoning blen...  \n",
              "\n",
              "[126696 rows x 5 columns]"
            ]
          },
          "execution_count": 5,
          "metadata": {},
          "output_type": "execute_result"
        }
      ]
    },
    {
      "cell_type": "code",
      "metadata": {
        "id": "lNLsx1ZmA91v",
        "outputId": "cde7b64d-0b67-4cf4-f9dd-576731267d05"
      },
      "source": [
        "recipes_sample_with_tags_ingredients = pd.read_csv(DATA_OLD+\"recipes_sample_with_tags_ingredients.csv\", sep=\",\", parse_dates=['submitted'])\n",
        "recipes_sample_with_tags_ingredients = recipes_sample_with_tags_ingredients.rename(columns={\"Unnamed: 0\": \"index\"})\n",
        "recipes_sample_with_tags_ingredients = recipes_sample_with_tags_ingredients.set_index(\"index\")\n",
        "recipes_sample_with_tags_ingredients.drop([\"contributor_id\", \"n_steps\",\"n_tags\",\"tags\",\"ingredients\"], axis=1, inplace=True)\n",
        "recipes_sample_with_tags_ingredients"
      ],
      "execution_count": null,
      "outputs": [
        {
          "data": {
            "text/html": [
              "<div>\n",
              "<style scoped>\n",
              "    .dataframe tbody tr th:only-of-type {\n",
              "        vertical-align: middle;\n",
              "    }\n",
              "\n",
              "    .dataframe tbody tr th {\n",
              "        vertical-align: top;\n",
              "    }\n",
              "\n",
              "    .dataframe thead th {\n",
              "        text-align: right;\n",
              "    }\n",
              "</style>\n",
              "<table border=\"1\" class=\"dataframe\">\n",
              "  <thead>\n",
              "    <tr style=\"text-align: right;\">\n",
              "      <th></th>\n",
              "      <th>name</th>\n",
              "      <th>id</th>\n",
              "      <th>minutes</th>\n",
              "      <th>submitted</th>\n",
              "      <th>description</th>\n",
              "      <th>n_ingredients</th>\n",
              "    </tr>\n",
              "    <tr>\n",
              "      <th>index</th>\n",
              "      <th></th>\n",
              "      <th></th>\n",
              "      <th></th>\n",
              "      <th></th>\n",
              "      <th></th>\n",
              "      <th></th>\n",
              "    </tr>\n",
              "  </thead>\n",
              "  <tbody>\n",
              "    <tr>\n",
              "      <th>0</th>\n",
              "      <td>george s at the cove  black bean soup</td>\n",
              "      <td>44123</td>\n",
              "      <td>90</td>\n",
              "      <td>2002-10-25</td>\n",
              "      <td>an original recipe created by chef scott meska...</td>\n",
              "      <td>18</td>\n",
              "    </tr>\n",
              "    <tr>\n",
              "      <th>1</th>\n",
              "      <td>healthy for them  yogurt popsicles</td>\n",
              "      <td>67664</td>\n",
              "      <td>10</td>\n",
              "      <td>2003-07-26</td>\n",
              "      <td>my children and their friends ask for my homem...</td>\n",
              "      <td>3</td>\n",
              "    </tr>\n",
              "    <tr>\n",
              "      <th>2</th>\n",
              "      <td>i can t believe it s spinach</td>\n",
              "      <td>38798</td>\n",
              "      <td>30</td>\n",
              "      <td>2002-08-29</td>\n",
              "      <td>these were so go, it surprised even me.</td>\n",
              "      <td>8</td>\n",
              "    </tr>\n",
              "    <tr>\n",
              "      <th>3</th>\n",
              "      <td>italian  gut busters</td>\n",
              "      <td>35173</td>\n",
              "      <td>45</td>\n",
              "      <td>2002-07-27</td>\n",
              "      <td>my sister-in-law made these for us at a family...</td>\n",
              "      <td>9</td>\n",
              "    </tr>\n",
              "    <tr>\n",
              "      <th>4</th>\n",
              "      <td>love is in the air  beef fondue   sauces</td>\n",
              "      <td>84797</td>\n",
              "      <td>25</td>\n",
              "      <td>2004-02-23</td>\n",
              "      <td>i think a fondue is a very romantic casual din...</td>\n",
              "      <td>12</td>\n",
              "    </tr>\n",
              "    <tr>\n",
              "      <th>...</th>\n",
              "      <td>...</td>\n",
              "      <td>...</td>\n",
              "      <td>...</td>\n",
              "      <td>...</td>\n",
              "      <td>...</td>\n",
              "      <td>...</td>\n",
              "    </tr>\n",
              "    <tr>\n",
              "      <th>29995</th>\n",
              "      <td>zurie s holey rustic olive and cheddar bread</td>\n",
              "      <td>267661</td>\n",
              "      <td>80</td>\n",
              "      <td>2007-11-25</td>\n",
              "      <td>this is based on a french recipe but i changed...</td>\n",
              "      <td>10</td>\n",
              "    </tr>\n",
              "    <tr>\n",
              "      <th>29996</th>\n",
              "      <td>zwetschgenkuchen  bavarian plum cake</td>\n",
              "      <td>386977</td>\n",
              "      <td>240</td>\n",
              "      <td>2009-08-24</td>\n",
              "      <td>this is a traditional fresh plum cake, thought...</td>\n",
              "      <td>11</td>\n",
              "    </tr>\n",
              "    <tr>\n",
              "      <th>29997</th>\n",
              "      <td>zwiebelkuchen   southwest german onion cake</td>\n",
              "      <td>103312</td>\n",
              "      <td>75</td>\n",
              "      <td>2004-11-03</td>\n",
              "      <td>this is a traditional late summer early fall s...</td>\n",
              "      <td>13</td>\n",
              "    </tr>\n",
              "    <tr>\n",
              "      <th>29998</th>\n",
              "      <td>zydeco soup</td>\n",
              "      <td>486161</td>\n",
              "      <td>60</td>\n",
              "      <td>2012-08-29</td>\n",
              "      <td>this is a delicious soup that i originally fou...</td>\n",
              "      <td>22</td>\n",
              "    </tr>\n",
              "    <tr>\n",
              "      <th>29999</th>\n",
              "      <td>cookies by design   cookies on a stick</td>\n",
              "      <td>298512</td>\n",
              "      <td>29</td>\n",
              "      <td>2008-04-15</td>\n",
              "      <td>i've heard of the 'cookies by design' company,...</td>\n",
              "      <td>10</td>\n",
              "    </tr>\n",
              "  </tbody>\n",
              "</table>\n",
              "<p>30000 rows × 6 columns</p>\n",
              "</div>"
            ],
            "text/plain": [
              "                                               name      id  minutes  \\\n",
              "index                                                                  \n",
              "0             george s at the cove  black bean soup   44123       90   \n",
              "1                healthy for them  yogurt popsicles   67664       10   \n",
              "2                      i can t believe it s spinach   38798       30   \n",
              "3                              italian  gut busters   35173       45   \n",
              "4          love is in the air  beef fondue   sauces   84797       25   \n",
              "...                                             ...     ...      ...   \n",
              "29995  zurie s holey rustic olive and cheddar bread  267661       80   \n",
              "29996          zwetschgenkuchen  bavarian plum cake  386977      240   \n",
              "29997   zwiebelkuchen   southwest german onion cake  103312       75   \n",
              "29998                                   zydeco soup  486161       60   \n",
              "29999        cookies by design   cookies on a stick  298512       29   \n",
              "\n",
              "       submitted                                        description  \\\n",
              "index                                                                 \n",
              "0     2002-10-25  an original recipe created by chef scott meska...   \n",
              "1     2003-07-26  my children and their friends ask for my homem...   \n",
              "2     2002-08-29            these were so go, it surprised even me.   \n",
              "3     2002-07-27  my sister-in-law made these for us at a family...   \n",
              "4     2004-02-23  i think a fondue is a very romantic casual din...   \n",
              "...          ...                                                ...   \n",
              "29995 2007-11-25  this is based on a french recipe but i changed...   \n",
              "29996 2009-08-24  this is a traditional fresh plum cake, thought...   \n",
              "29997 2004-11-03  this is a traditional late summer early fall s...   \n",
              "29998 2012-08-29  this is a delicious soup that i originally fou...   \n",
              "29999 2008-04-15  i've heard of the 'cookies by design' company,...   \n",
              "\n",
              "       n_ingredients  \n",
              "index                 \n",
              "0                 18  \n",
              "1                  3  \n",
              "2                  8  \n",
              "3                  9  \n",
              "4                 12  \n",
              "...              ...  \n",
              "29995             10  \n",
              "29996             11  \n",
              "29997             13  \n",
              "29998             22  \n",
              "29999             10  \n",
              "\n",
              "[30000 rows x 6 columns]"
            ]
          },
          "execution_count": 6,
          "metadata": {},
          "output_type": "execute_result"
        }
      ]
    },
    {
      "cell_type": "markdown",
      "metadata": {
        "id": "e3e9c2XZA91v"
      },
      "source": [
        "2. Случайным образом выберите 5% строк из каждой таблицы и сохраните две таблицы на разные листы в один файл `recipes.xlsx`. Дайте листам названия \"Рецепты\" и \"Отзывы\", соответствующие содержанию таблиц. "
      ]
    },
    {
      "cell_type": "code",
      "metadata": {
        "id": "E14kjpt4A91w"
      },
      "source": [
        "new_recipes = recipes_sample_with_tags_ingredients.sample(frac = 0.05)\n",
        "new_reviews = reviews_sample.sample(frac = 0.05) \n",
        "new_recipes"
      ],
      "execution_count": null,
      "outputs": []
    },
    {
      "cell_type": "code",
      "metadata": {
        "id": "sgCngu-IA91w"
      },
      "source": [
        "new_reviews"
      ],
      "execution_count": null,
      "outputs": []
    },
    {
      "cell_type": "code",
      "metadata": {
        "id": "dPtogjl5A91w"
      },
      "source": [
        "recipes_sheet = recipes_excel.sheets.add(\"Recipes\")\n",
        "reviews_sheet = recipes_excel.sheets.add(\"Reviews\")\n"
      ],
      "execution_count": null,
      "outputs": []
    },
    {
      "cell_type": "code",
      "metadata": {
        "id": "T7gV_fnBA91x"
      },
      "source": [
        "recipes_excel.sheets[\"Sheet1\"].delete()"
      ],
      "execution_count": null,
      "outputs": []
    },
    {
      "cell_type": "code",
      "metadata": {
        "id": "gANco7FfA91x"
      },
      "source": [
        "recipes_sheet.range(\"A1\").value = new_recipes\n",
        "reviews_sheet.range(\"A1\").value = new_reviews"
      ],
      "execution_count": null,
      "outputs": []
    },
    {
      "cell_type": "markdown",
      "metadata": {
        "id": "izRS2XNVA91x"
      },
      "source": [
        "3. Используя `xlwings`, добавьте на лист `Рецепты` столбец `seconds_assign`, показывающий время выполнения рецепта в секундах. Выполните задание при помощи присваивания массива значений диапазону ячеек."
      ]
    },
    {
      "cell_type": "code",
      "metadata": {
        "id": "Zdr7Q5fTA91x"
      },
      "source": [
        "recipes_sheet.range(\"J1\").value=\"seconds_assign\"\n",
        "minutes = recipes_sheet.range(\"D2:D1501\").options(np.array).value\n",
        "seconds = minutes * 60\n",
        "recipes_sheet.range(\"J2\").options(transpose=True).value = seconds"
      ],
      "execution_count": null,
      "outputs": []
    },
    {
      "cell_type": "markdown",
      "metadata": {
        "id": "XUBF02X4A91x"
      },
      "source": [
        "4. Используя `xlwings`, добавьте на лист `Рецепты` столбец `seconds_formula`, показывающий время выполнения рецепта в секундах. Выполните задание при помощи формул Excel."
      ]
    },
    {
      "cell_type": "code",
      "metadata": {
        "id": "_C8wScSLA91y",
        "outputId": "d9061b9b-a60c-4f57-c08b-0eb381de4bba"
      },
      "source": [
        "from xlwings.constants import AutoFillType\n",
        "recipes_sheet.range(\"L1\").value=\"seconds_formula\"\n",
        "recipes_sheet.range(\"L2\").formula=\"=D2*60\"\n",
        "recipes_sheet.range(\"L2\").api.AutoFill(recipes_sheet.range(\"L2:L1501\").api, AutoFillType.xlFillDefault)"
      ],
      "execution_count": null,
      "outputs": [
        {
          "data": {
            "text/plain": [
              "True"
            ]
          },
          "execution_count": 13,
          "metadata": {},
          "output_type": "execute_result"
        }
      ]
    },
    {
      "cell_type": "markdown",
      "metadata": {
        "id": "nEH4pQyuA91y"
      },
      "source": [
        "5. Добавьте на лист `Рецепты`  столбец `n_reviews`, содержащий кол-во отзывов для этого рецепта. Выполните задание при помощи формул Excel."
      ]
    },
    {
      "cell_type": "code",
      "metadata": {
        "id": "Uxoz6gMbA91y",
        "outputId": "486e9e9d-34b9-42dd-aa1e-5a6308a36d9b"
      },
      "source": [
        "recipes_sheet.range(\"N1\").value=\"n_reviews\"\n",
        "recipes_sheet.range('N2').formula = '=COUNTIF(Reviews!$C$2:Reviews!$C$6336, \"=\"&Recipes!C2)'\n",
        "recipes_sheet.range('N2').api.AutoFill(recipes_sheet.range('N2:N1501').api, AutoFillType.xlFillDefault)"
      ],
      "execution_count": null,
      "outputs": [
        {
          "data": {
            "text/plain": [
              "True"
            ]
          },
          "execution_count": 14,
          "metadata": {},
          "output_type": "execute_result"
        }
      ]
    },
    {
      "cell_type": "markdown",
      "metadata": {
        "id": "pjM1moUCA91y"
      },
      "source": [
        "6. Сделайте названия всех добавленных столбцов полужирными и выровняйте по центру ячейки."
      ]
    },
    {
      "cell_type": "code",
      "metadata": {
        "id": "Nr5ZKNQYA91y"
      },
      "source": [
        "from xlwings import constants \n",
        "recipes_sheet['L1'].font.bold = True\n",
        "recipes_sheet['J1'].api.HorizontalAlignment = constants.HAlign.xlHAlignCenter"
      ],
      "execution_count": null,
      "outputs": []
    },
    {
      "cell_type": "code",
      "metadata": {
        "id": "5ESGXuG_A91y"
      },
      "source": [
        "recipes_sheet['J1'].font.bold = True\n",
        "recipes_sheet['L1'].api.HorizontalAlignment = constants.HAlign.xlHAlignCenter"
      ],
      "execution_count": null,
      "outputs": []
    },
    {
      "cell_type": "code",
      "metadata": {
        "id": "w8_iSoBbA91z"
      },
      "source": [
        "recipes_sheet['N1'].font.bold = True\n",
        "recipes_sheet['N1'].api.HorizontalAlignment = constants.HAlign.xlHAlignCenter"
      ],
      "execution_count": null,
      "outputs": []
    },
    {
      "cell_type": "code",
      "metadata": {
        "id": "AZHicSuyA91z"
      },
      "source": [
        "recipes_sheet.range('L1').font.bold = True"
      ],
      "execution_count": null,
      "outputs": []
    },
    {
      "cell_type": "markdown",
      "metadata": {
        "id": "8Z445E1aA91z"
      },
      "source": [
        "7. Раскрасьте ячейки столбца `minutes` в соответствии со следующим правилом: если рецепт выполняется быстрее 5 минут, то цвет - зеленый; от 5 до 10 минут - жёлтый; и больше 10 - красный."
      ]
    },
    {
      "cell_type": "code",
      "metadata": {
        "id": "mzjB4XEdA91z"
      },
      "source": [
        "\n",
        "def color_of_minutes(minutes):\n",
        "    if minutes < 5:\n",
        "        R = 0\n",
        "        G = 255\n",
        "        B = 0\n",
        "\n",
        "\n",
        "    elif 5 <= minutes <= 10:\n",
        "        R = 255\n",
        "        G = 255\n",
        "        B = 0\n",
        "\n",
        "\n",
        "    elif minutes > 10:\n",
        "        R = 255\n",
        "        G = 0\n",
        "        B = 0\n",
        "    return (R,G,B)\n",
        "\n",
        "\n",
        "for v in recipes_sheet.range(\"D2:D1501\"): \n",
        "    recipes_sheet[v.get_address()].color = color_of_minutes(v.value)\n",
        "    "
      ],
      "execution_count": null,
      "outputs": []
    },
    {
      "cell_type": "code",
      "metadata": {
        "id": "AFhHSYptA91z"
      },
      "source": [
        "#2 способ\n",
        "def color_of_minutes(minutes):\n",
        "    if minutes < 5:\n",
        "        R = 0\n",
        "        G = 255\n",
        "        B = 0\n",
        "    elif 5 <= minutes <= 10:\n",
        "        R = 255\n",
        "        G = 255\n",
        "        B = 0\n",
        "    elif minutes > 10:\n",
        "        R = 255\n",
        "        G = 0\n",
        "        B = 0\n",
        "    return (R,G,B)\n",
        "for v in recipes_sheet.range(\"D2:D1501\"):\n",
        "    #print(v.get_address())\n",
        "    #print(v.value)\n",
        "    recipes_sheet.range(v.get_address()).color = color_of_minutes(v.value)"
      ],
      "execution_count": null,
      "outputs": []
    },
    {
      "cell_type": "markdown",
      "metadata": {
        "id": "EgOKd-unA91z"
      },
      "source": [
        "8. Напишите функцию `validate()`, которая проверяет соответствие всех строк из листа `Отзывы` следующим правилам:\n",
        "    * Рейтинг - это число от 0 до 5 включительно\n",
        "    * Соответствующий рецепт имеется на листе `Рецепты`\n",
        "    \n",
        "В случае несоответствия этим правилам, выделите строку красным цветом"
      ]
    },
    {
      "cell_type": "code",
      "metadata": {
        "id": "wg2v62k-A910"
      },
      "source": [
        "def validate(sheet):\n",
        "    sheet.range(\"G1\").value = \"8_task\"\n",
        "    sheet.range('G2').formula = '=COUNTIF(Recipes!$C$2:Recipes!$C$1501,\"=\"&C2)>0'\n",
        "    sheet.range('G2').api.AutoFill(sheet.range(f'G2:G6337').api, AutoFillType.xlFillDefault)\n",
        "    for i in range(2, len(new_reviews) + 2):\n",
        "        rating = sheet.range(f'E{i}').value\n",
        "        if (rating < 0 or rating > 5) or sheet.range(f'G{i}').value == False:\n",
        "            sheet.range(f'A{i}:F{i}').color = (255, 0, 0)\n",
        "    sheet.range(\"G:G\").api.Delete()"
      ],
      "execution_count": null,
      "outputs": []
    },
    {
      "cell_type": "code",
      "metadata": {
        "id": "vr3hcOObA910"
      },
      "source": [
        "validate(reviews_sheet)"
      ],
      "execution_count": null,
      "outputs": []
    },
    {
      "cell_type": "code",
      "metadata": {
        "id": "hxLlHNSPA910"
      },
      "source": [
        "recipes_excel.save(\"recipes.xlsx\")\n",
        "recipes_excel.close()"
      ],
      "execution_count": null,
      "outputs": []
    }
  ]
}