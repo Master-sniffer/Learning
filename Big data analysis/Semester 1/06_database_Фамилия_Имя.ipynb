{
  "nbformat": 4,
  "nbformat_minor": 0,
  "metadata": {
    "kernelspec": {
      "name": "python3",
      "display_name": "Python 3"
    },
    "colab": {
      "name": "06_database_Фамилия_Имя.ipynb",
      "provenance": [],
      "collapsed_sections": []
    },
    "language_info": {
      "name": "python"
    }
  },
  "cells": [
    {
      "cell_type": "markdown",
      "metadata": {
        "id": "yqiMznROl4PC"
      },
      "source": [
        "# Работа с базами данных"
      ]
    },
    {
      "cell_type": "markdown",
      "metadata": {
        "id": "tn-g_ZP-l4PH"
      },
      "source": [
        "Материалы:\n",
        "* Макрушин С.В. Лекция 6: Работа с базами данных\n",
        "* https://sqliteonline.com/\n",
        "* https://docs.python.org/3/library/sqlite3.html\n",
        "* https://www.geeksforgeeks.org/sql-join-set-1-inner-left-right-and-full-joins/\n",
        "* https://www.datacamp.com/community/tutorials/group-by-having-clause-sql"
      ]
    },
    {
      "cell_type": "code",
      "metadata": {
        "colab": {
          "base_uri": "https://localhost:8080/"
        },
        "id": "02IFt5JBmI0j",
        "outputId": "feb405a6-9df6-4830-d051-744a41d8d11d"
      },
      "source": [
        "from google.colab import drive\n",
        "drive.mount('/content/drive')"
      ],
      "execution_count": 1,
      "outputs": [
        {
          "output_type": "stream",
          "name": "stdout",
          "text": [
            "Mounted at /content/drive\n"
          ]
        }
      ]
    },
    {
      "cell_type": "markdown",
      "metadata": {
        "id": "cZmjZ7x1l4PJ"
      },
      "source": [
        "## Задачи для совместного разбора"
      ]
    },
    {
      "cell_type": "markdown",
      "metadata": {
        "id": "fUwwhIuyl4PK"
      },
      "source": [
        "1. Работая с базой данных `Chinook_Sqlite.sqlite`, найдите и выведите на экран имена и фамилии всех заказчиков из Канады"
      ]
    },
    {
      "cell_type": "code",
      "metadata": {
        "colab": {
          "base_uri": "https://localhost:8080/"
        },
        "id": "xBfnUa3Rnx8A",
        "outputId": "b46cbd09-1be1-4e94-f77d-f1f30128e14c"
      },
      "source": [
        "import sqlite3\n",
        "\n",
        "con = sqlite3.connect('/content/drive/MyDrive/Colab Notebooks/lab 6/Chinook_Sqlite.sqlite')\n",
        "cur = con.cursor()\n",
        "\n",
        "cur.execute('''\n",
        "SELECT firstname, lastname\n",
        "FROM Customer \n",
        "WHERE country=?\n",
        "''', ('Canada', ))\n",
        "\n",
        "print(cur.fetchmany(5))"
      ],
      "execution_count": null,
      "outputs": [
        {
          "output_type": "stream",
          "name": "stdout",
          "text": [
            "[('François', 'Tremblay'), ('Mark', 'Philips'), ('Jennifer', 'Peterson'), ('Robert', 'Brown'), ('Edward', 'Francis')]\n"
          ]
        }
      ]
    },
    {
      "cell_type": "markdown",
      "metadata": {
        "id": "g5_TZDhjl4PK"
      },
      "source": [
        "2. Найти и вывести на экран названия всех альбомов группы Accept"
      ]
    },
    {
      "cell_type": "markdown",
      "metadata": {
        "id": "G00y5CwBl4PL"
      },
      "source": [
        "3. Создайте базу данных с названием вашей группы. В этой базе данных создайте таблицу Student, содержащую 2 столбца: id и name. Добавьте в таблицу Student информацию о студентах, сидящих с вами по соседству."
      ]
    },
    {
      "cell_type": "markdown",
      "metadata": {
        "id": "I3WuwLHNl4PL"
      },
      "source": [
        "## Лабораторная работа 6"
      ]
    },
    {
      "cell_type": "markdown",
      "metadata": {
        "id": "hAy5rGRIl4PM"
      },
      "source": [
        "1. Создайте файл базы данных c названием `recipes.db`. Создайте объект-курсор. "
      ]
    },
    {
      "cell_type": "code",
      "metadata": {
        "id": "jtVDHISPoAiM"
      },
      "source": [
        "import sqlite3\n",
        "\n",
        "con = sqlite3.connect('recipes.db')\n",
        "cur = con.cursor()\n",
        "\n"
      ],
      "execution_count": 2,
      "outputs": []
    },
    {
      "cell_type": "markdown",
      "metadata": {
        "id": "XxtAH14Ql4PM"
      },
      "source": [
        "2. Напишите и выполните SQL-запрос для создания таблицы рецептов `Recipe`. Таблица должна содержать следующие поля:\n",
        "`id`, `name`, `minutes`, `submitted`, `description`, `n_ingredients`. Определитесь с типами и составом ключевых полей."
      ]
    },
    {
      "cell_type": "code",
      "metadata": {
        "id": "HP_WObVuoE0e"
      },
      "source": [
        "def droppp (cur):\n",
        "  #pass\n",
        "  cur.execute(\"\"\"DROP TABLE IF EXISTS Recipe;\"\"\")\n",
        "\n",
        "def create_table(cur, create_table_sql):\n",
        "  cur.execute(create_table_sql)\n",
        "\n",
        "message=\"\"\"\n",
        "    CREATE TABLE Recipe(\n",
        "        id INTEGER PRIMARY KEY, \n",
        "        name VARCHAR(50) NOT NULL, \n",
        "        minutes INTEGER,\n",
        "        submitted DATE NOT NULL,\n",
        "        desciption VARCHAR(200),\n",
        "        n_ingredients INTEGER\n",
        "                                    ); \"\"\"\n",
        "\n",
        "droppp(cur)\n",
        "create_table (cur, message)"
      ],
      "execution_count": 14,
      "outputs": []
    },
    {
      "cell_type": "markdown",
      "metadata": {
        "id": "geUAFx1fl4PN"
      },
      "source": [
        "3. Напишите и выполните SQL-запрос для создания таблицы отзывов `Review`. Таблица должна содержать следующие поля:\n",
        "`id`, `user_id`, `recipe_id`, `date`, `rating`, `review`. Определитесь с типами полей, набором ключевых полей. При помощи внешнего ключа соедините две таблицы."
      ]
    },
    {
      "cell_type": "code",
      "metadata": {
        "id": "zc6PMwYWoEZE"
      },
      "source": [
        "def droppp (cur):\n",
        "  #pass\n",
        "  cur.execute(\"\"\"DROP TABLE IF EXISTS Review;\"\"\")\n",
        "\n",
        "def create_table(cur, create_table_sql):\n",
        "  cur.execute(create_table_sql)\n",
        "\n",
        "message=\"\"\"\n",
        "    CREATE TABLE Review(\n",
        "        id INTEGER PRIMARY KEY, \n",
        "        user_id INTEGER NOT NULL,\n",
        "        recipe_id INTEGER NOT NULL,\n",
        "        date DATE NOT NULL,\n",
        "        rating INTEGER NOT NULL,\n",
        "        review VARCHAR(250),\n",
        "        FOREIGN KEY (recipe_id) REFERENCES Recipe(id)\n",
        "\n",
        "                                    ); \"\"\"\n",
        "\n",
        "droppp(cur)\n",
        "create_table (cur, message)"
      ],
      "execution_count": 15,
      "outputs": []
    },
    {
      "cell_type": "markdown",
      "metadata": {
        "id": "z-idWynU0bcv"
      },
      "source": [
        ""
      ]
    },
    {
      "cell_type": "markdown",
      "metadata": {
        "id": "ImBtIsAql4PO"
      },
      "source": [
        "4. Загрузите данные из файлов `reviews_sample.csv` (__ЛР2__) и `recipes_sample_with_tags_ingredients.csv` (__ЛР5__) в созданные таблицы"
      ]
    },
    {
      "cell_type": "code",
      "metadata": {
        "id": "yNkFNWfgoEEc",
        "colab": {
          "base_uri": "https://localhost:8080/",
          "height": 462
        },
        "outputId": "d83ff47f-83f6-49b7-eaf6-3e28b3c784c9"
      },
      "source": [
        "import pandas as pd\n",
        "import csv\n",
        "from sqlalchemy.types import Integer\n",
        "\n",
        "# reviews = pd.read_csv ('/content/drive/MyDrive/Colab Notebooks/lab 3/reviews_sample.csv' , names=['id', 'user_id','recipe_id', 'date','rating', 'review'  ] , sep=',')\n",
        "# recipes = pd.read_csv ('/content/drive/MyDrive/Colab Notebooks/recipes_sample_with_filled_nsteps.csv', sep=',' , usecols=['id', 'name', 'minutes', 'submitted','description', 'n_ingredients'] )\n",
        "\n",
        "\n",
        "# #cur.executemany(\"INSERT INTO Review VALUES (?, ?, ? , ? , ?, ?)\", reviews.values)\n",
        "\n",
        "\n",
        "# #cur.executemany(\"INSERT INTO Recipe VALUES (?, ?, ? , ? , ?, ?)\", recipes.values)\n",
        "\n",
        "\n",
        "\n",
        "# con.commit()\n",
        "\n",
        "\n",
        "# #cur.execute(\"SELECT * FROM Review\")\n",
        "\n",
        "\n",
        "reviews_sample = pd.read_csv('/content/drive/MyDrive/Colab Notebooks/lab 3/reviews_sample.csv', sep=',')\n",
        "reviews_sample = reviews_sample.set_index('Unnamed: 0')\n",
        "#reviews_sample\n",
        "\n",
        "\n",
        "recipes_sample_with_tags_ingredients = pd.read_csv('/content/drive/MyDrive/Colab Notebooks/lab 4/recipes_sample_with_filled_nsteps.csv', sep=',')\n",
        "#recipes_sample_with_tags_ingredients\n",
        "\n",
        "# for index, row in reviews_sample.iterrows():\n",
        "#     cur.execute(\"\"\"\n",
        "#         INSERT INTO Review(id, user_id, recipe_id, date, rating, review) \n",
        "#         VALUES (?, ?, ?, ?, ?, ?)\n",
        "#     \"\"\", (index, row[0], row[1], row[2], row[3], row[4]))\n",
        "# con.commit()\n",
        "\n",
        "\n",
        "for index, row in recipes_sample_with_tags_ingredients.iterrows():\n",
        "    print (row)\n",
        "    cur.execute(\"\"\"\n",
        "        INSERT INTO Recipe(id, name, minutes, submitted, desciption, n_ingredients) \n",
        "        VALUES (?, ?, ?, ?, ?, ?)\n",
        "    \"\"\", (row[1], row[0], row[2], row[4], row[6], row[7]))\n",
        "con.commit()"
      ],
      "execution_count": 19,
      "outputs": [
        {
          "output_type": "stream",
          "name": "stderr",
          "text": [
            "ERROR:root:An unexpected error occurred while tokenizing input\n",
            "The following traceback may be corrupted or invalid\n",
            "The error message is: ('EOF in multi-line string', (1, 4))\n",
            "\n"
          ]
        },
        {
          "output_type": "stream",
          "name": "stdout",
          "text": [
            "44123                                                                                                                                                                                                                                                                                                                                                                                     67664\n",
            "george s at the cove  black bean soup                                                                                                                                                                                                                                                                                                                        healthy for them  yogurt popsicles\n",
            "90                                                                                                                                                                                                                                                                                                                                                                                           10\n",
            "35193                                                                                                                                                                                                                                                                                                                                                                                     91970\n",
            "2002-10-25                                                                                                                                                                                                                                                                                                                                                                           2003-07-26\n",
            "11                                                                                                                                                                                                                                                                                                                                                                                            3\n",
            "an original recipe created by chef scott meskan, george's at the cove. we enjoyed this when we visited this restaurant in la jolla, california. this recipe is requested so often, they have it printed and ready at the hostess stand. it's unbeatable at the restaurant, but i do a pretty good job at home, too, if i do say so myself!    my children and their friends ask for my homem...\n",
            "18.0                                                                                                                                                                                                                                                                                                                                                                                        NaN\n",
            "Name: 0, dtype: object\n"
          ]
        },
        {
          "output_type": "error",
          "ename": "IntegrityError",
          "evalue": "ignored",
          "traceback": [
            "\u001b[0;31m---------------------------------------------------------------------------\u001b[0m",
            "\u001b[0;31mIntegrityError\u001b[0m                            Traceback (most recent call last)",
            "\u001b[0;32m<ipython-input-19-316ac5681992>\u001b[0m in \u001b[0;36m<module>\u001b[0;34m()\u001b[0m\n\u001b[1;32m     41\u001b[0m         \u001b[0mINSERT\u001b[0m \u001b[0mINTO\u001b[0m \u001b[0mRecipe\u001b[0m\u001b[0;34m(\u001b[0m\u001b[0mid\u001b[0m\u001b[0;34m,\u001b[0m \u001b[0mname\u001b[0m\u001b[0;34m,\u001b[0m \u001b[0mminutes\u001b[0m\u001b[0;34m,\u001b[0m \u001b[0msubmitted\u001b[0m\u001b[0;34m,\u001b[0m \u001b[0mdesciption\u001b[0m\u001b[0;34m,\u001b[0m \u001b[0mn_ingredients\u001b[0m\u001b[0;34m)\u001b[0m\u001b[0;34m\u001b[0m\u001b[0;34m\u001b[0m\u001b[0m\n\u001b[1;32m     42\u001b[0m         \u001b[0mVALUES\u001b[0m \u001b[0;34m(\u001b[0m\u001b[0;31m?\u001b[0m\u001b[0;34m,\u001b[0m\u001b[0;31m \u001b[0m\u001b[0;31m?\u001b[0m\u001b[0;34m,\u001b[0m\u001b[0;31m \u001b[0m\u001b[0;31m?\u001b[0m\u001b[0;34m,\u001b[0m\u001b[0;31m \u001b[0m\u001b[0;31m?\u001b[0m\u001b[0;34m,\u001b[0m\u001b[0;31m \u001b[0m\u001b[0;31m?\u001b[0m\u001b[0;34m,\u001b[0m\u001b[0;31m \u001b[0m\u001b[0;31m?\u001b[0m\u001b[0;34m)\u001b[0m\u001b[0;34m\u001b[0m\u001b[0;34m\u001b[0m\u001b[0m\n\u001b[0;32m---> 43\u001b[0;31m     \"\"\", (row[1], row[0], row[2], row[4], row[6], row[7]))\n\u001b[0m\u001b[1;32m     44\u001b[0m \u001b[0mcon\u001b[0m\u001b[0;34m.\u001b[0m\u001b[0mcommit\u001b[0m\u001b[0;34m(\u001b[0m\u001b[0;34m)\u001b[0m\u001b[0;34m\u001b[0m\u001b[0;34m\u001b[0m\u001b[0m\n",
            "\u001b[0;31mIntegrityError\u001b[0m: datatype mismatch"
          ]
        }
      ]
    },
    {
      "cell_type": "markdown",
      "metadata": {
        "id": "tI2SjKK6l4PP"
      },
      "source": [
        "5. Найдите все рецепты, для выполнения которых нужно ровно 10 ингредиентов. Выведите на экран первые 5 из найденных рецептов."
      ]
    },
    {
      "cell_type": "code",
      "metadata": {
        "id": "uSWX8MABoDq-",
        "colab": {
          "base_uri": "https://localhost:8080/"
        },
        "outputId": "e45bdbf2-99a2-4ebe-a2ae-678c22aef4b4"
      },
      "source": [
        "\n",
        "cur.execute('''\n",
        "    SELECT * \n",
        "    FROM Recipe \n",
        "    WHERE n_ingredients = ?\n",
        "''', (10, ))\n",
        "print(cur.fetchmany(5))"
      ],
      "execution_count": 17,
      "outputs": [
        {
          "output_type": "stream",
          "name": "stdout",
          "text": [
            "[]\n"
          ]
        }
      ]
    },
    {
      "cell_type": "markdown",
      "metadata": {
        "id": "99hMjNuyl4PP"
      },
      "source": [
        "6. Найдите название рецепта, для выполнения которого требуется больше всего времени."
      ]
    },
    {
      "cell_type": "code",
      "metadata": {
        "id": "-K1HSjGBoDPr",
        "colab": {
          "base_uri": "https://localhost:8080/"
        },
        "outputId": "43a72ffc-18aa-495a-b559-f554fbba80fe"
      },
      "source": [
        "cur.execute('''\n",
        "    SELECT name, MAX(minutes) \n",
        "    FROM Recipe \n",
        "''')\n",
        "print(cur.fetchone())"
      ],
      "execution_count": 20,
      "outputs": [
        {
          "output_type": "stream",
          "name": "stdout",
          "text": [
            "(None, None)\n"
          ]
        }
      ]
    },
    {
      "cell_type": "markdown",
      "metadata": {
        "id": "XNyN7Qbzl4PP"
      },
      "source": [
        "7. Запросите у пользователя id рецепта и верните информацию об этом рецепте. Если рецепт отсуствует, выведите соответствующее сообщение."
      ]
    },
    {
      "cell_type": "code",
      "metadata": {
        "id": "AkgU7aQ9oDAH",
        "colab": {
          "base_uri": "https://localhost:8080/",
          "height": 536
        },
        "outputId": "06d18213-9325-435e-c599-dd2e5691ed2c"
      },
      "source": [
        "try:\n",
        "    id_recipe = int(input(\"Введите индекс рецепта: \"))\n",
        "    \n",
        "    cur.execute('''\n",
        "        SELECT *\n",
        "        FROM Recipe\n",
        "        WHERE id = ?\n",
        "    ''', (id_recipe, ))\n",
        "    result = cur.fetchone()\n",
        "    \n",
        "    print(result) if result is not None else print(\"Рецепт не существует\")\n",
        "except ValueError:\n",
        "    print(\"Неверный формат индекса рецепта\")"
      ],
      "execution_count": 21,
      "outputs": [
        {
          "output_type": "error",
          "ename": "KeyboardInterrupt",
          "evalue": "ignored",
          "traceback": [
            "\u001b[0;31m---------------------------------------------------------------------------\u001b[0m",
            "\u001b[0;31mKeyboardInterrupt\u001b[0m                         Traceback (most recent call last)",
            "\u001b[0;32m/usr/local/lib/python3.7/dist-packages/ipykernel/kernelbase.py\u001b[0m in \u001b[0;36m_input_request\u001b[0;34m(self, prompt, ident, parent, password)\u001b[0m\n\u001b[1;32m    728\u001b[0m             \u001b[0;32mtry\u001b[0m\u001b[0;34m:\u001b[0m\u001b[0;34m\u001b[0m\u001b[0;34m\u001b[0m\u001b[0m\n\u001b[0;32m--> 729\u001b[0;31m                 \u001b[0mident\u001b[0m\u001b[0;34m,\u001b[0m \u001b[0mreply\u001b[0m \u001b[0;34m=\u001b[0m \u001b[0mself\u001b[0m\u001b[0;34m.\u001b[0m\u001b[0msession\u001b[0m\u001b[0;34m.\u001b[0m\u001b[0mrecv\u001b[0m\u001b[0;34m(\u001b[0m\u001b[0mself\u001b[0m\u001b[0;34m.\u001b[0m\u001b[0mstdin_socket\u001b[0m\u001b[0;34m,\u001b[0m \u001b[0;36m0\u001b[0m\u001b[0;34m)\u001b[0m\u001b[0;34m\u001b[0m\u001b[0;34m\u001b[0m\u001b[0m\n\u001b[0m\u001b[1;32m    730\u001b[0m             \u001b[0;32mexcept\u001b[0m \u001b[0mException\u001b[0m\u001b[0;34m:\u001b[0m\u001b[0;34m\u001b[0m\u001b[0;34m\u001b[0m\u001b[0m\n",
            "\u001b[0;32m/usr/local/lib/python3.7/dist-packages/jupyter_client/session.py\u001b[0m in \u001b[0;36mrecv\u001b[0;34m(self, socket, mode, content, copy)\u001b[0m\n\u001b[1;32m    802\u001b[0m         \u001b[0;32mtry\u001b[0m\u001b[0;34m:\u001b[0m\u001b[0;34m\u001b[0m\u001b[0;34m\u001b[0m\u001b[0m\n\u001b[0;32m--> 803\u001b[0;31m             \u001b[0mmsg_list\u001b[0m \u001b[0;34m=\u001b[0m \u001b[0msocket\u001b[0m\u001b[0;34m.\u001b[0m\u001b[0mrecv_multipart\u001b[0m\u001b[0;34m(\u001b[0m\u001b[0mmode\u001b[0m\u001b[0;34m,\u001b[0m \u001b[0mcopy\u001b[0m\u001b[0;34m=\u001b[0m\u001b[0mcopy\u001b[0m\u001b[0;34m)\u001b[0m\u001b[0;34m\u001b[0m\u001b[0;34m\u001b[0m\u001b[0m\n\u001b[0m\u001b[1;32m    804\u001b[0m         \u001b[0;32mexcept\u001b[0m \u001b[0mzmq\u001b[0m\u001b[0;34m.\u001b[0m\u001b[0mZMQError\u001b[0m \u001b[0;32mas\u001b[0m \u001b[0me\u001b[0m\u001b[0;34m:\u001b[0m\u001b[0;34m\u001b[0m\u001b[0;34m\u001b[0m\u001b[0m\n",
            "\u001b[0;32m/usr/local/lib/python3.7/dist-packages/zmq/sugar/socket.py\u001b[0m in \u001b[0;36mrecv_multipart\u001b[0;34m(self, flags, copy, track)\u001b[0m\n\u001b[1;32m    624\u001b[0m         \"\"\"\n\u001b[0;32m--> 625\u001b[0;31m         \u001b[0mparts\u001b[0m \u001b[0;34m=\u001b[0m \u001b[0;34m[\u001b[0m\u001b[0mself\u001b[0m\u001b[0;34m.\u001b[0m\u001b[0mrecv\u001b[0m\u001b[0;34m(\u001b[0m\u001b[0mflags\u001b[0m\u001b[0;34m,\u001b[0m \u001b[0mcopy\u001b[0m\u001b[0;34m=\u001b[0m\u001b[0mcopy\u001b[0m\u001b[0;34m,\u001b[0m \u001b[0mtrack\u001b[0m\u001b[0;34m=\u001b[0m\u001b[0mtrack\u001b[0m\u001b[0;34m)\u001b[0m\u001b[0;34m]\u001b[0m\u001b[0;34m\u001b[0m\u001b[0;34m\u001b[0m\u001b[0m\n\u001b[0m\u001b[1;32m    626\u001b[0m         \u001b[0;31m# have first part already, only loop while more to receive\u001b[0m\u001b[0;34m\u001b[0m\u001b[0;34m\u001b[0m\u001b[0;34m\u001b[0m\u001b[0m\n",
            "\u001b[0;32mzmq/backend/cython/socket.pyx\u001b[0m in \u001b[0;36mzmq.backend.cython.socket.Socket.recv\u001b[0;34m()\u001b[0m\n",
            "\u001b[0;32mzmq/backend/cython/socket.pyx\u001b[0m in \u001b[0;36mzmq.backend.cython.socket.Socket.recv\u001b[0;34m()\u001b[0m\n",
            "\u001b[0;32mzmq/backend/cython/socket.pyx\u001b[0m in \u001b[0;36mzmq.backend.cython.socket._recv_copy\u001b[0;34m()\u001b[0m\n",
            "\u001b[0;32m/usr/local/lib/python3.7/dist-packages/zmq/backend/cython/checkrc.pxd\u001b[0m in \u001b[0;36mzmq.backend.cython.checkrc._check_rc\u001b[0;34m()\u001b[0m\n",
            "\u001b[0;31mKeyboardInterrupt\u001b[0m: ",
            "\nDuring handling of the above exception, another exception occurred:\n",
            "\u001b[0;31mKeyboardInterrupt\u001b[0m                         Traceback (most recent call last)",
            "\u001b[0;32m<ipython-input-21-23f4239a4425>\u001b[0m in \u001b[0;36m<module>\u001b[0;34m()\u001b[0m\n\u001b[1;32m      1\u001b[0m \u001b[0;32mtry\u001b[0m\u001b[0;34m:\u001b[0m\u001b[0;34m\u001b[0m\u001b[0;34m\u001b[0m\u001b[0m\n\u001b[0;32m----> 2\u001b[0;31m     \u001b[0mid_recipe\u001b[0m \u001b[0;34m=\u001b[0m \u001b[0mint\u001b[0m\u001b[0;34m(\u001b[0m\u001b[0minput\u001b[0m\u001b[0;34m(\u001b[0m\u001b[0;34m\"Введите индекс рецепта: \"\u001b[0m\u001b[0;34m)\u001b[0m\u001b[0;34m)\u001b[0m\u001b[0;34m\u001b[0m\u001b[0;34m\u001b[0m\u001b[0m\n\u001b[0m\u001b[1;32m      3\u001b[0m \u001b[0;34m\u001b[0m\u001b[0m\n\u001b[1;32m      4\u001b[0m     cur.execute('''\n\u001b[1;32m      5\u001b[0m         \u001b[0mSELECT\u001b[0m \u001b[0;34m*\u001b[0m\u001b[0;34m\u001b[0m\u001b[0;34m\u001b[0m\u001b[0m\n",
            "\u001b[0;32m/usr/local/lib/python3.7/dist-packages/ipykernel/kernelbase.py\u001b[0m in \u001b[0;36mraw_input\u001b[0;34m(self, prompt)\u001b[0m\n\u001b[1;32m    702\u001b[0m             \u001b[0mself\u001b[0m\u001b[0;34m.\u001b[0m\u001b[0m_parent_ident\u001b[0m\u001b[0;34m,\u001b[0m\u001b[0;34m\u001b[0m\u001b[0;34m\u001b[0m\u001b[0m\n\u001b[1;32m    703\u001b[0m             \u001b[0mself\u001b[0m\u001b[0;34m.\u001b[0m\u001b[0m_parent_header\u001b[0m\u001b[0;34m,\u001b[0m\u001b[0;34m\u001b[0m\u001b[0;34m\u001b[0m\u001b[0m\n\u001b[0;32m--> 704\u001b[0;31m             \u001b[0mpassword\u001b[0m\u001b[0;34m=\u001b[0m\u001b[0;32mFalse\u001b[0m\u001b[0;34m,\u001b[0m\u001b[0;34m\u001b[0m\u001b[0;34m\u001b[0m\u001b[0m\n\u001b[0m\u001b[1;32m    705\u001b[0m         )\n\u001b[1;32m    706\u001b[0m \u001b[0;34m\u001b[0m\u001b[0m\n",
            "\u001b[0;32m/usr/local/lib/python3.7/dist-packages/ipykernel/kernelbase.py\u001b[0m in \u001b[0;36m_input_request\u001b[0;34m(self, prompt, ident, parent, password)\u001b[0m\n\u001b[1;32m    732\u001b[0m             \u001b[0;32mexcept\u001b[0m \u001b[0mKeyboardInterrupt\u001b[0m\u001b[0;34m:\u001b[0m\u001b[0;34m\u001b[0m\u001b[0;34m\u001b[0m\u001b[0m\n\u001b[1;32m    733\u001b[0m                 \u001b[0;31m# re-raise KeyboardInterrupt, to truncate traceback\u001b[0m\u001b[0;34m\u001b[0m\u001b[0;34m\u001b[0m\u001b[0;34m\u001b[0m\u001b[0m\n\u001b[0;32m--> 734\u001b[0;31m                 \u001b[0;32mraise\u001b[0m \u001b[0mKeyboardInterrupt\u001b[0m\u001b[0;34m\u001b[0m\u001b[0;34m\u001b[0m\u001b[0m\n\u001b[0m\u001b[1;32m    735\u001b[0m             \u001b[0;32melse\u001b[0m\u001b[0;34m:\u001b[0m\u001b[0;34m\u001b[0m\u001b[0;34m\u001b[0m\u001b[0m\n\u001b[1;32m    736\u001b[0m                 \u001b[0;32mbreak\u001b[0m\u001b[0;34m\u001b[0m\u001b[0;34m\u001b[0m\u001b[0m\n",
            "\u001b[0;31mKeyboardInterrupt\u001b[0m: "
          ]
        }
      ]
    },
    {
      "cell_type": "markdown",
      "metadata": {
        "id": "X8ABSWIkl4PQ"
      },
      "source": [
        "8. Найдите кол-во отзывов с рейтингом 5."
      ]
    },
    {
      "cell_type": "code",
      "metadata": {
        "id": "fs6acRnToCcj"
      },
      "source": [
        "cur.execute('''\n",
        "    SELECT COUNT(*)\n",
        "    FROM Review\n",
        "    WHERE rating = ?\n",
        "''', (5, ))\n",
        "print(cur.fetchone()[0])"
      ],
      "execution_count": null,
      "outputs": []
    },
    {
      "cell_type": "markdown",
      "metadata": {
        "id": "EfqbjE2fl4PQ"
      },
      "source": [
        "9. Найдите кол-во уникальных рецептов, не имеющих отзывов с рейтингом, меньше 4. "
      ]
    },
    {
      "cell_type": "code",
      "metadata": {
        "id": "7WF5SAEKoB6b"
      },
      "source": [
        "res = cur.execute('''\n",
        "    SELECT COUNT(*) OVER()\n",
        "    FROM recipe rec\n",
        "    LEFT JOIN review rev\n",
        "    ON rec.id = rev.recipe_id\n",
        "    GROUP BY rec.id\n",
        "    HAVING 0 = COUNT(rev.rating < ?)\n",
        "    LIMIT 1\n",
        "''', (4, ))\n",
        "\n",
        "print(res.fetchone()[0])"
      ],
      "execution_count": null,
      "outputs": []
    },
    {
      "cell_type": "markdown",
      "metadata": {
        "id": "m3GNHhfgl4PR"
      },
      "source": [
        "10. Найдите кол-во рецептов, опубликованных в 2010 году и имеющих длину не менее 15 минут."
      ]
    },
    {
      "cell_type": "code",
      "metadata": {
        "id": "V4dD9gEmoBqO"
      },
      "source": [
        "\n",
        "result = cur.execute(\"\"\"\n",
        "    SELECT COUNT(*)\n",
        "    FROM Recipe\n",
        "    WHERE minutes >= ?\n",
        "    AND submitted BETWEEN ? AND ?\n",
        "\"\"\", (15, '2010-01-01', '2010-12-31'))\n",
        "print(result.fetchone()[0])"
      ],
      "execution_count": null,
      "outputs": []
    },
    {
      "cell_type": "markdown",
      "metadata": {
        "id": "re-e3Dadl4PS"
      },
      "source": [
        "11. Выберите id рецепта, название рецепта, id пользователя, оставившего отзыв, дату отзыва и рейтинг для тех рецептов, которые имеют не менее 3 ингредиентов. Отсортируйте результат по id рецепта."
      ]
    },
    {
      "cell_type": "code",
      "metadata": {
        "id": "VmnFtmhioBFc"
      },
      "source": [
        "res = cur.execute('''\n",
        "    SELECT rec.id, rec.name, rev.user_id, rev.date, rev.rating\n",
        "    FROM recipe rec\n",
        "    LEFT JOIN review rev\n",
        "    ON rec.id = rev.recipe_id\n",
        "    WHERE rec.n_ingredients >= ?\n",
        "    ORDER BY rec.id\n",
        "''', (3, ))\n",
        "\n",
        "print(res.fetchmany(1000))\n",
        "\n",
        "cur.close()\n",
        "conn.close()"
      ],
      "execution_count": null,
      "outputs": []
    }
  ]
}