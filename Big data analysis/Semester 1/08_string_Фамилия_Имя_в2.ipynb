{
  "nbformat": 4,
  "nbformat_minor": 0,
  "metadata": {
    "kernelspec": {
      "display_name": "Python 3",
      "language": "python",
      "name": "python3"
    },
    "language_info": {
      "codemirror_mode": {
        "name": "ipython",
        "version": 3
      },
      "file_extension": ".py",
      "mimetype": "text/x-python",
      "name": "python",
      "nbconvert_exporter": "python",
      "pygments_lexer": "ipython3",
      "version": "3.8.5"
    },
    "colab": {
      "name": "08_string_Фамилия_Имя-в2.ipynb",
      "provenance": []
    }
  },
  "cells": [
    {
      "cell_type": "markdown",
      "metadata": {
        "id": "A1vWKkq6AxCD"
      },
      "source": [
        "# Работа со строковыми значениями"
      ]
    },
    {
      "cell_type": "markdown",
      "metadata": {
        "id": "9akrFPNBAxCF"
      },
      "source": [
        "Материалы:\n",
        "* Макрушин С.В. Лекция 8: Работа со строковыми значениям\n",
        "* https://pyformat.info/\n",
        "* https://docs.python.org/3/library/re.html\n",
        "* https://tproger.ru/translations/regular-expression-python/\n",
        "* https://realpython.com/nltk-nlp-python/"
      ]
    },
    {
      "cell_type": "markdown",
      "metadata": {
        "id": "vMwE6aUbAxCG"
      },
      "source": [
        "## Задачи для совместного разбора"
      ]
    },
    {
      "cell_type": "markdown",
      "metadata": {
        "id": "CBFyfDsNAxCG"
      },
      "source": [
        "1. Вывести на экран данные из словаря `obj` построчно в виде `k = v`, задав формат таким образом, чтобы знак равенства оказался на одной и той же позиции во всех строках. Строковые литералы обернуть в кавычки."
      ]
    },
    {
      "cell_type": "code",
      "metadata": {
        "id": "_oxRLJu3AxCH"
      },
      "source": [
        "obj = {  \n",
        "         'home_page': 'https://github.com/pypa/sampleproject',\n",
        "         'keywords': 'sample setuptools development',\n",
        "         'license': 'MIT'\n",
        "      }"
      ],
      "execution_count": null,
      "outputs": []
    },
    {
      "cell_type": "markdown",
      "metadata": {
        "id": "EJBRiE4XAxCI"
      },
      "source": [
        "2. Дана строка 'aaa--bbb==ccc__ddd'. Написать регулярное выражение для разбивки строки на список ['aaa','bbb','ccc','ddd']."
      ]
    },
    {
      "cell_type": "markdown",
      "metadata": {
        "id": "-L_HReByAxCI"
      },
      "source": [
        "3. Проверить корректность введенного E-mail"
      ]
    },
    {
      "cell_type": "markdown",
      "metadata": {
        "id": "n-pR6L_9AxCI"
      },
      "source": [
        "4. Разбейте текст формулировки задачи 1 на слова."
      ]
    },
    {
      "cell_type": "markdown",
      "metadata": {
        "id": "SOnEmgPGAxCI"
      },
      "source": [
        "## Лабораторная работа 8"
      ]
    },
    {
      "cell_type": "markdown",
      "metadata": {
        "id": "1Ja3_nkBAxCJ"
      },
      "source": [
        "### Форматирование строк"
      ]
    },
    {
      "cell_type": "code",
      "metadata": {
        "colab": {
          "base_uri": "https://localhost:8080/"
        },
        "id": "LGD725ITEyo_",
        "outputId": "0241bfd8-738f-4d21-cb83-949f06e4f340"
      },
      "source": [
        "from google.colab import drive\n",
        "drive.mount('/content/drive')"
      ],
      "execution_count": 1,
      "outputs": [
        {
          "output_type": "stream",
          "name": "stdout",
          "text": [
            "Mounted at /content/drive\n"
          ]
        }
      ]
    },
    {
      "cell_type": "markdown",
      "metadata": {
        "id": "It6IPnFwAxCJ"
      },
      "source": [
        "1.1 Загрузите данные из файла `recipes_sample_with_tags_ingredients.csv` (__ЛР5__) в таблицу `recipes` При помощи форматирования строк выведите информацию об id рецепта и кол-ве игредиентов 5 случайных рецептов в виде таблицы следующего вида:\n",
        "\n",
        "    \n",
        "    |    id     | n_in  |\n",
        "    |-------------------|\n",
        "    |  400894   |  13   |\n",
        "    |   68588   |   8   |\n",
        "    |  362081   |   6   |\n",
        "    |   53408   |  12   |\n",
        "    |  221203   |   4   |"
      ]
    },
    {
      "cell_type": "code",
      "metadata": {
        "id": "Ywasv2YVElzv"
      },
      "source": [
        "import pandas as pd\n",
        "recipes = pd.read_csv(\"/content/drive/MyDrive/Colab Notebooks/Drafts/recipes_sample_with_filled_nsteps.csv\")\n",
        "new_recipes = recipes.sample(n=5)\n",
        "print (new_recipes)\n",
        "#print(\"|{0:^11}| {1:^6}|\\n|{2}|\".format(\"id\", \"n_in\",\"-\"*19))\n",
        "for index, row in new_recipes.iterrows():\n",
        "    print(\"|{0:^11}| {1:^6}|\".format(row['id'], row['n_ingredients'])) "
      ],
      "execution_count": null,
      "outputs": []
    },
    {
      "cell_type": "markdown",
      "metadata": {
        "id": "lMZJ3ZnIAxCJ"
      },
      "source": [
        "1.2 Напишите функцию `show_info`, которая для рецепта по его `id` создает строку (в смысле объекта python) с описанием следующего вида:\n",
        "\n",
        "```\n",
        "\"Название\"\n",
        "\n",
        "1. Шаг 1.\n",
        "2. Шаг 2.\n",
        "----------\n",
        "#тэг1 #тэг2\n",
        "```\n",
        "\n",
        "    \n",
        "Данные для создания строки получите из файлов `recipes_sample_with_tags_ingredients.csv`, `steps_sample.xml` (__ЛР4__) и `tags_sample.csv` (__ЛР5__). \n",
        "Выведите созданную строку на экран."
      ]
    },
    {
      "cell_type": "code",
      "metadata": {
        "id": "_gaK70tkLOOF"
      },
      "source": [
        "pip install pydantic\n"
      ],
      "execution_count": null,
      "outputs": []
    },
    {
      "cell_type": "code",
      "metadata": {
        "id": "Invha5XCEmbH"
      },
      "source": [
        "from bs4 import BeautifulSoup\n",
        "from typing import List\n",
        "from pydantic import validate_arguments, ValidationError\n",
        "\n",
        "\n",
        "\n",
        "class Recipe:\n",
        "    @validate_arguments\n",
        "    def __init__(self, recipe_id: int, name: str) -> None:\n",
        "        self._recipe_id = recipe_id\n",
        "        self._name = name\n",
        "        self._steps_list = []\n",
        "        self._tags_list = []\n",
        "    \n",
        "    @validate_arguments\n",
        "    def add_tag(self, data: str) -> None:\n",
        "        tag = f\"#{data}\"\n",
        "        if tag not in self._tags_list:\n",
        "            self._tags_list.append(tag)\n",
        "    \n",
        "    @validate_arguments\n",
        "    def add_step(self, data: str) -> None:\n",
        "        if data not in self._steps_list:\n",
        "            self._steps_list.append(data)    \n",
        "    \n",
        "    def show_info(self) -> None:\n",
        "        print(self.__repr__())\n",
        "        \n",
        "    def __repr__(self) -> str:\n",
        "        steps_str = \"\\n\".join(map(lambda x: f\"{x[0]}. {x[1].capitalize()}.\",enumerate(self._steps_list, 1)))\n",
        "        tags_str = \" \".join(self._tags_list)\n",
        "        final_str = f\"\\\"{self._name.capitalize()}\\\"\\n{steps_str}\\n{'-'*10}\\n{tags_str}\"\n",
        "        return final_str\n",
        "\n",
        "\n",
        "\n",
        "class RecipeManager:\n",
        "    def __init__(self, names: pd.core.frame.DataFrame, steps: BeautifulSoup, tags: pd.core.frame.DataFrame) -> None:\n",
        "        self._names = names\n",
        "        self._steps = steps\n",
        "        self._tags = tags\n",
        "        \n",
        "        self.recipes = {}\n",
        "        \n",
        "        self.names_processing()\n",
        "        self.steps_processing()\n",
        "        self.tags_processing()\n",
        "    \n",
        "    def names_processing(self) -> None:\n",
        "        for item in self._names.apply(lambda x: (x[\"id\"], x[\"name\"]), axis=1):\n",
        "            r_id, r_name = item\n",
        "            self.recipes[r_id] = Recipe(r_id, r_name)\n",
        "        \n",
        "    def steps_processing(self) -> None:        \n",
        "        for recipe in self._steps.find_all('recipe'):\n",
        "            recipe_id = int(recipe.find(\"id\").get_text())\n",
        "            for step in recipe.find_all(\"step\"):\n",
        "                step_text = step.get_text()\n",
        "                self.recipes[recipe_id].add_step(step_text)\n",
        "                \n",
        "    def tags_processing(self) -> None:\n",
        "        for item in self._tags.apply(lambda x: (x[\"id\"], x[\"tag\"]), axis=1):\n",
        "            recipe_id, tag = item\n",
        "            self.recipes[recipe_id].add_tag(tag)    \n",
        "    \n",
        "    def find(self, recipe_id: int) -> Recipe:\n",
        "        if recipe_id not in self.recipes:\n",
        "            raise ValueError(f\"No recipe with this id -> {recipe_id} \")\n",
        "        return self.recipes[recipe_id]\n",
        "\n",
        "    def ids(self) -> List[int]:\n",
        "        return list(self.recipes.keys())\n",
        "\n",
        "content = open(\"/content/drive/MyDrive/Colab Notebooks/lab 4/steps_sample.xml\",\"r\").read()\n",
        "steps = BeautifulSoup(content,'xml')\n",
        "\n",
        "tags = pd.read_csv(\"/content/drive/MyDrive/Colab Notebooks/lab 5/tags_sample.csv\")\n",
        "recipe_manager = RecipeManager(recipes, steps, tags)\n",
        "\n",
        "\n",
        "\n",
        "recipe_manager.find(44123)"
      ],
      "execution_count": null,
      "outputs": []
    },
    {
      "cell_type": "markdown",
      "metadata": {
        "id": "OBuket4vAxCK"
      },
      "source": [
        "## Работа с регулярными выражениями"
      ]
    },
    {
      "cell_type": "markdown",
      "metadata": {
        "id": "AtB9DwcKAxCK"
      },
      "source": [
        "В задачах данного блока подразумевается, что вы не будете использовать никаких строковые методы (`split`, `startswith` и т.д.). Все задачи необходимо решить при помощи регулярных выражений."
      ]
    },
    {
      "cell_type": "markdown",
      "metadata": {
        "id": "kdzahPpiAxCK"
      },
      "source": [
        "2.1 Посчитайте кол-во отзывов, в которых встречаются числа."
      ]
    },
    {
      "cell_type": "code",
      "metadata": {
        "colab": {
          "base_uri": "https://localhost:8080/"
        },
        "id": "x-cgFy8xEnd3",
        "outputId": "5efa5e25-4b5a-45c5-f29f-e16895f72a83"
      },
      "source": [
        "import re\n",
        "reviews = pd.read_csv(\"/content/drive/MyDrive/Colab Notebooks/lab 3/reviews_sample.csv\")\n",
        "reviews_list = [item for item in reviews[\"review\"].to_list() if isinstance(item, str)]\n",
        "\n",
        "pattern = re.compile(r'.*[0-9].*')\n",
        "sum([pattern.match(item) is not None for item in reviews_list])"
      ],
      "execution_count": 13,
      "outputs": [
        {
          "output_type": "execute_result",
          "data": {
            "text/plain": [
              "47336"
            ]
          },
          "metadata": {},
          "execution_count": 13
        }
      ]
    },
    {
      "cell_type": "markdown",
      "metadata": {
        "id": "wEtFzLbkAxCK"
      },
      "source": [
        "2.2 Найдите все смайлики в отзывах. Смайлик состоит из трех частей: глаза (символ `=` или `:`), нос (символ `-`), губы (символ `)` или `(`). Смайлик может иметь вид \"глаза-нос-губы\" или \"губы-нос-глаза\". Нос может отсутствовать."
      ]
    },
    {
      "cell_type": "code",
      "metadata": {
        "id": "3wvK3UqUEpeM"
      },
      "source": [
        "pattern = re.compile(r'([()]-?[=:])|([=:]-?[()])')\n",
        "results_set ={item for item in reviews_list if pattern.findall(item) is not None}\n",
        "[print(f\"{x}\\n{'-'*100}\\n\") for x in results_set]"
      ],
      "execution_count": null,
      "outputs": []
    },
    {
      "cell_type": "markdown",
      "metadata": {
        "id": "gTDc1DO5AxCL"
      },
      "source": [
        "2.3 Проверьте, что все даты в датасете имеют вид \"YYYY-MM-DD\". Продемонстрируйте работу вашего решения, приведя пример из датасета и контрпример не из датасета."
      ]
    },
    {
      "cell_type": "code",
      "metadata": {
        "id": "9BnMBCANEp4L"
      },
      "source": [
        "pattern = re.compile(r'^[0-9]{4}\\-[0-9]{2}\\-[0-9]{2}$')\n",
        "result1 = sum([pattern.match(item) is not None for item in reviews[\"date\"]])\n",
        "result2 = reviews[\"date\"].shape[0]\n",
        "assert result1 == result2\n",
        "for test_str in (\"1901-01-01p\",\"1901-101-01\",\"9999.00.00\"):\n",
        "    assert pattern.match(test_str) is None"
      ],
      "execution_count": 16,
      "outputs": []
    },
    {
      "cell_type": "markdown",
      "metadata": {
        "id": "fA6_35GZAxCL"
      },
      "source": [
        "2.4 Используя строку-результат задачи 1.2, найдите первое слово каждого шага в рецепте"
      ]
    },
    {
      "cell_type": "code",
      "metadata": {
        "id": "u2X3JGmuEqRz"
      },
      "source": [
        "import random\n",
        "\n",
        "pattern = re.compile(r'[0-9]+\\.\\ ([A-z]+)')\n",
        "recipe_id = random.choice(recipe_manager.ids())\n",
        "current_str = recipe_manager.find(recipe_id).__repr__()\n",
        "print(current_str)\n",
        "\n",
        "pattern.findall(current_str)"
      ],
      "execution_count": null,
      "outputs": []
    },
    {
      "cell_type": "markdown",
      "metadata": {
        "id": "DPMsIpNnAxCM"
      },
      "source": [
        "2.5 Используя регулярные выражения, удалите из описаний все символы, кроме английских букв, цифр и пробелов. Сохраните предобработанные описания в файл `preprocessed_descriptions.csv`, содержащий 2 столбца: `name` и `preprocessed_descriptions`."
      ]
    },
    {
      "cell_type": "code",
      "metadata": {
        "id": "TNtuN2K4Eq2J"
      },
      "source": [
        "column2process = \"preprocessed_descriptions\"\n",
        "pattern = re.compile(r'[^A-Za-z0-9 ]')\n",
        "\n",
        "def filler(x):\n",
        "    result = pattern.sub('', x[column2process])\n",
        "    return result\n",
        "\n",
        "descriptions = recipes[\"name\"].to_frame().join(recipes[\"description\"].fillna(\"\"))\n",
        "descriptions = descriptions.rename(columns={\"description\": column2process})\n",
        "descriptions[column2process] = descriptions.apply(lambda x: filler(x), axis=1)\n",
        "print (descriptions)\n",
        "descriptions.to_csv(\"preprocessed_descriptions.csv\")"
      ],
      "execution_count": null,
      "outputs": []
    },
    {
      "cell_type": "markdown",
      "metadata": {
        "id": "3etnrpELAxCM"
      },
      "source": [
        "### Сегментация текста"
      ]
    },
    {
      "cell_type": "markdown",
      "metadata": {
        "id": "vsnRmmOoAxCN"
      },
      "source": [
        "3.1 Разбейте отзывы из файла `recipes_sample.csv` (__ЛР2__) на предложения, а предложения - на слова (используйте `sent_tokenize` и `word_tokenize` из `nltk`). Каждый отзыв представьте в виде списка списков: внешний список - предложения, вложенные списки - слова в предложении. Исключите знаки препинания из списков слов.\n",
        "\n",
        "`'Предложение номер один. Предложение номер два.' => [['Предложение', 'номер', 'один'], ['Предложение', 'номер', 'два']]`"
      ]
    },
    {
      "cell_type": "code",
      "metadata": {
        "id": "iiKxd8uZErsO"
      },
      "source": [
        "import nltk\n",
        "#nltk.download('punkt')\n",
        "sentences_dict = {}\n",
        "descriptions = recipes[\"name\"].to_frame().join(recipes[\"description\"].fillna(\"\"))\n",
        "\n",
        "for item in descriptions[\"description\"].to_list():\n",
        "    sentences_dict[item] = []\n",
        "    \n",
        "    for sentence in nltk.sent_tokenize(item):\n",
        "        words_list = nltk.word_tokenize(sentence)\n",
        "        sentences_dict[item].append(words_list)"
      ],
      "execution_count": 26,
      "outputs": []
    },
    {
      "cell_type": "markdown",
      "metadata": {
        "id": "f2lA6ed1AxCN"
      },
      "source": [
        "3.2 Посчитайте кол-во уникальных слов среди всех отзывов (без учета регистра и знаков препинания)."
      ]
    },
    {
      "cell_type": "code",
      "metadata": {
        "id": "WC6nhtN7Er6y"
      },
      "source": [
        "email = \"try\"\n",
        "pattern = re.compile(r'^[a-zA-Z]+$')\n",
        "result = pattern.match(email)\n",
        "print(result)\n",
        "if result is None:\n",
        "    print(\"String is incorrect\")\n",
        "else:\n",
        "    print(\"String is correct\")\n",
        "\n",
        "\n",
        "pattern = re.compile(r'(^(^[!\"#$%&\\'()*+\\,\\-.\\/:;<=>?@[\\]^_`{|}~]|^[0-9]))')\n",
        "data = []\n",
        "for sentences in sentences_dict.values():\n",
        "    new_words = []\n",
        "    [[new_words.append(y.lower()) for y in x if pattern.match(y) is None] for x in sentences]\n",
        "    data.extend(new_words)\n",
        "\n",
        "print(f\"{len(data)} number of unique words {len(set(data))} \")"
      ],
      "execution_count": null,
      "outputs": []
    },
    {
      "cell_type": "markdown",
      "metadata": {
        "id": "hgMT8h4LAxCN"
      },
      "source": [
        "3.3 Найдите 5 самых длинных (по количеству слов; без учета знаков препинания) отзывов в датасете и выведите их в порядке убывания длины."
      ]
    },
    {
      "cell_type": "code",
      "metadata": {
        "id": "0LP3cgoGEsQm"
      },
      "source": [
        "new_list = []\n",
        "\n",
        "for key, values in sentences_dict.items():\n",
        "    \n",
        "    counter = 0\n",
        "    for item in values:\n",
        "        new_words = [word for word in item if pattern.match(word) is None]\n",
        "        counter += len(new_words)\n",
        "        \n",
        "    new_list.append((counter, key))\n",
        "    \n",
        "new_list.sort(key=lambda x: x[0],reverse=True)\n",
        "    \n",
        "for item in new_list[:5]:\n",
        "    print(item)\n",
        "    print(\"--------\")"
      ],
      "execution_count": null,
      "outputs": []
    },
    {
      "cell_type": "markdown",
      "metadata": {
        "id": "wDpmNgMvAxCN"
      },
      "source": [
        "3.4 Напишите функцию, которая для заданного предложения выводит информацию о частях речи слов, входящих в предложение, в следующем виде:\n",
        "```\n",
        "PRP   VBD   DT      NNS     CC   VBD      NNS        RB   \n",
        " I  omitted the raspberries and added strawberries instead\n",
        "``` \n",
        "Для определения части речи слова можно воспользоваться `nltk.pos_tag`.\n",
        "\n",
        "Проверьте работоспособность функции на любом предложении из отзывов.\n"
      ]
    },
    {
      "cell_type": "code",
      "metadata": {
        "colab": {
          "base_uri": "https://localhost:8080/"
        },
        "id": "8xfm52D6Es6u",
        "outputId": "fbeec326-36b0-4228-baa1-dfa6274b3cb6"
      },
      "source": [
        "import re\n",
        "from typing import List\n",
        "#nltk.download('averaged_perceptron_tagger')\n",
        "\n",
        "class SentenceManager:\n",
        "    PATTERN = re.compile(r'(^(^[!\"#$%&\\'()*+\\,\\-.\\/:;<=>?@[\\]^_`{|}~]|^[0-9]))')\n",
        "    \n",
        "    @validate_arguments\n",
        "    def __init__(self, sentence : List[str]) -> None:\n",
        "        self._sentence = sentence\n",
        "        self._results = None\n",
        "        self.processing()\n",
        "\n",
        "    def processing(self) -> None:\n",
        "        new_words = [word for word in self._sentence if self.PATTERN.match(word) is None]\n",
        "        self._results = nltk.pos_tag(new_words)\n",
        "    \n",
        "    def info(self):\n",
        "        str_results_first, str_results_second = [], []\n",
        "        for item in self._results:\n",
        "            word_len = max(map(len,item))+1\n",
        "            \n",
        "            buffer1 = \"{0:^{word_len}}\".format(item[1],word_len=word_len)\n",
        "            str_results_first.append(buffer1)\n",
        "            \n",
        "            buffer2 = \"{0:^{word_len}}\".format(item[0], word_len=word_len)\n",
        "            str_results_second.append(buffer2)\n",
        "\n",
        "        result = f\"{' '.join(str_results_first)}\\n{' '.join(str_results_second)}\\n\"\n",
        "        print(result)\n",
        "\n",
        "\n",
        "review = random.choice(list(sentences_dict.values()))\n",
        "for sentence in review:\n",
        "    manager = SentenceManager(sentence)\n",
        "    manager.info()"
      ],
      "execution_count": 31,
      "outputs": [
        {
          "output_type": "stream",
          "name": "stdout",
          "text": [
            "  NN       NN      VBZ  DT    NN      NN    \n",
            "shrimp  cocktail  gets   a  latin  makeover \n",
            "\n",
            " DT   VBZ   IN    DT     NN     NN   NN  \n",
            "this   is  from  the  rachael  ray  show \n",
            "\n"
          ]
        }
      ]
    }
  ]
}