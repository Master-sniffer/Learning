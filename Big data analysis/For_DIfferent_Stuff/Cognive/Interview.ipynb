{
  "nbformat": 4,
  "nbformat_minor": 0,
  "metadata": {
    "colab": {
      "name": "Interview.ipynb",
      "provenance": []
    },
    "kernelspec": {
      "name": "python3",
      "display_name": "Python 3"
    },
    "language_info": {
      "name": "python"
    }
  },
  "cells": [
    {
      "cell_type": "code",
      "metadata": {
        "id": "jAUXOqe33I-o"
      },
      "source": [
        "Файл Test_data.csv, содержащий в себе данные о платежных транзакциях плательщиков и получателей:\n",
        "PAYERACCOUNTNUMBER - номер счета плательщика\n",
        "PAYEEACCOUNTNUMBER - номер счета получателя\n",
        "AMOUNT - сумма операции\n",
        "DATEIN - дата операци\n",
        "\n",
        "Описание задачи:\n",
        "\n",
        "Необходимо написать скрипт, рассчитывающий метрики по транзакциям плательщиков и получателей, используя в качестве инструмента Python.\n",
        "Общая сумма операций плательщика\n",
        "Общая сумма операций получателя\n",
        "Общее количество операций плательщика\n",
        "Общее количество операций получателя\n",
        "Общая сумма операций от плательщика x получателю y (для каждой пары плательщик-получатель)\n",
        "Общая количество операций от плательщика x получателю y (для каждой пары плательщик-получатель)\n",
        "Общая сумма операций от плательщика x получателю y за дату z (для каждой пары плательщик-получатель и каждой даты)\n",
        "Общая количество операций от плательщика x получателю y за дату z (для каждой пары плательщик-получатель и каждой даты)\n",
        "Общее сумма операций за дату z  (для каждой даты)\n",
        "Общее количество операций за дату z  (для каждой даты)\n",
        "Максимальная сумма отдельной операции каждого плательщика\n",
        "Максимальная сумма отдельно операции каждого получателя\n",
        "Результат расчета вывести в .xls файл.\n",
        "Составить документацию с техническим описанием принципов / алгоритмов расчета.\n"
      ],
      "execution_count": null,
      "outputs": []
    },
    {
      "cell_type": "code",
      "metadata": {
        "id": "3JczcrmdWosE"
      },
      "source": [
        "from google.colab import auth\n",
        "auth.authenticate_user()\n",
        "import gspread\n",
        "from oauth2client.client import GoogleCredentials\n",
        "gc = gspread.authorize(GoogleCredentials.get_application_default())\n",
        "\n"
      ],
      "execution_count": 2,
      "outputs": []
    },
    {
      "cell_type": "code",
      "metadata": {
        "id": "FmbWJUW0XjK0"
      },
      "source": [
        "sh = gc.open('Interv')"
      ],
      "execution_count": 3,
      "outputs": []
    },
    {
      "cell_type": "code",
      "metadata": {
        "id": "8hLemAlTa0e3"
      },
      "source": [
        "worksheet1 = gc.open('Interv').sheet1\n",
        "worksheet2 = gc.open(\"Interv\").get_worksheet(1)\n",
        "worksheet3 = gc.open(\"Interv\").get_worksheet(2)\n",
        "worksheet4 = gc.open(\"Interv\").get_worksheet(3)\n",
        "worksheet5 = gc.open(\"Interv\").get_worksheet(4)\n",
        "worksheet6 = gc.open(\"Interv\").get_worksheet(5)\n",
        "worksheet7 = gc.open(\"Interv\").get_worksheet(6)\n",
        "worksheet8 = gc.open(\"Interv\").get_worksheet(7)\n",
        "worksheet9 = gc.open(\"Interv\").get_worksheet(8)\n",
        "worksheet10 = gc.open(\"Interv\").get_worksheet(9)\n",
        "worksheet11 = gc.open(\"Interv\").get_worksheet(10)\n",
        "worksheet12 = gc.open(\"Interv\").get_worksheet(11)\n"
      ],
      "execution_count": 35,
      "outputs": []
    },
    {
      "cell_type": "code",
      "metadata": {
        "colab": {
          "base_uri": "https://localhost:8080/"
        },
        "id": "W1AhZEkm4QFK",
        "outputId": "c5beffe5-c9be-487d-8da5-394ca6b4414c"
      },
      "source": [
        "#INIT\n",
        "import pandas as pd\n",
        "from gspread_dataframe import set_with_dataframe # Берем метод из библиотеки \n",
        "#гугловских таблиц, который позволяет писать нам данные из датафрейма\n",
        "\n",
        "df = pd.read_csv(\"/content/Test_data.csv\", sep=\";\")\n",
        "df['AMOUNT'] = df['AMOUNT'].str.replace(',','.') #Цифры с запятой питоном не считываются, поэтому меняем их на точку\n",
        "df[\"AMOUNT\"] = pd.to_numeric(df[\"AMOUNT\"]) # Переводим колонку в чилсенный формат\n",
        "print (df)\n"
      ],
      "execution_count": 20,
      "outputs": [
        {
          "output_type": "stream",
          "name": "stdout",
          "text": [
            "         PAYERACCOUNTNUMBER     PAYEEACCOUNTNUMBER    AMOUNT             DATEIN\n",
            "0         40720810251876632      40817810351876632   87000.0   21.08.2020 00:00\n",
            "1         40720810251876632      40817810351876632   87000.0   22.08.2020 00:00\n",
            "2         40720810251876887      40817810351876669     150.0   23.08.2020 00:00\n",
            "3         40720810251876895      40817810351876695   18000.0   24.08.2020 00:00\n",
            "4         40720810255546632      40817810366576632  178000.0   25.08.2020 00:00\n",
            "...                     ...                    ...       ...                ...\n",
            "4448  912221210100010005756  408202810291000043758  500000.0   25.02.2021 12:23\n",
            "4449   31310121010001100800   20255281029100100801  650400.0   28.02.2021 12:23\n",
            "4450   31310121010001100800   20255281029100100801  650410.0   28.02.2021 12:23\n",
            "4451   40825121010001100800   45907281029100100801  641600.0   28.02.2021 12:23\n",
            "4452   44706121010001100800   31410281029100100801  630100.0  28.02.2021 12:23 \n",
            "\n",
            "[4453 rows x 4 columns]\n"
          ]
        }
      ]
    },
    {
      "cell_type": "code",
      "metadata": {
        "id": "YJOcxWz1a6S1"
      },
      "source": [
        "#Чистка\n",
        "def clearing (worksheet): #Не вызываем этот метод в отдельном потоке, так как это API\n",
        "  range_of_cells = worksheet.range('A1:D5000') # Выбираем диапозон клеток\n",
        "  for cell in range_of_cells: # Начинаем ходить по каждой\n",
        "    cell.value = '' #Ставим клетке пустое значение\n",
        "  worksheet.update_cells(range_of_cells) #Обновляем все это"
      ],
      "execution_count": 36,
      "outputs": []
    },
    {
      "cell_type": "code",
      "metadata": {
        "id": "3Ax5opiu3R79"
      },
      "source": [
        "#Общая сумма операций плательщика\n",
        "clearing(worksheet1) # Чистим наш лист\n",
        "\n",
        "res=df.groupby(['PAYERACCOUNTNUMBER'])['AMOUNT'].sum().reset_index() # Группируем по плательщику и поле Amount мы суммируем\n",
        "#reset index - нужен для того, чтобы обновить индекс. Без этого вызова, api не захочет сохранять данные в таблицу (лист)\n",
        "\n",
        "set_with_dataframe(worksheet1, res) # записываем результат в отдельный лист\n",
        "\n"
      ],
      "execution_count": 37,
      "outputs": []
    },
    {
      "cell_type": "code",
      "metadata": {
        "id": "-68h47qQ3XEC",
        "colab": {
          "base_uri": "https://localhost:8080/"
        },
        "outputId": "e31d7b65-3a0e-4f31-cd5d-e67df8d6d950"
      },
      "source": [
        "#Общая сумма операций получателя\n",
        "clearing(worksheet2) # Чистим наш лист\n",
        "\n",
        "res=df.groupby(['PAYEEACCOUNTNUMBER'])['AMOUNT'].sum().reset_index() # Группируем по получателю и поле Amount мы суммируем\n",
        "#Про reset index упомяналось в ячейке 37 - строка 5\n",
        "print (res)\n",
        "set_with_dataframe(worksheet2, res) # записываем результат в отдельный лист\n"
      ],
      "execution_count": 43,
      "outputs": [
        {
          "output_type": "stream",
          "name": "stdout",
          "text": [
            "       PAYEEACCOUNTNUMBER       AMOUNT\n",
            "0    20202010500230060440     40187.94\n",
            "1    20202018105002300604  12587240.00\n",
            "2    20202181050023006044   6800000.00\n",
            "3    20202710038320100992    999000.00\n",
            "4    20202809051627000802   7406540.00\n",
            "..                    ...          ...\n",
            "440  98053810142254000188    300000.00\n",
            "441  98055810940000003229    300000.00\n",
            "442  99901810500230060440   4200000.00\n",
            "443  99902810300000000005   2997000.00\n",
            "444  99919710038320100992    999000.00\n",
            "\n",
            "[445 rows x 2 columns]\n"
          ]
        }
      ]
    },
    {
      "cell_type": "code",
      "metadata": {
        "colab": {
          "base_uri": "https://localhost:8080/"
        },
        "id": "pguZt-fm6-w4",
        "outputId": "00eaa96c-8f51-4b55-e3de-74be469bc5ba"
      },
      "source": [
        "#Общее количество операций плательщика\n",
        "clearing(worksheet3) # Чистим наш лист\n",
        "\n",
        "res=df['PAYERACCOUNTNUMBER'].value_counts(dropna=True).reset_index() #Мы группируем по плательщику наши данные, после чего с помощью value counts, мы считаем кол-во строк. NA мы не считаем\n",
        "#Про reset index упомяналось в ячейке 37 - строка 5\n",
        "res.columns = ['PAYERACCOUNTNUMBER', 'How many times'] # Изменил названия столбцов\n",
        "print (res)\n",
        "set_with_dataframe(worksheet3, res) # записываем результат в отдельный лист\n"
      ],
      "execution_count": 45,
      "outputs": [
        {
          "output_type": "stream",
          "name": "stdout",
          "text": [
            "       PAYERACCOUNTNUMBER  How many times\n",
            "0    40217810300000000003             261\n",
            "1    40217810142254000188             236\n",
            "2    20202810400003155991             179\n",
            "3    40506810400003155991             172\n",
            "4    40417810142254000188             159\n",
            "..                    ...             ...\n",
            "366  40821810500005839311               1\n",
            "367  44706121010001100800               1\n",
            "368  40702810300350000166               1\n",
            "369  40702810200490000728               1\n",
            "370  40109810400003155991               1\n",
            "\n",
            "[371 rows x 2 columns]\n"
          ]
        }
      ]
    },
    {
      "cell_type": "code",
      "metadata": {
        "colab": {
          "base_uri": "https://localhost:8080/"
        },
        "id": "WOi1KpGK9IY0",
        "outputId": "d071eccd-5d0f-41e6-c1d0-1f76972f1bff"
      },
      "source": [
        "#Общее количество операций получателя\n",
        "clearing(worksheet4) # Чистим наш лист\n",
        "res=df['PAYEEACCOUNTNUMBER'].value_counts(dropna=True).reset_index()\n",
        "\n",
        "#Про reset index упомяналось в ячейке 37 - строка 5\n",
        "res.columns = ['PAYEEACCOUNTNUMBER', 'How many times'] # Изменил названия столбцов\n",
        "print (res)\n",
        "set_with_dataframe(worksheet4, res) # записываем результат в отдельный лист"
      ],
      "execution_count": 48,
      "outputs": [
        {
          "output_type": "stream",
          "name": "stdout",
          "text": [
            "       PAYEEACCOUNTNUMBER  How many times\n",
            "0    40817810300000000005             262\n",
            "1    40206810516270008028             122\n",
            "2    40101810500230060440              82\n",
            "3    49905810601240000026              69\n",
            "4    20202810051627000802              67\n",
            "..                    ...             ...\n",
            "440  31601810038320100992               1\n",
            "441  20309281029100100801               1\n",
            "442     40817810351876669               1\n",
            "443  40701810038320100992               1\n",
            "444  40701281029100100120               1\n",
            "\n",
            "[445 rows x 2 columns]\n"
          ]
        }
      ]
    },
    {
      "cell_type": "code",
      "metadata": {
        "colab": {
          "base_uri": "https://localhost:8080/"
        },
        "id": "V9SQibEf9fOM",
        "outputId": "9cc04eef-0ade-4a87-9c3f-ee2a2830997e"
      },
      "source": [
        "#Общая сумма операций от плательщика x получателю y (для каждой пары плательщик-получатель)\n",
        "clearing(worksheet5) # Чистим наш лист\n",
        "res=df.groupby(['PAYERACCOUNTNUMBER','PAYEEACCOUNTNUMBER'])['AMOUNT'].sum().reset_index()# Группируем теперь по двум полям (важен порядок) и суммируем amount\n",
        "\n",
        "#Про reset index упомяналось в ячейке 37 - строка 5\n",
        "print (res)\n",
        "set_with_dataframe(worksheet5, res) # записываем результат в отдельный лист"
      ],
      "execution_count": 49,
      "outputs": [
        {
          "output_type": "stream",
          "name": "stdout",
          "text": [
            "         PAYERACCOUNTNUMBER     PAYEEACCOUNTNUMBER     AMOUNT\n",
            "0      20201810038320100992   30619710038320100992   999000.0\n",
            "1      20202010400003155991   20202810105002300604  3957000.0\n",
            "2      20202010400003155991   20202811105002300604   600000.0\n",
            "3      20202010400003155991   40202810105002300604  7500000.0\n",
            "4      20202010400003155991   40602810105002300604  1700000.0\n",
            "...                     ...                    ...        ...\n",
            "1069   91211810300000000003   99902810300000000005  2997000.0\n",
            "1070   91217810400003155991   99901810500230060440   600000.0\n",
            "1071  912221210100010005756  408202810291000043758  9000999.0\n",
            "1072   91312810000760001770   30123810038320100992   999000.0\n",
            "1073   99901810500230060440   99901810500230060440  3600000.0\n",
            "\n",
            "[1074 rows x 3 columns]\n"
          ]
        }
      ]
    },
    {
      "cell_type": "code",
      "metadata": {
        "colab": {
          "base_uri": "https://localhost:8080/"
        },
        "id": "reTNUoys9e_9",
        "outputId": "3375482c-e65a-4c3c-88e1-6557f24e9c7a"
      },
      "source": [
        "#Общая количество операций от плательщика x получателю y (для каждой пары плательщик-получатель)\n",
        "clearing(worksheet6) # Чистим наш лист\n",
        "\n",
        "res=df.groupby(['PAYERACCOUNTNUMBER','PAYEEACCOUNTNUMBER']).size().reset_index() # Группируем по полям и узнаем размер датафрейма, который получился\n",
        "\n",
        "#Про reset index упомяналось в ячейке 37 - строка 5\n",
        "res.columns = ['PAYERACCOUNTNUMBER', 'PAYEEACCOUNTNUMBER','How many times'] # Изменил названия столбцов\n",
        "\n",
        "print (res)\n",
        "set_with_dataframe(worksheet6, res) # записываем результат в отдельный лист"
      ],
      "execution_count": 53,
      "outputs": [
        {
          "output_type": "stream",
          "name": "stdout",
          "text": [
            "         PAYERACCOUNTNUMBER     PAYEEACCOUNTNUMBER  How many times\n",
            "0      20201810038320100992   30619710038320100992               1\n",
            "1      20202010400003155991   20202810105002300604              13\n",
            "2      20202010400003155991   20202811105002300604               1\n",
            "3      20202010400003155991   40202810105002300604              13\n",
            "4      20202010400003155991   40602810105002300604               3\n",
            "...                     ...                    ...             ...\n",
            "1069   91211810300000000003   99902810300000000005               3\n",
            "1070   91217810400003155991   99901810500230060440               1\n",
            "1071  912221210100010005756  408202810291000043758              27\n",
            "1072   91312810000760001770   30123810038320100992               1\n",
            "1073   99901810500230060440   99901810500230060440               6\n",
            "\n",
            "[1074 rows x 3 columns]\n"
          ]
        }
      ]
    },
    {
      "cell_type": "code",
      "metadata": {
        "colab": {
          "base_uri": "https://localhost:8080/"
        },
        "id": "y_niejRL-5i6",
        "outputId": "e0f9d9ae-4486-474c-9a49-653798df3cd9"
      },
      "source": [
        "#Общая сумма операций от плательщика x получателю y за дату z (для каждой пары плательщик-получатель и каждой даты)\n",
        "clearing(worksheet7) # Чистим наш лист\n",
        "\n",
        "res=df.groupby(['DATEIN','PAYERACCOUNTNUMBER','PAYEEACCOUNTNUMBER'])['AMOUNT'].sum().reset_index() # Сначала группируем по датам, после начинаем группировать по плательщикам и получателям. Если поставить дату в конец, то будут проблемы\n",
        "\n",
        "print (res)\n",
        "set_with_dataframe(worksheet7, res) # записываем результат в отдельный лист"
      ],
      "execution_count": 54,
      "outputs": [
        {
          "output_type": "stream",
          "name": "stdout",
          "text": [
            "                DATEIN    PAYERACCOUNTNUMBER    PAYEEACCOUNTNUMBER     AMOUNT\n",
            "0     01.01.2015 05:59  40817810300000000003  40817810300000000005   999000.0\n",
            "1     01.01.2015 05:59  40817810300000000003     40917810351888632   999000.0\n",
            "2     02.09.2019 10:08     20220810451876632     40817810451876632        0.0\n",
            "3     03.08.2019 00:00  20202010400003155991  20202810105002300604  3957000.0\n",
            "4     03.08.2019 00:00  20202010400003155991  20202811105002300604   600000.0\n",
            "...                ...                   ...                   ...        ...\n",
            "1245  31.07.2017 16:51  47402810940000003229  30220810940000003229  1600000.0\n",
            "1246  31.07.2017 16:51  49901810099000418179  30317810142254000188   600000.0\n",
            "1247  31.08.2017 14:55  40817810142254000188  42301810500230060440    15000.0\n",
            "1248  31.08.2017 15:48  40817810142254000188  42306810516270008028    20868.0\n",
            "1249  31.08.2017 16:46  40817810400003155991  40703810762420000003     3500.0\n",
            "\n",
            "[1250 rows x 4 columns]\n"
          ]
        }
      ]
    },
    {
      "cell_type": "code",
      "metadata": {
        "colab": {
          "base_uri": "https://localhost:8080/"
        },
        "id": "_zCl59qw-_nP",
        "outputId": "4acb04eb-94b0-4d43-907b-cc0852c79b2f"
      },
      "source": [
        "#Общая количество операций от плательщика x получателю y за дату z (для каждой пары плательщик-получатель и каждой даты)\n",
        "clearing(worksheet8) # Чистим наш лист\n",
        "\n",
        "res=df.groupby(['DATEIN','PAYERACCOUNTNUMBER','PAYEEACCOUNTNUMBER']).size().reset_index() # Получаем тут размер датафрейма\n",
        "\n",
        "res.columns = ['DATEIN', 'PAYERACCOUNTNUMBER','PAYEEACCOUNTNUMBER','How many times'] # Изменил названия столбцов\n",
        "print (res)\n",
        "set_with_dataframe(worksheet8, res) # записываем результат в отдельный лист"
      ],
      "execution_count": 55,
      "outputs": [
        {
          "output_type": "stream",
          "name": "stdout",
          "text": [
            "                DATEIN  ... How many times\n",
            "0     01.01.2015 05:59  ...              1\n",
            "1     01.01.2015 05:59  ...              1\n",
            "2     02.09.2019 10:08  ...              1\n",
            "3     03.08.2019 00:00  ...             13\n",
            "4     03.08.2019 00:00  ...              1\n",
            "...                ...  ...            ...\n",
            "1245  31.07.2017 16:51  ...              2\n",
            "1246  31.07.2017 16:51  ...              1\n",
            "1247  31.08.2017 14:55  ...              2\n",
            "1248  31.08.2017 15:48  ...              2\n",
            "1249  31.08.2017 16:46  ...              2\n",
            "\n",
            "[1250 rows x 4 columns]\n"
          ]
        }
      ]
    },
    {
      "cell_type": "code",
      "metadata": {
        "colab": {
          "base_uri": "https://localhost:8080/"
        },
        "id": "9r9rPyE3_xS8",
        "outputId": "a6ff2fe9-1b2e-4f13-d9be-abdcd3468180"
      },
      "source": [
        "#Общее сумма операций за дату z  (для каждой даты)\n",
        "\"\"\"\n",
        "Группируем по датам и суммируем данные\n",
        "\"\"\"\n",
        "clearing(worksheet9) # Чистим наш лист\n",
        "res=df.groupby(['DATEIN'])['AMOUNT'].sum().apply(lambda x: '%.3f' % x).reset_index() # Использовал лямбду, чтобы числа показывались в читаемом формате (а не е+60)\n",
        "\n",
        "res.columns = ['DATEIN','Total Sum'] # Изменил названия столбцов\n",
        "print (res)\n",
        "set_with_dataframe(worksheet9, res) # записываем результат в отдельный лист"
      ],
      "execution_count": 57,
      "outputs": [
        {
          "output_type": "stream",
          "name": "stdout",
          "text": [
            "              DATEIN       Total Sum\n",
            "0   01.01.2015 05:59     1998000.000\n",
            "1   02.09.2019 10:08           0.000\n",
            "2   03.08.2019 00:00  1226597351.190\n",
            "3   05.03.2020 10:26     1998000.000\n",
            "4   05.05.2018 20:59     1053965.990\n",
            "..               ...             ...\n",
            "61  31.07.2017 12:04    24723000.000\n",
            "62  31.07.2017 16:51    27502000.000\n",
            "63  31.08.2017 14:55       15000.000\n",
            "64  31.08.2017 15:48       20868.000\n",
            "65  31.08.2017 16:46        3500.000\n",
            "\n",
            "[66 rows x 2 columns]\n"
          ]
        }
      ]
    },
    {
      "cell_type": "code",
      "metadata": {
        "colab": {
          "base_uri": "https://localhost:8080/"
        },
        "id": "sDiJ_p2P_xJ7",
        "outputId": "92ceee4b-69e7-4c24-daa1-f67f0c0e8a0d"
      },
      "source": [
        "#Общее количество операций за дату z  (для каждой даты)\n",
        "clearing(worksheet10) # Чистим наш лист\n",
        "\n",
        "res=df.groupby(['DATEIN'])['AMOUNT'].size().reset_index() # Узнаем после группировки размер датафрейма\n",
        "\n",
        "res.columns = ['DATEIN','How many times'] # Изменил названия столбцов\n",
        "print (res)\n",
        "set_with_dataframe(worksheet10, res) # записываем результат в отдельный лист"
      ],
      "execution_count": 59,
      "outputs": [
        {
          "output_type": "stream",
          "name": "stdout",
          "text": [
            "              DATEIN  How many times\n",
            "0   01.01.2015 05:59               2\n",
            "1   02.09.2019 10:08               1\n",
            "2   03.08.2019 00:00            2623\n",
            "3   05.03.2020 10:26               2\n",
            "4   05.05.2018 20:59               2\n",
            "..               ...             ...\n",
            "61  31.07.2017 12:04              39\n",
            "62  31.07.2017 16:51              39\n",
            "63  31.08.2017 14:55               2\n",
            "64  31.08.2017 15:48               2\n",
            "65  31.08.2017 16:46               2\n",
            "\n",
            "[66 rows x 2 columns]\n"
          ]
        }
      ]
    },
    {
      "cell_type": "code",
      "metadata": {
        "colab": {
          "base_uri": "https://localhost:8080/"
        },
        "id": "n65Sd6qkBNYu",
        "outputId": "55749ee2-7d5f-4f64-e729-481adb48f9ab"
      },
      "source": [
        "#Максимальная сумма отдельной операции каждого плательщика\n",
        "clearing(worksheet11) # Чистим наш лист\n",
        "\n",
        "res=df.groupby(['PAYERACCOUNTNUMBER'])['AMOUNT'].max().reset_index() # Путем вызова max мы узнаем максимальное значение для каждого поля \n",
        "\n",
        "res.columns = ['PAYERACCOUNTNUMBER','MAX sum'] # Изменил названия столбцов\n",
        "print (res)\n",
        "set_with_dataframe(worksheet11, res) # записываем результат в отдельный лист"
      ],
      "execution_count": 60,
      "outputs": [
        {
          "output_type": "stream",
          "name": "stdout",
          "text": [
            "        PAYERACCOUNTNUMBER   MAX sum\n",
            "0     20201810038320100992  999000.0\n",
            "1     20202010400003155991  600000.0\n",
            "2     20202121010001100111  610000.0\n",
            "3     20202121010001100800  640100.0\n",
            "4     20202810038320100992  999000.0\n",
            "..                     ...       ...\n",
            "366   91211810300000000003  999000.0\n",
            "367   91217810400003155991  600000.0\n",
            "368  912221210100010005756  500000.0\n",
            "369   91312810000760001770  999000.0\n",
            "370   99901810500230060440  600000.0\n",
            "\n",
            "[371 rows x 2 columns]\n"
          ]
        }
      ]
    },
    {
      "cell_type": "code",
      "metadata": {
        "colab": {
          "base_uri": "https://localhost:8080/"
        },
        "id": "hpF5jtPyBNP-",
        "outputId": "86ab0cd1-3d35-48d7-b278-94dea5481000"
      },
      "source": [
        "#Максимальная сумма отдельно операции каждого получателя\n",
        "clearing(worksheet12) # Чистим наш лист\n",
        "\n",
        "res=df.groupby(['PAYEEACCOUNTNUMBER'])['AMOUNT'].max().reset_index() # сделал тоже самое, что и в предыдущей ячейке, только изменил плательщика на получателя\n",
        "\n",
        "res.columns = ['PAYEEACCOUNTNUMBER','MAX sum'] # Изменил названия столбцов\n",
        "print (res)\n",
        "set_with_dataframe(worksheet12, res) # записываем результат в отдельный лист"
      ],
      "execution_count": 62,
      "outputs": [
        {
          "output_type": "stream",
          "name": "stdout",
          "text": [
            "       PAYEEACCOUNTNUMBER    MAX sum\n",
            "0    20202010500230060440   18294.96\n",
            "1    20202018105002300604  800000.00\n",
            "2    20202181050023006044  600000.00\n",
            "3    20202710038320100992  999000.00\n",
            "4    20202809051627000802  600000.00\n",
            "..                    ...        ...\n",
            "440  98053810142254000188  100000.00\n",
            "441  98055810940000003229  100000.00\n",
            "442  99901810500230060440  600000.00\n",
            "443  99902810300000000005  999000.00\n",
            "444  99919710038320100992  999000.00\n",
            "\n",
            "[445 rows x 2 columns]\n"
          ]
        }
      ]
    }
  ]
}