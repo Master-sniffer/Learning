{
  "cells": [
    {
      "cell_type": "markdown",
      "source": [
        "<b>простого графа"
      ],
      "metadata": {
        "id": "hxkiPcnN_TiK"
      },
      "id": "hxkiPcnN_TiK"
    },
    {
      "cell_type": "code",
      "execution_count": null,
      "id": "8ed1d402",
      "metadata": {
        "id": "8ed1d402"
      },
      "outputs": [],
      "source": [
        "import itertools\n",
        "\n",
        "import networkx as nx\n",
        "import numpy.random as rnd\n",
        "import matplotlib.pyplot as plt"
      ]
    },
    {
      "cell_type": "code",
      "execution_count": null,
      "id": "c046dfdf",
      "metadata": {
        "id": "c046dfdf"
      },
      "outputs": [],
      "source": [
        "graph = nx.Graph()\n"
      ]
    },
    {
      "cell_type": "code",
      "execution_count": null,
      "id": "60aaec77",
      "metadata": {
        "id": "60aaec77"
      },
      "outputs": [],
      "source": [
        "graph.add_node('A')\n",
        "graph.add_node('B')\n",
        "graph.add_node('C')"
      ]
    },
    {
      "cell_type": "code",
      "execution_count": null,
      "id": "bd3f1499",
      "metadata": {
        "id": "bd3f1499"
      },
      "outputs": [],
      "source": [
        "def add_edge(f_item, s_item, graph=None):\n",
        "  graph.add_edge(f_item, s_item)\n",
        "  graph.add_edge(s_item, f_item) "
      ]
    },
    {
      "cell_type": "code",
      "execution_count": null,
      "id": "288171c1",
      "metadata": {
        "colab": {
          "base_uri": "https://localhost:8080/",
          "height": 319
        },
        "id": "288171c1",
        "outputId": "1b6cd103-6970-49dd-a01c-b172290ba994"
      },
      "outputs": [
        {
          "output_type": "display_data",
          "data": {
            "image/png": "[encoded data removed]",
            "text/plain": [
              "<Figure size 432x288 with 1 Axes>"
            ]
          },
          "metadata": {}
        }
      ],
      "source": [
        "add_edge('A', 'B', graph=graph)\n",
        "add_edge('B', 'C', graph=graph)\n",
        "add_edge('B', 'D', graph=graph)\n",
        "add_edge('D', 'E', graph=graph)\n",
        "\n",
        "nx.draw_circular(graph,\n",
        "         node_color='blue',\n",
        "         node_size=1000,\n",
        "         with_labels=True)"
      ]
    },
    {
      "cell_type": "code",
      "source": [
        "cities = {'A':(0, 20),\n",
        "     'B':(15, 34),\n",
        "     'C':(16, 51),\n",
        "     'D':(10, 61)}\n",
        "\n",
        "graph = nx.Graph()\n",
        "graph.add_nodes_from(cities)"
      ],
      "metadata": {
        "id": "ttrbR4zHAYM5"
      },
      "id": "ttrbR4zHAYM5",
      "execution_count": null,
      "outputs": []
    },
    {
      "cell_type": "code",
      "source": [
        "kilometres = {('A', 'B', 25),\n",
        "              ('B', 'C', 26),\n",
        "              ('B', 'D', 36),\n",
        "              ('C', 'D', 24),\n",
        "              ('D', 'A', 28)}\n",
        "\n",
        "graph.add_weighted_edges_from(kilometres)"
      ],
      "metadata": {
        "id": "btJZGKpdAY8w"
      },
      "id": "btJZGKpdAY8w",
      "execution_count": null,
      "outputs": []
    },
    {
      "cell_type": "code",
      "source": [
        "nx.draw_circular(graph,\n",
        "         node_color='orange',\n",
        "         node_size=1000,\n",
        "         with_labels=True)"
      ],
      "metadata": {
        "colab": {
          "base_uri": "https://localhost:8080/",
          "height": 319
        },
        "id": "scUU0BZuAiHh",
        "outputId": "770b94cf-4b24-4c2d-f0c5-5d6f7133c3ff"
      },
      "id": "scUU0BZuAiHh",
      "execution_count": null,
      "outputs": [
        {
          "output_type": "display_data",
          "data": {
            "image/png": "[encoded data removed]",
            "text/plain": [
              "<Figure size 432x288 with 1 Axes>"
            ]
          },
          "metadata": {}
        }
      ]
    },
    {
      "cell_type": "code",
      "execution_count": null,
      "id": "c6b7dbe2",
      "metadata": {
        "id": "c6b7dbe2"
      },
      "outputs": [],
      "source": [
        "def random_graph(n:int, p) -> nx.Graph:\n",
        "  graph = nx.Graph()\n",
        "   \n",
        "  N_range = range(n)\n",
        "  graph.add_nodes_from(N_range)\n",
        "   \n",
        "  for pair in itertools.permutations(N_range, 2):\n",
        "    if rnd.random() < p:\n",
        "      graph.add_edge(*pair)\n",
        "   \n",
        "  return graph"
      ]
    }
  ],
  "metadata": {
    "kernelspec": {
      "display_name": "Python 3",
      "language": "python",
      "name": "python3"
    },
    "language_info": {
      "codemirror_mode": {
        "name": "ipython",
        "version": 3
      },
      "file_extension": ".py",
      "mimetype": "text/x-python",
      "name": "python",
      "nbconvert_exporter": "python",
      "pygments_lexer": "ipython3",
      "version": "3.8.8"
    },
    "colab": {
      "provenance": []
    }
  },
  "nbformat": 4,
  "nbformat_minor": 5
}