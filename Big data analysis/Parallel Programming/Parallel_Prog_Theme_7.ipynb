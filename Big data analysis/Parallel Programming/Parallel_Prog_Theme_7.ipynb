{
  "nbformat": 4,
  "nbformat_minor": 0,
  "metadata": {
    "colab": {
      "provenance": []
    },
    "kernelspec": {
      "name": "python3",
      "display_name": "Python 3"
    },
    "language_info": {
      "name": "python"
    }
  },
  "cells": [
    {
      "cell_type": "code",
      "execution_count": null,
      "metadata": {
        "colab": {
          "base_uri": "https://localhost:8080/"
        },
        "id": "alNs06DNS4i6",
        "outputId": "eb05f2c9-e902-41ea-d01c-cc68d828d19c"
      },
      "outputs": [
        {
          "output_type": "stream",
          "name": "stdout",
          "text": [
            "Looking in indexes: https://pypi.org/simple, https://us-python.pkg.dev/colab-wheels/public/simple/\n",
            "Collecting mpi4py\n",
            "  Downloading mpi4py-3.1.4.tar.gz (2.5 MB)\n",
            "\u001b[K     |████████████████████████████████| 2.5 MB 5.2 MB/s \n",
            "\u001b[?25h  Installing build dependencies ... \u001b[?25l\u001b[?25hdone\n",
            "  Getting requirements to build wheel ... \u001b[?25l\u001b[?25hdone\n",
            "    Preparing wheel metadata ... \u001b[?25l\u001b[?25hdone\n",
            "Building wheels for collected packages: mpi4py\n",
            "  Building wheel for mpi4py (PEP 517) ... \u001b[?25l\u001b[?25hdone\n",
            "  Created wheel for mpi4py: filename=mpi4py-3.1.4-cp38-cp38-linux_x86_64.whl size=4438469 sha256=028a3d7c8cc3ebd35ac8f5c3a10747ce57b354889bf3c699ad598d72bbd72179\n",
            "  Stored in directory: /root/.cache/pip/wheels/f3/35/48/0b9a7076995eea5ea64a7e4bc3f0f342f453080795276264e7\n",
            "Successfully built mpi4py\n",
            "Installing collected packages: mpi4py\n",
            "Successfully installed mpi4py-3.1.4\n"
          ]
        }
      ],
      "source": [
        "%pip install mpi4py"
      ]
    },
    {
      "cell_type": "code",
      "source": [
        "from mpi4py import MPI\n",
        "\n",
        "comm = MPI. COMM_WORLD\n",
        "rank = comm. Get_rank ()\n",
        "numprocs = comm. Get_size ()\n",
        "\n",
        "print (f'Hello from process {rank} of { numprocs }')"
      ],
      "metadata": {
        "colab": {
          "base_uri": "https://localhost:8080/"
        },
        "id": "lx7TpUaAS-j_",
        "outputId": "14f92b7a-5e85-4a9e-9794-96f2b32e5403"
      },
      "execution_count": null,
      "outputs": [
        {
          "output_type": "stream",
          "name": "stdout",
          "text": [
            "Hello from process 0 of 1\n"
          ]
        }
      ]
    },
    {
      "cell_type": "code",
      "source": [
        "from mpi4py import MPI\n",
        "from numpy import empty , array , int32 , float64 , dot\n",
        "\n",
        "# определяем коммуникатор comm – группу процессов, которые участвуют в вычислениях\n",
        "comm = MPI. COMM_WORLD\n",
        "# rank применяется для указания номера процесса\n",
        "rank = comm. Get_rank ()\n",
        "\n",
        "\n",
        "numprocs = comm. Get_size ()\n",
        "\n",
        "if rank == 0:\n",
        "  f1 = open('/content/in.dat', 'r')\n",
        "  N = array(int32(f1. readline ()))\n",
        "  M = array(int32(f1. readline ()))\n",
        "  f1.close ()\n",
        "else:\n",
        "  N = array (0, dtype=int32)\n",
        "  M = array (0, dtype=int32)\n",
        "\n",
        "if rank == 0:\n",
        "  comm.send (M, dest =1, tag =0)\n",
        "else:\n",
        "  N = comm.recv (source =0, tag =0)\n",
        "\n",
        "print (f'Variable N on process {rank} is: {N}')"
      ],
      "metadata": {
        "colab": {
          "base_uri": "https://localhost:8080/",
          "height": 312
        },
        "id": "epiSXGK1TqpH",
        "outputId": "6a2f252b-68d7-4ff2-a64d-66bbbd84f411"
      },
      "execution_count": null,
      "outputs": [
        {
          "output_type": "error",
          "ename": "Exception",
          "evalue": "ignored",
          "traceback": [
            "\u001b[0;31m---------------------------------------------------------------------------\u001b[0m",
            "\u001b[0;31mException\u001b[0m                                 Traceback (most recent call last)",
            "\u001b[0;32m<ipython-input-4-072f9afcd602>\u001b[0m in \u001b[0;36m<module>\u001b[0;34m\u001b[0m\n\u001b[1;32m     20\u001b[0m \u001b[0;34m\u001b[0m\u001b[0m\n\u001b[1;32m     21\u001b[0m \u001b[0;32mif\u001b[0m \u001b[0mrank\u001b[0m \u001b[0;34m==\u001b[0m \u001b[0;36m0\u001b[0m\u001b[0;34m:\u001b[0m\u001b[0;34m\u001b[0m\u001b[0;34m\u001b[0m\u001b[0m\n\u001b[0;32m---> 22\u001b[0;31m   \u001b[0mcomm\u001b[0m\u001b[0;34m.\u001b[0m\u001b[0msend\u001b[0m \u001b[0;34m(\u001b[0m\u001b[0mM\u001b[0m\u001b[0;34m,\u001b[0m \u001b[0mdest\u001b[0m \u001b[0;34m=\u001b[0m\u001b[0;36m1\u001b[0m\u001b[0;34m,\u001b[0m \u001b[0mtag\u001b[0m \u001b[0;34m=\u001b[0m\u001b[0;36m0\u001b[0m\u001b[0;34m)\u001b[0m\u001b[0;34m\u001b[0m\u001b[0;34m\u001b[0m\u001b[0m\n\u001b[0m\u001b[1;32m     23\u001b[0m \u001b[0;32melse\u001b[0m\u001b[0;34m:\u001b[0m\u001b[0;34m\u001b[0m\u001b[0;34m\u001b[0m\u001b[0m\n\u001b[1;32m     24\u001b[0m   \u001b[0mN\u001b[0m \u001b[0;34m=\u001b[0m \u001b[0mcomm\u001b[0m\u001b[0;34m.\u001b[0m\u001b[0mrecv\u001b[0m \u001b[0;34m(\u001b[0m\u001b[0msource\u001b[0m \u001b[0;34m=\u001b[0m\u001b[0;36m0\u001b[0m\u001b[0;34m,\u001b[0m \u001b[0mtag\u001b[0m \u001b[0;34m=\u001b[0m\u001b[0;36m0\u001b[0m\u001b[0;34m)\u001b[0m\u001b[0;34m\u001b[0m\u001b[0;34m\u001b[0m\u001b[0m\n",
            "\u001b[0;32mmpi4py/MPI/Comm.pyx\u001b[0m in \u001b[0;36mmpi4py.MPI.Comm.send\u001b[0;34m()\u001b[0m\n",
            "\u001b[0;32mmpi4py/MPI/msgpickle.pxi\u001b[0m in \u001b[0;36mmpi4py.MPI.PyMPI_send\u001b[0;34m()\u001b[0m\n",
            "\u001b[0;31mException\u001b[0m: MPI_ERR_RANK: invalid rank"
          ]
        }
      ]
    },
    {
      "cell_type": "code",
      "source": [
        "from mpi4py import MPI\n",
        "from numpy import empty , array , int32 , float64 , dot\n",
        "\n",
        "comm = MPI. COMM_WORLD\n",
        "rank = comm. Get_rank ()\n",
        "\n",
        "numprocs = comm. Get_size ()\n",
        "\n",
        "if rank == 0: \n",
        "    variable_to_share = 100      \n",
        "else: \n",
        "    variable_to_share = None\n",
        "\n",
        "# Отсылка значения всем, в т.ч. и себе\n",
        "variable_to_share = comm.bcast(variable_to_share, root=0) \n",
        "\n",
        "print(\"process = %d\" %rank + \" variable shared  = %d \" %variable_to_share)\n"
      ],
      "metadata": {
        "colab": {
          "base_uri": "https://localhost:8080/"
        },
        "id": "Zk2qROSyV49s",
        "outputId": "e172d035-315e-484f-945c-d353bad2fb6e"
      },
      "execution_count": null,
      "outputs": [
        {
          "output_type": "stream",
          "name": "stdout",
          "text": [
            "process = 0 variable shared  = 100 \n"
          ]
        }
      ]
    },
    {
      "cell_type": "code",
      "source": [
        "import numpy\n",
        "from mpi4py import MPI\n",
        "\n",
        "comm = MPI.COMM_WORLD\n",
        "size = comm.size\n",
        "rank = comm.rank\n",
        "\n",
        "array_size = 3\n",
        "\n",
        "recvdata = numpy.zeros(array_size,dtype=int)\n",
        "# Формируем массивы с исходными данными размером array_size\n",
        "senddata = (rank+1)*numpy.arange(array_size,dtype=int)\n",
        "\n",
        "print(\" process %s sending %s \" %(rank , senddata))\n",
        "\n",
        "# Применяем групповое суммирование каждого элемента во всех процессах  \n",
        "comm.Reduce(senddata,recvdata,root=0,op=MPI.SUM)\n",
        "\n",
        "# и выводим в нулевом результат\n",
        "if rank == 0: \n",
        "  print ('on task',rank,'after Reduce:    data = ',recvdata)"
      ],
      "metadata": {
        "colab": {
          "base_uri": "https://localhost:8080/"
        },
        "id": "zbw_DubxWyP6",
        "outputId": "f4b11f22-4144-444d-b1fb-f8a22d7a574a"
      },
      "execution_count": null,
      "outputs": [
        {
          "output_type": "stream",
          "name": "stdout",
          "text": [
            " process 0 sending [0 1 2] \n",
            "on task 0 after Reduce:    data =  [0 1 2]\n"
          ]
        }
      ]
    },
    {
      "cell_type": "code",
      "source": [
        "from mpi4py import MPI\n",
        "from numpy import empty , array , int32 , float64 , dot\n",
        "\n",
        "comm = MPI. COMM_WORLD\n",
        "rank = comm. Get_rank ()\n",
        "\n",
        "numprocs = comm. Get_size ()\n",
        "\n",
        "if rank == 0: \n",
        "    array_to_share = [1]\n",
        "else: \n",
        "    array_to_share = None\n",
        "\n",
        "\n",
        "# Отсылка по элементу из массива всем процессам, в т.ч. и себе\n",
        "recvbuf = comm.scatter(array_to_share, root=0)\n",
        "\n",
        "print(\"process = %d\" %rank + \" recvbuf = %d \" %recvbuf)"
      ],
      "metadata": {
        "colab": {
          "base_uri": "https://localhost:8080/"
        },
        "id": "scS4HAwnWzHq",
        "outputId": "9ba993d7-2526-4c85-bd96-e43d849dadcc"
      },
      "execution_count": null,
      "outputs": [
        {
          "output_type": "stream",
          "name": "stdout",
          "text": [
            "process = 0 recvbuf = 1 \n"
          ]
        }
      ]
    },
    {
      "cell_type": "code",
      "source": [
        "from mpi4py import MPI\n",
        "from numpy import empty , array , int32 , float64 , dot\n",
        "\n",
        "comm = MPI. COMM_WORLD\n",
        "rank = comm. Get_rank ()\n",
        "size = comm. Get_size ()\n",
        "\n",
        "\n",
        "numprocs = comm. Get_size ()\n",
        "\n",
        "if rank == 0: \n",
        "    array_share = [ 0 ]\n",
        "    for i in range(1,size): \n",
        "        array_share.append( i )\n",
        "\n",
        "else: \n",
        "    array_share = None\n",
        "\n",
        "\n",
        "# Отсылка по элементу из массива всем процессам, в т.ч. и себе\n",
        "recvbuf = comm.scatter(array_share, root=0)\n",
        "\n",
        "# вычисляем по значению в каждом процессе\n",
        "calcVal = recvbuf * 2\n",
        "\n",
        "# собираем результат обратно в вектор\n",
        "recv_arr = comm.gather(calcVal, root=0)\n",
        "\n",
        "if rank == 5: \n",
        "  for i in range(0,size): \n",
        "       # выводим поэлементно полученный вектор\n",
        "       print(\" process %s receiving %s from process %s\"  %(rank , recv_arr[i] , i))\n"
      ],
      "metadata": {
        "id": "tKFcVIGOXCKy"
      },
      "execution_count": null,
      "outputs": []
    }
  ]
}