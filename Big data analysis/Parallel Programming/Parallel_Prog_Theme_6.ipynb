{
  "nbformat": 4,
  "nbformat_minor": 0,
  "metadata": {
    "colab": {
      "provenance": []
    },
    "kernelspec": {
      "name": "python3",
      "display_name": "Python 3"
    },
    "language_info": {
      "name": "python"
    },
    "accelerator": "GPU",
    "gpuClass": "standard"
  },
  "cells": [
    {
      "cell_type": "markdown",
      "source": [
        "#Settings"
      ],
      "metadata": {
        "id": "Q4VV2T9nJifj"
      }
    },
    {
      "cell_type": "code",
      "source": [
        "%pip install pyopencl\n",
        "%pip install pyparticles"
      ],
      "metadata": {
        "colab": {
          "base_uri": "https://localhost:8080/"
        },
        "id": "hY_vxe53JCV9",
        "outputId": "7a993dc3-892d-4c56-e726-7332aa0a318e"
      },
      "execution_count": null,
      "outputs": [
        {
          "output_type": "stream",
          "name": "stdout",
          "text": [
            "Looking in indexes: https://pypi.org/simple, https://us-python.pkg.dev/colab-wheels/public/simple/\n",
            "Collecting pyopencl\n",
            "  Downloading pyopencl-2022.3-cp38-cp38-manylinux_2_17_x86_64.manylinux2014_x86_64.whl (917 kB)\n",
            "\u001b[K     |████████████████████████████████| 917 kB 5.0 MB/s \n",
            "\u001b[?25hRequirement already satisfied: numpy in /usr/local/lib/python3.8/dist-packages (from pyopencl) (1.21.6)\n",
            "Requirement already satisfied: platformdirs>=2.2.0 in /usr/local/lib/python3.8/dist-packages (from pyopencl) (2.6.0)\n",
            "Collecting pytools>=2021.2.7\n",
            "  Downloading pytools-2022.1.13.tar.gz (71 kB)\n",
            "\u001b[K     |████████████████████████████████| 71 kB 9.5 MB/s \n",
            "\u001b[?25hRequirement already satisfied: typing_extensions>=4.0 in /usr/local/lib/python3.8/dist-packages (from pytools>=2021.2.7->pyopencl) (4.4.0)\n",
            "Building wheels for collected packages: pytools\n",
            "  Building wheel for pytools (setup.py) ... \u001b[?25l\u001b[?25hdone\n",
            "  Created wheel for pytools: filename=pytools-2022.1.13-py2.py3-none-any.whl size=66024 sha256=8db68777ff86cd7c60462871115076a9e4fcb23484f433a5121805090cbd0205\n",
            "  Stored in directory: /root/.cache/pip/wheels/b5/c1/bb/26ba70fb9d10f195249ef4e170a92ae83e7534e55b67786fd9\n",
            "Successfully built pytools\n",
            "Installing collected packages: pytools, pyopencl\n",
            "Successfully installed pyopencl-2022.3 pytools-2022.1.13\n"
          ]
        }
      ]
    },
    {
      "cell_type": "code",
      "source": [
        "import pyopencl\n"
      ],
      "metadata": {
        "id": "md75ZFdVJEnQ"
      },
      "execution_count": null,
      "outputs": []
    },
    {
      "cell_type": "code",
      "source": [
        "pyopencl.VERSION\n"
      ],
      "metadata": {
        "colab": {
          "base_uri": "https://localhost:8080/"
        },
        "id": "k0QClozeJEgz",
        "outputId": "4a23e72b-e987-4c64-c41f-20e5c49abd9c"
      },
      "execution_count": null,
      "outputs": [
        {
          "output_type": "execute_result",
          "data": {
            "text/plain": [
              "(2022, 3)"
            ]
          },
          "metadata": {},
          "execution_count": 3
        }
      ]
    },
    {
      "cell_type": "code",
      "source": [
        "import pyopencl as cl\n",
        "kcode = \"\"\" kernel void test () { printf (\" Hi! (%d)\\\\n\" , get_group_id (0)); } \"\"\"\n",
        "ctx = cl.create_some_context ()\n",
        "Q = cl.CommandQueue (ctx)\n",
        "prg = cl.Program (ctx, kcode).build (options =\"\")\n",
        "prg.test (Q, [8], [1]) . wait ()"
      ],
      "metadata": {
        "id": "SNjhP1zTJG_t"
      },
      "execution_count": null,
      "outputs": []
    },
    {
      "cell_type": "code",
      "source": [
        "from pyopencl.tools import get_test_platforms_and_devices\n",
        "get_test_platforms_and_devices()"
      ],
      "metadata": {
        "colab": {
          "base_uri": "https://localhost:8080/"
        },
        "id": "XDFtzvfpJKwC",
        "outputId": "e31a306a-2cae-45a6-a19d-eb395e441738"
      },
      "execution_count": null,
      "outputs": [
        {
          "output_type": "execute_result",
          "data": {
            "text/plain": [
              "[(<pyopencl.Platform 'NVIDIA CUDA' at 0x38b9810>,\n",
              "  [<pyopencl.Device 'Tesla T4' on 'NVIDIA CUDA' at 0x38b98b0>])]"
            ]
          },
          "metadata": {},
          "execution_count": 5
        }
      ]
    },
    {
      "cell_type": "code",
      "source": [
        "import os\n",
        "os.environ ['PYOPENCL_COMPILER_OUTPUT'] = '1'\n",
        "os.environ ['PYOPENCL_CTX'] = '0:0'"
      ],
      "metadata": {
        "id": "45yIOnoBJMU1"
      },
      "execution_count": null,
      "outputs": []
    },
    {
      "cell_type": "code",
      "source": [
        "import numba\n",
        "print(numba.__version__)\n",
        "from numba import jit\n",
        "from numpy import arange\n",
        "@jit\n",
        "def Sum2D ( arr ):\n",
        "    M , N = arr . shape\n",
        "    result = 0.0\n",
        "    for i in range ( M ):\n",
        "        for j in range ( N ):\n",
        "            result += arr [i , j]\n",
        "    return result\n",
        "a = arange ( 9 ) . reshape (3 , 3 )\n",
        "print ( Sum2D ( a ) )"
      ],
      "metadata": {
        "colab": {
          "base_uri": "https://localhost:8080/"
        },
        "id": "Cmknrg8GJN3D",
        "outputId": "9a5012e2-1532-49a0-fdf3-2ca6aa1a456b"
      },
      "execution_count": null,
      "outputs": [
        {
          "output_type": "stream",
          "name": "stdout",
          "text": [
            "0.56.4\n",
            "36.0\n"
          ]
        }
      ]
    },
    {
      "cell_type": "code",
      "source": [
        "pyopencl.get_cl_header_version()"
      ],
      "metadata": {
        "colab": {
          "base_uri": "https://localhost:8080/"
        },
        "id": "rfLbK0kMJSfC",
        "outputId": "6f06653d-ec84-4e53-8dd4-84910a61bd4e"
      },
      "execution_count": null,
      "outputs": [
        {
          "output_type": "execute_result",
          "data": {
            "text/plain": [
              "(3, 0)"
            ]
          },
          "metadata": {},
          "execution_count": 8
        }
      ]
    },
    {
      "cell_type": "code",
      "source": [
        "pyopencl.get_platforms()"
      ],
      "metadata": {
        "colab": {
          "base_uri": "https://localhost:8080/"
        },
        "id": "5wnrediXJTey",
        "outputId": "63afb7fa-8ed8-4986-d8ed-c6dc688218f6"
      },
      "execution_count": null,
      "outputs": [
        {
          "output_type": "execute_result",
          "data": {
            "text/plain": [
              "[<pyopencl.Platform 'NVIDIA CUDA' at 0x38b9810>]"
            ]
          },
          "metadata": {},
          "execution_count": 9
        }
      ]
    },
    {
      "cell_type": "code",
      "execution_count": null,
      "metadata": {
        "id": "kvuLA0cCIObx"
      },
      "outputs": [],
      "source": [
        "#python.exe -m pip install --upgrade pip #Для Анаконда промпт\n"
      ]
    },
    {
      "cell_type": "markdown",
      "source": [
        "#gravity_cluster"
      ],
      "metadata": {
        "id": "e0UZye2HJk_S"
      }
    },
    {
      "cell_type": "code",
      "source": [
        "import pyparticles.pset.rand_cluster as clu\n",
        "import pyparticles.forces.gravity as gr\n",
        "\n",
        "import pyparticles.ode.euler_solver as els\n",
        "\n",
        "import pyparticles.pset.particles_set as ps\n",
        "import pyparticles.pset.opencl_context as occ \n",
        "\n",
        "import pyparticles.animation.animated_ogl as aogl\n",
        "\n",
        "from pyparticles.utils.pypart_global import test_pyopencl\n",
        "\n",
        "import numpy as np\n",
        "\n",
        "def gravity_cluster():\n",
        "    \n",
        "    if not test_pyopencl() :\n",
        "        print(\"\")\n",
        "        print(\"Attention !!! \")\n",
        "        print(\" This demo works only with PyOpenCL: \\n  http://mathema.tician.de/software/pyopencl \\n  http://www.khronos.org/opencl/ \\n \")\n",
        "        print(\" Please install the package: python-pyopencl for continuing\")\n",
        "        print(\"\")\n",
        "        return \n",
        "        \n",
        "    \n",
        "    G = 0.000001\n",
        "    steps = 100000000\n",
        "    \n",
        "    n = 3000\n",
        "    dt = 0.04\n",
        "    \n",
        "    pset = ps.ParticlesSet( n , dtype=np.float32 ) \n",
        "        \n",
        "    cs = clu.RandGalaxyCluster()\n",
        "    \n",
        "    print(\"Building initial galaxy .... \")\n",
        "    cs.insert3( pset.X, M=pset.M, V=pset.V , G=G )\n",
        "    \n",
        "    try :\n",
        "        occx = occ.OpenCLcontext(  pset.size , pset.dim , (occ.OCLC_X|occ.OCLC_V|occ.OCLC_A|occ.OCLC_M) )\n",
        "    except :\n",
        "        print(\"\")\n",
        "        print(\"ERROR !!! \")\n",
        "        print(\" Please verify your opencl installation \")\n",
        "        print(\" Probably you must install your GPU OpenCL drivers\")\n",
        "        print(\"\")\n",
        "        return \n",
        "    \n",
        "    grav = gr.GravityOCL( pset.size , Consts=G , ocl_context=occx  )\n",
        "    grav.set_masses( pset.M )\n",
        "    \n",
        "    grav.update_force( pset )\n",
        "    \n",
        "    solver = els.EulerSolverOCL( grav , pset , dt , ocl_context=occx )\n",
        "    \n",
        "    a = aogl.AnimatedGl()\n",
        "        \n",
        "    a.draw_particles.set_draw_model( a.draw_particles.DRAW_MODEL_VECTOR )\n",
        "        \n",
        "    a.ode_solver = solver\n",
        "    a.pset = pset\n",
        "    a.steps = steps\n",
        "    \n",
        "    a.build_animation()\n",
        "    \n",
        "    a.start()\n",
        "    \n",
        "    return"
      ],
      "metadata": {
        "id": "xnkfllNjJmQ7"
      },
      "execution_count": null,
      "outputs": []
    },
    {
      "cell_type": "code",
      "source": [
        "gravity_cluster()"
      ],
      "metadata": {
        "colab": {
          "base_uri": "https://localhost:8080/",
          "height": 336
        },
        "id": "3AvNGTm5Jy0C",
        "outputId": "be6993cb-e2e4-45da-a4e0-4b4540733e8e"
      },
      "execution_count": null,
      "outputs": [
        {
          "output_type": "error",
          "ename": "ValueError",
          "evalue": "ignored",
          "traceback": [
            "\u001b[0;31m---------------------------------------------------------------------------\u001b[0m",
            "\u001b[0;31mValueError\u001b[0m                                Traceback (most recent call last)",
            "\u001b[0;32m<ipython-input-14-d50b3e3abd90>\u001b[0m in \u001b[0;36m<module>\u001b[0;34m\u001b[0m\n\u001b[0;32m----> 1\u001b[0;31m \u001b[0mgravity_cluster\u001b[0m\u001b[0;34m(\u001b[0m\u001b[0;34m)\u001b[0m\u001b[0;34m\u001b[0m\u001b[0;34m\u001b[0m\u001b[0m\n\u001b[0m",
            "\u001b[0;32m<ipython-input-13-d8e5e668696a>\u001b[0m in \u001b[0;36mgravity_cluster\u001b[0;34m()\u001b[0m\n\u001b[1;32m     46\u001b[0m     \u001b[0mdt\u001b[0m \u001b[0;34m=\u001b[0m \u001b[0;36m0.04\u001b[0m\u001b[0;34m\u001b[0m\u001b[0;34m\u001b[0m\u001b[0m\n\u001b[1;32m     47\u001b[0m \u001b[0;34m\u001b[0m\u001b[0m\n\u001b[0;32m---> 48\u001b[0;31m     \u001b[0mpset\u001b[0m \u001b[0;34m=\u001b[0m \u001b[0mps\u001b[0m\u001b[0;34m.\u001b[0m\u001b[0mParticlesSet\u001b[0m\u001b[0;34m(\u001b[0m \u001b[0mn\u001b[0m \u001b[0;34m,\u001b[0m \u001b[0mdtype\u001b[0m\u001b[0;34m=\u001b[0m\u001b[0mnp\u001b[0m\u001b[0;34m.\u001b[0m\u001b[0mfloat32\u001b[0m \u001b[0;34m)\u001b[0m\u001b[0;34m\u001b[0m\u001b[0;34m\u001b[0m\u001b[0m\n\u001b[0m\u001b[1;32m     49\u001b[0m \u001b[0;34m\u001b[0m\u001b[0m\n\u001b[1;32m     50\u001b[0m     \u001b[0mcs\u001b[0m \u001b[0;34m=\u001b[0m \u001b[0mclu\u001b[0m\u001b[0;34m.\u001b[0m\u001b[0mRandGalaxyCluster\u001b[0m\u001b[0;34m(\u001b[0m\u001b[0;34m)\u001b[0m\u001b[0;34m\u001b[0m\u001b[0;34m\u001b[0m\u001b[0m\n",
            "\u001b[0;32m/usr/local/lib/python3.8/dist-packages/pyparticles/pset/particles_set.py\u001b[0m in \u001b[0;36m__init__\u001b[0;34m(self, size, dim, boundary, label, mass, velocity, charge, log_X, log_V, log_max_size, dtype)\u001b[0m\n\u001b[1;32m     92\u001b[0m         \u001b[0mself\u001b[0m\u001b[0;34m.\u001b[0m\u001b[0m__property_dict\u001b[0m\u001b[0;34m[\u001b[0m\u001b[0;34m'V'\u001b[0m\u001b[0;34m]\u001b[0m \u001b[0;34m=\u001b[0m \u001b[0mself\u001b[0m\u001b[0;34m.\u001b[0m\u001b[0m__V\u001b[0m\u001b[0;34m\u001b[0m\u001b[0;34m\u001b[0m\u001b[0m\n\u001b[1;32m     93\u001b[0m \u001b[0;34m\u001b[0m\u001b[0m\n\u001b[0;32m---> 94\u001b[0;31m         \u001b[0;32mif\u001b[0m \u001b[0mself\u001b[0m\u001b[0;34m.\u001b[0m\u001b[0m__mass\u001b[0m  \u001b[0;34m!=\u001b[0m \u001b[0;32mNone\u001b[0m \u001b[0;34m:\u001b[0m\u001b[0;34m\u001b[0m\u001b[0;34m\u001b[0m\u001b[0m\n\u001b[0m\u001b[1;32m     95\u001b[0m             \u001b[0mself\u001b[0m\u001b[0;34m.\u001b[0m\u001b[0m__property_dict\u001b[0m\u001b[0;34m[\u001b[0m\u001b[0;34m'M'\u001b[0m\u001b[0;34m]\u001b[0m \u001b[0;34m=\u001b[0m \u001b[0mself\u001b[0m\u001b[0;34m.\u001b[0m\u001b[0m__mass\u001b[0m\u001b[0;34m\u001b[0m\u001b[0;34m\u001b[0m\u001b[0m\n\u001b[1;32m     96\u001b[0m \u001b[0;34m\u001b[0m\u001b[0m\n",
            "\u001b[0;31mValueError\u001b[0m: The truth value of an array with more than one element is ambiguous. Use a.any() or a.all()"
          ]
        }
      ]
    },
    {
      "cell_type": "markdown",
      "source": [
        "#pseudo_bubble"
      ],
      "metadata": {
        "id": "yo6Q1K6RMx6o"
      }
    },
    {
      "cell_type": "code",
      "source": [
        "\n",
        "import os\n",
        "#os.environ['PYOPENCL_COMPILER_OUTPUT'] = '1'\n",
        "\n",
        "import pyparticles.pset.particles_set as ps\n",
        "\n",
        "import pyparticles.forces.pseudo_bubble as pb\n",
        "import pyparticles.forces.const_force as cf\n",
        "import pyparticles.forces.drag as dr\n",
        "import pyparticles.forces.multiple_force as mf\n",
        "\n",
        "import pyparticles.ode.euler_solver as els\n",
        "import pyparticles.ode.leapfrog_solver as lps\n",
        "import pyparticles.ode.runge_kutta_solver as rks\n",
        "import pyparticles.ode.stormer_verlet_solver as svs\n",
        "import pyparticles.ode.midpoint_solver as mds\n",
        "\n",
        "import pyparticles.pset.rand_cluster as rc\n",
        "import pyparticles.pset.rebound_boundary as rb\n",
        "\n",
        "import pyparticles.animation.animated_ogl as aogl\n",
        "\n",
        "import numpy as np\n",
        "\n",
        "from pyparticles.utils.pypart_global import test_pyopencl\n",
        "import pyparticles.pset.opencl_context as occ \n",
        "\n",
        "\n",
        "def bubble():\n",
        "    \"\"\"\n",
        "    Pseudo bubble simulation\n",
        "    \"\"\"\n",
        "    \n",
        "    ocl_ok = test_pyopencl()\n",
        "    \n",
        "    if ocl_ok :\n",
        "        pcnt = 9000\n",
        "        r_min=0.5\n",
        "        occx = occ.OpenCLcontext( pcnt , 3  )\n",
        "    else :\n",
        "        pcnt = 700\n",
        "        r_min = 1.5\n",
        "    \n",
        "    steps = 1000000\n",
        "    dt = 0.01\n",
        "    \n",
        "    \n",
        "    rand_c = rc.RandCluster()\n",
        "    \n",
        "    pset = ps.ParticlesSet( pcnt , dtype=np.float32 )\n",
        "    \n",
        "    rand_c.insert3( X=pset.X ,\n",
        "                    M=pset.M ,\n",
        "                    start_indx=0 ,\n",
        "                    n=pset.size ,\n",
        "                    radius=3.0 ,\n",
        "                    mass_rng=(0.5,0.8) ,\n",
        "                    r_min=0.0 )\n",
        "    \n",
        "    if ocl_ok :\n",
        "        bubble = pb.PseudoBubbleOCL( pset.size , pset.dim , Consts=(r_min,10) )\n",
        "        drag = dr.DragOCL( pset.size , pset.dim , Consts=0.01 )\n",
        "    else :\n",
        "        bubble = pb.PseudoBubble( pset.size , pset.dim , Consts=(r_min,10) )\n",
        "        drag = dr.Drag( pset.size , pset.dim , Consts=0.01 )\n",
        "\n",
        "    constf = cf.ConstForce( pset.size , dim=pset.dim , u_force=[ 0 , 0 , -10.0 ] )\n",
        "    \n",
        "    multif = mf.MultipleForce( pset.size , pset.dim )\n",
        "    multif.append_force( bubble )\n",
        "    multif.append_force( constf )\n",
        "    multif.append_force( drag )\n",
        "    \n",
        "    multif.set_masses( pset.M )\n",
        "    \n",
        "    #solver = els.EulerSolver( multif , pset , dt )\n",
        "    solver = lps.LeapfrogSolver( multif , pset , dt )\n",
        "    #solver = svs.StormerVerletSolver( multif , pset , dt )\n",
        "    #solver = rks.RungeKuttaSolver( lennard_jones , pset , dt )    \n",
        "    #solver = mds.MidpointSolver( lennard_jones , pset , dt ) \n",
        "    \n",
        "    bound = rb.ReboundBoundary( bound=(-5.0,5.0) )\n",
        "    \n",
        "    pset.set_boundary( bound )\n",
        "    \n",
        "    a = aogl.AnimatedGl()\n",
        "    \n",
        "    a.ode_solver = solver\n",
        "    a.pset = pset\n",
        "    a.steps = steps\n",
        "    \n",
        "    if ocl_ok :\n",
        "        a.draw_particles.set_draw_model( a.draw_particles.DRAW_MODEL_VECTOR )\n",
        "        \n",
        "    a.init_rotation( -80 , [ 0.7 , 0.05 , 0 ]  )\n",
        "    \n",
        "    a.build_animation()\n",
        "    \n",
        "    a.start()\n",
        "    \n",
        "    return"
      ],
      "metadata": {
        "id": "S3Cv72RtJ08y"
      },
      "execution_count": null,
      "outputs": []
    },
    {
      "cell_type": "code",
      "source": [
        "bubble()"
      ],
      "metadata": {
        "colab": {
          "base_uri": "https://localhost:8080/",
          "height": 318
        },
        "id": "RNBAPjW6NNeO",
        "outputId": "2d47c782-5ebf-4ace-bfd1-7a1736eee583"
      },
      "execution_count": null,
      "outputs": [
        {
          "output_type": "error",
          "ename": "RuntimeError",
          "evalue": "ignored",
          "traceback": [
            "\u001b[0;31m---------------------------------------------------------------------------\u001b[0m",
            "\u001b[0;31mRuntimeError\u001b[0m                              Traceback (most recent call last)",
            "\u001b[0;32m<ipython-input-22-af076cbaa3b2>\u001b[0m in \u001b[0;36m<module>\u001b[0;34m\u001b[0m\n\u001b[0;32m----> 1\u001b[0;31m \u001b[0mbubble\u001b[0m\u001b[0;34m(\u001b[0m\u001b[0;34m)\u001b[0m\u001b[0;34m\u001b[0m\u001b[0;34m\u001b[0m\u001b[0m\n\u001b[0m",
            "\u001b[0;32m<ipython-input-21-9cebf2451234>\u001b[0m in \u001b[0;36mbubble\u001b[0;34m()\u001b[0m\n\u001b[1;32m     36\u001b[0m         \u001b[0mpcnt\u001b[0m \u001b[0;34m=\u001b[0m \u001b[0;36m9000\u001b[0m\u001b[0;34m\u001b[0m\u001b[0;34m\u001b[0m\u001b[0m\n\u001b[1;32m     37\u001b[0m         \u001b[0mr_min\u001b[0m\u001b[0;34m=\u001b[0m\u001b[0;36m0.5\u001b[0m\u001b[0;34m\u001b[0m\u001b[0;34m\u001b[0m\u001b[0m\n\u001b[0;32m---> 38\u001b[0;31m         \u001b[0moccx\u001b[0m \u001b[0;34m=\u001b[0m \u001b[0mocc\u001b[0m\u001b[0;34m.\u001b[0m\u001b[0mOpenCLcontext\u001b[0m\u001b[0;34m(\u001b[0m \u001b[0mpcnt\u001b[0m \u001b[0;34m,\u001b[0m \u001b[0;36m3\u001b[0m  \u001b[0;34m)\u001b[0m\u001b[0;34m\u001b[0m\u001b[0;34m\u001b[0m\u001b[0m\n\u001b[0m\u001b[1;32m     39\u001b[0m     \u001b[0;32melse\u001b[0m \u001b[0;34m:\u001b[0m\u001b[0;34m\u001b[0m\u001b[0;34m\u001b[0m\u001b[0m\n\u001b[1;32m     40\u001b[0m         \u001b[0mpcnt\u001b[0m \u001b[0;34m=\u001b[0m \u001b[0;36m700\u001b[0m\u001b[0;34m\u001b[0m\u001b[0;34m\u001b[0m\u001b[0m\n",
            "\u001b[0;32m/usr/local/lib/python3.8/dist-packages/pyparticles/pset/opencl_context.py\u001b[0m in \u001b[0;36m__init__\u001b[0;34m(self, size, dim, mask, dtype)\u001b[0m\n\u001b[1;32m     70\u001b[0m         \u001b[0mself\u001b[0m\u001b[0;34m.\u001b[0m\u001b[0m__opt_arrays\u001b[0m \u001b[0;34m=\u001b[0m \u001b[0mdict\u001b[0m\u001b[0;34m(\u001b[0m\u001b[0;34m)\u001b[0m\u001b[0;34m\u001b[0m\u001b[0;34m\u001b[0m\u001b[0m\n\u001b[1;32m     71\u001b[0m \u001b[0;34m\u001b[0m\u001b[0m\n\u001b[0;32m---> 72\u001b[0;31m         \u001b[0mself\u001b[0m\u001b[0;34m.\u001b[0m\u001b[0m__cl_context\u001b[0m \u001b[0;34m=\u001b[0m \u001b[0mcl\u001b[0m\u001b[0;34m.\u001b[0m\u001b[0mcreate_some_context\u001b[0m\u001b[0;34m(\u001b[0m\u001b[0;34m)\u001b[0m\u001b[0;34m\u001b[0m\u001b[0;34m\u001b[0m\u001b[0m\n\u001b[0m\u001b[1;32m     73\u001b[0m         \u001b[0mself\u001b[0m\u001b[0;34m.\u001b[0m\u001b[0m__cl_queue\u001b[0m \u001b[0;34m=\u001b[0m \u001b[0mcl\u001b[0m\u001b[0;34m.\u001b[0m\u001b[0mCommandQueue\u001b[0m\u001b[0;34m(\u001b[0m\u001b[0mself\u001b[0m\u001b[0;34m.\u001b[0m\u001b[0m__cl_context\u001b[0m\u001b[0;34m,\u001b[0m \u001b[0mproperties\u001b[0m\u001b[0;34m=\u001b[0m\u001b[0mcl\u001b[0m\u001b[0;34m.\u001b[0m\u001b[0mcommand_queue_properties\u001b[0m\u001b[0;34m.\u001b[0m\u001b[0mPROFILING_ENABLE\u001b[0m \u001b[0;34m)\u001b[0m\u001b[0;34m\u001b[0m\u001b[0;34m\u001b[0m\u001b[0m\n\u001b[1;32m     74\u001b[0m \u001b[0;34m\u001b[0m\u001b[0m\n",
            "\u001b[0;32m/usr/local/lib/python3.8/dist-packages/pyopencl/__init__.py\u001b[0m in \u001b[0;36mcreate_some_context\u001b[0;34m(interactive, answers)\u001b[0m\n\u001b[1;32m   1672\u001b[0m \u001b[0;34m\u001b[0m\u001b[0m\n\u001b[1;32m   1673\u001b[0m     \u001b[0;32mif\u001b[0m \u001b[0manswers\u001b[0m\u001b[0;34m:\u001b[0m\u001b[0;34m\u001b[0m\u001b[0;34m\u001b[0m\u001b[0m\n\u001b[0;32m-> 1674\u001b[0;31m         raise RuntimeError(\"not all provided choices were used by \"\n\u001b[0m\u001b[1;32m   1675\u001b[0m                 \"create_some_context. (left over: '%s')\" % \":\".join(answers))\n\u001b[1;32m   1676\u001b[0m \u001b[0;34m\u001b[0m\u001b[0m\n",
            "\u001b[0;31mRuntimeError\u001b[0m: not all provided choices were used by create_some_context. (left over: '0')"
          ]
        }
      ]
    },
    {
      "cell_type": "markdown",
      "source": [
        "#Param platform"
      ],
      "metadata": {
        "id": "7CZDj309Pe67"
      }
    },
    {
      "cell_type": "code",
      "source": [
        "import pyopencl as cl"
      ],
      "metadata": {
        "id": "fzQsXXVXNSm1"
      },
      "execution_count": null,
      "outputs": []
    },
    {
      "cell_type": "code",
      "source": [
        "def print_device_info() :\n",
        "    print('\\n' + '=' * 60 + '\\nOpenCL Platforms and Devices')\n",
        "    for platform in cl.get_platforms():\n",
        "        print('=' * 60)\n",
        "        print('Platform - Name: ' + platform.name)\n",
        "        print('Platform - Vendor: ' + platform.vendor)\n",
        "        print('Platform - Version: ' + platform.version)\n",
        "        print('Platform - Profile: ' + platform.profile)\n",
        "\n",
        "        for device in platform.get_devices():\n",
        "            print(' ' + '-' * 56)\n",
        "            print(' Device - Name: ' \\\n",
        "                  + device.name)\n",
        "            print(' Device - Type: ' \\\n",
        "                  + cl.device_type.to_string(device.type))\n",
        "            print(' Device - Max Clock Speed: {0} Mhz'\\\n",
        "                  .format(device.max_clock_frequency))\n",
        "            print(' Device - Compute Units: {0}'\\\n",
        "                  .format(device.max_compute_units))\n",
        "            print(' Device - Local Memory: {0:.0f} KB'\\\n",
        "                  .format(device.local_mem_size/1024.0))\n",
        "            print(' Device - Constant Memory: {0:.0f} KB'\\\n",
        "                  .format(device.max_constant_buffer_size/1024.0))\n",
        "            print(' Device - Global Memory: {0:.0f} GB'\\\n",
        "                  .format(device.global_mem_size/1073741824.0))\n",
        "            print(' Device - Max Buffer/Image Size: {0:.0f} MB'\\\n",
        "                  .format(device.max_mem_alloc_size/1048576.0))\n",
        "            print(' Device - Max Work Group Size: {0:.0f}'\\\n",
        "                  .format(device.max_work_group_size))\n",
        "    print('\\n')"
      ],
      "metadata": {
        "id": "JmU2_TJjPjIa"
      },
      "execution_count": null,
      "outputs": []
    },
    {
      "cell_type": "code",
      "source": [
        "if __name__ == \"__main__\":\n",
        "    print_device_info()"
      ],
      "metadata": {
        "colab": {
          "base_uri": "https://localhost:8080/"
        },
        "id": "tUU9Dk7tPkPr",
        "outputId": "be63ded3-c6af-4317-94e1-f1dd59db364b"
      },
      "execution_count": null,
      "outputs": [
        {
          "output_type": "stream",
          "name": "stdout",
          "text": [
            "\n",
            "============================================================\n",
            "OpenCL Platforms and Devices\n",
            "============================================================\n",
            "Platform - Name: NVIDIA CUDA\n",
            "Platform - Vendor: NVIDIA Corporation\n",
            "Platform - Version: OpenCL 1.2 CUDA 11.2.109\n",
            "Platform - Profile: FULL_PROFILE\n",
            " --------------------------------------------------------\n",
            " Device - Name: Tesla T4\n",
            " Device - Type: ALL | GPU\n",
            " Device - Max Clock Speed: 1590 Mhz\n",
            " Device - Compute Units: 40\n",
            " Device - Local Memory: 48 KB\n",
            " Device - Constant Memory: 64 KB\n",
            " Device - Global Memory: 15 GB\n",
            " Device - Max Buffer/Image Size: 3777 MB\n",
            " Device - Max Work Group Size: 1024\n",
            "\n",
            "\n"
          ]
        }
      ]
    },
    {
      "cell_type": "markdown",
      "source": [
        "#plus vector"
      ],
      "metadata": {
        "id": "stjqpf4QPrhP"
      }
    },
    {
      "cell_type": "code",
      "source": [
        "import numpy as np\n",
        "import pyopencl as cl\n",
        "import numpy.linalg as la"
      ],
      "metadata": {
        "id": "Q9GG5b2uPlrb"
      },
      "execution_count": null,
      "outputs": []
    },
    {
      "cell_type": "code",
      "source": [
        "vector_dimension = 100"
      ],
      "metadata": {
        "id": "Urwb7CJ3PyKD"
      },
      "execution_count": null,
      "outputs": []
    },
    {
      "cell_type": "code",
      "source": [
        "vector_a = np.random.randint(vector_dimension,size=vector_dimension) \n",
        "vector_b = np.random.randint(vector_dimension,size=vector_dimension)"
      ],
      "metadata": {
        "id": "_A_xhqJVPzjN"
      },
      "execution_count": null,
      "outputs": []
    },
    {
      "cell_type": "code",
      "source": [
        "platform = cl.get_platforms()[0]\n",
        "device = platform.get_devices()[0]\n",
        "context = cl.Context([device])\n",
        "queue = cl.CommandQueue(context)"
      ],
      "metadata": {
        "id": "yqeOnb7RP0dz"
      },
      "execution_count": null,
      "outputs": []
    },
    {
      "cell_type": "code",
      "source": [
        "mf = cl.mem_flags \n",
        "a_g = cl.Buffer(context, mf.READ_ONLY | mf.COPY_HOST_PTR, hostbuf=vector_a) \n",
        "b_g = cl.Buffer(context, mf.READ_ONLY | mf.COPY_HOST_PTR, hostbuf=vector_b) "
      ],
      "metadata": {
        "id": "xqoSbdUHP1O_"
      },
      "execution_count": null,
      "outputs": []
    },
    {
      "cell_type": "code",
      "source": [
        "program = cl.Program(context, \"\"\" \n",
        "__kernel void vectorSum(__global const int *a_g, __global const int *b_g, __global int *res_g) { \n",
        "  int gid = get_global_id(0); \n",
        "  res_g[gid] = a_g[gid] + b_g[gid]; \n",
        "} \n",
        "\"\"\").build()"
      ],
      "metadata": {
        "id": "aw9Jz7SbP2HK"
      },
      "execution_count": null,
      "outputs": []
    },
    {
      "cell_type": "code",
      "source": [
        "res_g = cl.Buffer(context, mf.WRITE_ONLY, vector_a.nbytes)"
      ],
      "metadata": {
        "id": "OO7HK5EKP2-2"
      },
      "execution_count": null,
      "outputs": []
    },
    {
      "cell_type": "code",
      "source": [
        "program.vectorSum(queue, vector_a.shape, None, a_g, b_g, res_g)"
      ],
      "metadata": {
        "colab": {
          "base_uri": "https://localhost:8080/"
        },
        "id": "d9WLMnvBP4ZS",
        "outputId": "be16e727-8c7d-407d-8c56-505e20ff40ff"
      },
      "execution_count": null,
      "outputs": [
        {
          "output_type": "execute_result",
          "data": {
            "text/plain": [
              "<pyopencl._cl.Event at 0x7f91470f2590>"
            ]
          },
          "metadata": {},
          "execution_count": 33
        }
      ]
    },
    {
      "cell_type": "code",
      "source": [
        "res_np = np.empty_like(vector_a)"
      ],
      "metadata": {
        "id": "oaHSrJj3P5Zi"
      },
      "execution_count": null,
      "outputs": []
    },
    {
      "cell_type": "code",
      "source": [
        "cl.enqueue_copy(queue, res_np, res_g)"
      ],
      "metadata": {
        "colab": {
          "base_uri": "https://localhost:8080/"
        },
        "id": "yW0ZfzWTP6la",
        "outputId": "33be0603-b175-46b7-a96c-debadf3febe3"
      },
      "execution_count": null,
      "outputs": [
        {
          "output_type": "execute_result",
          "data": {
            "text/plain": [
              "<pyopencl._cl.NannyEvent at 0x7f914709bc70>"
            ]
          },
          "metadata": {},
          "execution_count": 35
        }
      ]
    },
    {
      "cell_type": "code",
      "source": [
        "print (\"PyOPENCL SUM OF TWO VECTORS\")\n",
        "print (\"Platform Selected = %s\" %platform.name )\n",
        "print (\"Device Selected = %s\" %device.name)\n",
        "print (\"VECTOR LENGTH = %s\" %vector_dimension)\n",
        "print (\"INPUT VECTOR A\")\n",
        "print (vector_a)\n",
        "print (\"INPUT VECTOR B\")\n",
        "print (vector_b)\n",
        "print (\"OUTPUT VECTOR RESULT A + B \")\n",
        "print (res_np)"
      ],
      "metadata": {
        "colab": {
          "base_uri": "https://localhost:8080/"
        },
        "id": "WPq6lM-KP7sR",
        "outputId": "0a13a412-84a6-4932-d24b-0fb3aca908e6"
      },
      "execution_count": null,
      "outputs": [
        {
          "output_type": "stream",
          "name": "stdout",
          "text": [
            "PyOPENCL SUM OF TWO VECTORS\n",
            "Platform Selected = NVIDIA CUDA\n",
            "Device Selected = Tesla T4\n",
            "VECTOR LENGTH = 100\n",
            "INPUT VECTOR A\n",
            "[83 77 52  4 42 64 87 46 13 97 14  1 69  6 31 44 93  4  6 76 21 85 57 76\n",
            " 82 67 38 30 12 80 70 45 59 31 96  9 28 21  0 42 65 69 96 10 27 17 80 50\n",
            " 72 72 99 88 68 91 94 82 89 55 78 34  8 53 39 50 21 79 47 58 81  2 89 54\n",
            " 80  0 60 62 36  4 82 56 67 59 75 72 92 52 13 94  0  6 54 33 91 22 19 88\n",
            " 92 59 91 73]\n",
            "INPUT VECTOR B\n",
            "[74 60 45 12 99 58 87 84 41 69 65 19 53 20  7 30 30 71  6 79 18 94 64 11\n",
            " 36 67 61 74 14 18 33 11 87 60 90 27 63 32 14 58 26 72 75  9 29 57 62 90\n",
            " 75 90 19 25 87  7 65  4 62 79 38 24 78 55 71 72 76 95 37 81 22 55 75 65\n",
            " 45 99 21 26  4  3 99 15 65 86 42 25 93 64  7 33 56 89 95 62 51 82 30 56\n",
            " 21 46 43 24]\n",
            "OUTPUT VECTOR RESULT A + B \n",
            "[157 137  97  16 141 122 174 130  54 166  79  20 122  26  38  74 123  75\n",
            "  12 155  39 179 121  87 118 134  99 104  26  98 103  56 146  91 186  36\n",
            "  91  53  14 100  91 141 171  19  56  74 142 140 147 162   0   0   0   0\n",
            "   0   0   0   0   0   0   0   0   0   0   0   0   0   0   0   0   0   0\n",
            "   0   0   0   0   0   0   0   0   0   0   0   0   0   0   0   0   0   0\n",
            "   0   0   0   0   0   0   0   0   0   0]\n"
          ]
        }
      ]
    },
    {
      "cell_type": "markdown",
      "source": [
        "#plus vector gpu and cpu"
      ],
      "metadata": {
        "id": "4UyeK2AZQTsp"
      }
    },
    {
      "cell_type": "code",
      "source": [
        "from time import time  # Import time tools\n",
        "\n",
        "import pyopencl as cl  \n",
        "import numpy as np   \n",
        "#import deviceInfoPyopencl as device_info\n",
        "import numpy.linalg as la\n",
        "\n",
        "#input vectors \n",
        "a = np.random.rand(10000).astype(np.float32)  \n",
        "b = np.random.rand(10000).astype(np.float32)   \n",
        "\n",
        "def test_cpu_vector_sum(a, b):  \n",
        "    c_cpu = np.empty_like(a)   \n",
        "    cpu_start_time = time()  \n",
        "    for i in range(10000):\n",
        "            for j in range(10000):  \n",
        "                    c_cpu[i] = a[i] + b[i]  \n",
        "    cpu_end_time = time()   \n",
        "    print(\"CPU Time: {0} s\".format(cpu_end_time - cpu_start_time))   \n",
        "    return c_cpu   \n",
        "\n",
        "def test_gpu_vector_sum(a, b):\n",
        "    #define the PyOpenCL Context\n",
        "    platform = cl.get_platforms()[0]\n",
        "    device = platform.get_devices()[0]\n",
        "    context = cl.Context([device])\n",
        "    queue = cl.CommandQueue(context, \\\n",
        "                            properties=cl.command_queue_properties.PROFILING_ENABLE)   \n",
        "    #prepare the data structure\n",
        "    a_buffer = cl.Buffer\\\n",
        "               (context, cl.mem_flags.READ_ONLY | cl.mem_flags.COPY_HOST_PTR, hostbuf=a)\n",
        "    b_buffer = cl.Buffer\\\n",
        "               (context, cl.mem_flags.READ_ONLY | cl.mem_flags.COPY_HOST_PTR, hostbuf=b)\n",
        "    c_buffer = cl.Buffer\\\n",
        "               (context, cl.mem_flags.WRITE_ONLY, b.nbytes)   \n",
        "    program = cl.Program(context, \"\"\"\n",
        "    __kernel void sum(__global const float *a, __global const float *b, __global float *c)\n",
        "    {\n",
        "        int i = get_global_id(0);\n",
        "        int j;\n",
        "        for(j = 0; j < 10000; j++)\n",
        "        {\n",
        "            c[i] = a[i] + b[i];\n",
        "        }\n",
        "    }\"\"\").build()\n",
        "    #start the gpu test\n",
        "    gpu_start_time = time()   \n",
        "    event = program.sum(queue, a.shape, None, a_buffer, b_buffer, c_buffer)   \n",
        "    event.wait()   \n",
        "    elapsed = 1e-9*(event.profile.end - event.profile.start)   \n",
        "    print(\"GPU Kernel evaluation Time: {0} s\".format(elapsed))   \n",
        "    c_gpu = np.empty_like(a)  \n",
        "    cl._enqueue_read_buffer(queue, c_buffer, c_gpu).wait()  \n",
        "    gpu_end_time = time()  \n",
        "    print(\"GPU Time: {0} s\".format(gpu_end_time - gpu_start_time))   \n",
        "    return c_gpu   \n",
        "\n",
        "#start the test\n",
        "if __name__ == \"__main__\":\n",
        "    #print the device info\n",
        "  #  device_info.print_device_info()\n",
        "    #call the test on the cpu\n",
        "    cpu_result = test_cpu_vector_sum(a, b)\n",
        "    #call the test on the gpu\n",
        "    gpu_result = test_gpu_vector_sum(a, b)\n",
        "    assert (la.norm(cpu_result - gpu_result)) < 1e-5"
      ],
      "metadata": {
        "colab": {
          "base_uri": "https://localhost:8080/"
        },
        "id": "SffFj7VEP_GC",
        "outputId": "beaf3a4e-ec1c-4fc5-ed41-822acfb2963f"
      },
      "execution_count": null,
      "outputs": [
        {
          "output_type": "stream",
          "name": "stdout",
          "text": [
            "CPU Time: 31.39669132232666 s\n",
            "GPU Kernel evaluation Time: 0.0012363200000000002 s\n",
            "GPU Time: 0.003478527069091797 s\n"
          ]
        }
      ]
    },
    {
      "cell_type": "code",
      "source": [
        "import pyopencl as cl\n",
        "import pyopencl.array as cl_array\n",
        "import numpy\n",
        "import numpy.linalg as la\n",
        "\n",
        "ctx = cl.create_some_context()\n",
        "queue = cl.CommandQueue(ctx)\n",
        "\n",
        "n = 10\n",
        "a_gpu = cl_array.to_device(queue,\n",
        "        (numpy.random.randn(n) + 1j*numpy.random.randn(n)).astype(numpy.complex64))\n",
        "b_gpu = cl_array.to_device(queue,\n",
        "        (numpy.random.randn(n) + 1j*numpy.random.randn(n)).astype(numpy.complex64))\n",
        "\n",
        "from pyopencl.elementwise import ElementwiseKernel\n",
        "complex_prod = ElementwiseKernel(ctx,\n",
        "        \"float a, \"\n",
        "        \"cfloat_t *x, \"\n",
        "        \"cfloat_t *y, \"\n",
        "        \"cfloat_t *z\",\n",
        "        \"z[i] = cfloat_rmul(a, cfloat_mul(x[i], y[i]))\",\n",
        "        \"complex_prod\",\n",
        "        preamble=\"#include <pyopencl-complex.h>\")\n",
        "\n",
        "complex_add = ElementwiseKernel(ctx,\n",
        "        \"cfloat_t *x, \"\n",
        "        \"cfloat_t *y, \"\n",
        "        \"cfloat_t *z\",\n",
        "        \"z[i] = cfloat_add(x[i], y[i])\",\n",
        "        \"complex_add\",\n",
        "        preamble=\"#include <pyopencl-complex.h>\")\n",
        "\n",
        "real_part = ElementwiseKernel(ctx,\n",
        "        \"cfloat_t *x, float *z\",\n",
        "        \"z[i] = cfloat_real(x[i])\",\n",
        "        \"real_part\",\n",
        "        preamble=\"#include <pyopencl-complex.h>\")\n",
        "\n",
        "c_gpu = cl_array.empty_like(a_gpu)\n",
        "complex_prod(5, a_gpu, b_gpu, c_gpu)\n",
        "\n",
        "c_gpu_real = cl_array.empty(queue, len(a_gpu), dtype=numpy.float32)\n",
        "real_part(c_gpu, c_gpu_real)\n",
        "print(c_gpu.get().real - c_gpu_real.get())\n",
        "\n",
        "print(la.norm(c_gpu.get() - (5*a_gpu.get()*b_gpu.get())))\n",
        "assert la.norm(c_gpu.get() - (5*a_gpu.get()*b_gpu.get())) < 1e-5"
      ],
      "metadata": {
        "colab": {
          "base_uri": "https://localhost:8080/",
          "height": 366
        },
        "id": "LhQmpiCPQX2a",
        "outputId": "f5ba6086-6341-478b-a9ea-f60424eff04d"
      },
      "execution_count": null,
      "outputs": [
        {
          "output_type": "error",
          "ename": "RuntimeError",
          "evalue": "ignored",
          "traceback": [
            "\u001b[0;31m---------------------------------------------------------------------------\u001b[0m",
            "\u001b[0;31mRuntimeError\u001b[0m                              Traceback (most recent call last)",
            "\u001b[0;32m<ipython-input-46-4c3a2cf9288d>\u001b[0m in \u001b[0;36m<module>\u001b[0;34m\u001b[0m\n\u001b[1;32m      4\u001b[0m \u001b[0;32mimport\u001b[0m \u001b[0mnumpy\u001b[0m\u001b[0;34m.\u001b[0m\u001b[0mlinalg\u001b[0m \u001b[0;32mas\u001b[0m \u001b[0mla\u001b[0m\u001b[0;34m\u001b[0m\u001b[0;34m\u001b[0m\u001b[0m\n\u001b[1;32m      5\u001b[0m \u001b[0;34m\u001b[0m\u001b[0m\n\u001b[0;32m----> 6\u001b[0;31m \u001b[0mctx\u001b[0m \u001b[0;34m=\u001b[0m \u001b[0mcl\u001b[0m\u001b[0;34m.\u001b[0m\u001b[0mcreate_some_context\u001b[0m\u001b[0;34m(\u001b[0m\u001b[0;34m)\u001b[0m\u001b[0;34m\u001b[0m\u001b[0;34m\u001b[0m\u001b[0m\n\u001b[0m\u001b[1;32m      7\u001b[0m \u001b[0mqueue\u001b[0m \u001b[0;34m=\u001b[0m \u001b[0mcl\u001b[0m\u001b[0;34m.\u001b[0m\u001b[0mCommandQueue\u001b[0m\u001b[0;34m(\u001b[0m\u001b[0mctx\u001b[0m\u001b[0;34m)\u001b[0m\u001b[0;34m\u001b[0m\u001b[0;34m\u001b[0m\u001b[0m\n\u001b[1;32m      8\u001b[0m \u001b[0;34m\u001b[0m\u001b[0m\n",
            "\u001b[0;32m/usr/local/lib/python3.8/dist-packages/pyopencl/__init__.py\u001b[0m in \u001b[0;36mcreate_some_context\u001b[0;34m(interactive, answers)\u001b[0m\n\u001b[1;32m   1672\u001b[0m \u001b[0;34m\u001b[0m\u001b[0m\n\u001b[1;32m   1673\u001b[0m     \u001b[0;32mif\u001b[0m \u001b[0manswers\u001b[0m\u001b[0;34m:\u001b[0m\u001b[0;34m\u001b[0m\u001b[0;34m\u001b[0m\u001b[0m\n\u001b[0;32m-> 1674\u001b[0;31m         raise RuntimeError(\"not all provided choices were used by \"\n\u001b[0m\u001b[1;32m   1675\u001b[0m                 \"create_some_context. (left over: '%s')\" % \":\".join(answers))\n\u001b[1;32m   1676\u001b[0m \u001b[0;34m\u001b[0m\u001b[0m\n",
            "\u001b[0;31mRuntimeError\u001b[0m: not all provided choices were used by create_some_context. (left over: '0')"
          ]
        }
      ]
    },
    {
      "cell_type": "code",
      "source": [],
      "metadata": {
        "id": "sgyCi3oqQ9UJ"
      },
      "execution_count": null,
      "outputs": []
    }
  ]
}